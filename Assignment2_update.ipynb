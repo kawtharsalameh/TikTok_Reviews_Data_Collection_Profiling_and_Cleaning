{
  "cells": [
    {
      "cell_type": "markdown",
      "metadata": {
        "id": "cwmOFzxboAAJ"
      },
      "source": [
        "# **1. Data Profiling**"
      ]
    },
    {
      "cell_type": "markdown",
      "metadata": {
        "id": "5tZ1hcCvgUdZ"
      },
      "source": [
        "\n",
        "**Load the Dataset**\n"
      ]
    },
    {
      "cell_type": "code",
      "execution_count": 1,
      "metadata": {
        "id": "oVZloDy7w5h5"
      },
      "outputs": [],
      "source": [
        "import pandas as pd\n",
        "reviews = pd.read_csv(\"/content/tiktok_reviews.csv\")"
      ]
    },
    {
      "cell_type": "code",
      "execution_count": 2,
      "metadata": {
        "colab": {
          "base_uri": "https://localhost:8080/",
          "height": 206
        },
        "id": "29Uny8_7xO2J",
        "outputId": "66c91af8-81e2-464d-82a0-dc11a760a3a7"
      },
      "outputs": [
        {
          "output_type": "execute_result",
          "data": {
            "text/plain": [
              "   Rating                                             Review  \\\n",
              "0       5                                            Love it   \n",
              "1       5                                           Md Sagor   \n",
              "2       2  Dear, TikTok team my big problem my account is...   \n",
              "3       1                                    عامين باش يتعمر   \n",
              "4       2  My activity and notifications tabs won't load,...   \n",
              "\n",
              "             Timestamp  \n",
              "0  2024-11-16 13:09:37  \n",
              "1  2024-11-16 13:08:05  \n",
              "2  2024-11-16 13:07:19  \n",
              "3  2024-11-16 13:05:08  \n",
              "4  2024-11-16 13:04:47  "
            ],
            "text/html": [
              "\n",
              "  <div id=\"df-4aecff58-dcfb-4d9e-af96-343a92bdf1e0\" class=\"colab-df-container\">\n",
              "    <div>\n",
              "<style scoped>\n",
              "    .dataframe tbody tr th:only-of-type {\n",
              "        vertical-align: middle;\n",
              "    }\n",
              "\n",
              "    .dataframe tbody tr th {\n",
              "        vertical-align: top;\n",
              "    }\n",
              "\n",
              "    .dataframe thead th {\n",
              "        text-align: right;\n",
              "    }\n",
              "</style>\n",
              "<table border=\"1\" class=\"dataframe\">\n",
              "  <thead>\n",
              "    <tr style=\"text-align: right;\">\n",
              "      <th></th>\n",
              "      <th>Rating</th>\n",
              "      <th>Review</th>\n",
              "      <th>Timestamp</th>\n",
              "    </tr>\n",
              "  </thead>\n",
              "  <tbody>\n",
              "    <tr>\n",
              "      <th>0</th>\n",
              "      <td>5</td>\n",
              "      <td>Love it</td>\n",
              "      <td>2024-11-16 13:09:37</td>\n",
              "    </tr>\n",
              "    <tr>\n",
              "      <th>1</th>\n",
              "      <td>5</td>\n",
              "      <td>Md Sagor</td>\n",
              "      <td>2024-11-16 13:08:05</td>\n",
              "    </tr>\n",
              "    <tr>\n",
              "      <th>2</th>\n",
              "      <td>2</td>\n",
              "      <td>Dear, TikTok team my big problem my account is...</td>\n",
              "      <td>2024-11-16 13:07:19</td>\n",
              "    </tr>\n",
              "    <tr>\n",
              "      <th>3</th>\n",
              "      <td>1</td>\n",
              "      <td>عامين باش يتعمر</td>\n",
              "      <td>2024-11-16 13:05:08</td>\n",
              "    </tr>\n",
              "    <tr>\n",
              "      <th>4</th>\n",
              "      <td>2</td>\n",
              "      <td>My activity and notifications tabs won't load,...</td>\n",
              "      <td>2024-11-16 13:04:47</td>\n",
              "    </tr>\n",
              "  </tbody>\n",
              "</table>\n",
              "</div>\n",
              "    <div class=\"colab-df-buttons\">\n",
              "\n",
              "  <div class=\"colab-df-container\">\n",
              "    <button class=\"colab-df-convert\" onclick=\"convertToInteractive('df-4aecff58-dcfb-4d9e-af96-343a92bdf1e0')\"\n",
              "            title=\"Convert this dataframe to an interactive table.\"\n",
              "            style=\"display:none;\">\n",
              "\n",
              "  <svg xmlns=\"http://www.w3.org/2000/svg\" height=\"24px\" viewBox=\"0 -960 960 960\">\n",
              "    <path d=\"M120-120v-720h720v720H120Zm60-500h600v-160H180v160Zm220 220h160v-160H400v160Zm0 220h160v-160H400v160ZM180-400h160v-160H180v160Zm440 0h160v-160H620v160ZM180-180h160v-160H180v160Zm440 0h160v-160H620v160Z\"/>\n",
              "  </svg>\n",
              "    </button>\n",
              "\n",
              "  <style>\n",
              "    .colab-df-container {\n",
              "      display:flex;\n",
              "      gap: 12px;\n",
              "    }\n",
              "\n",
              "    .colab-df-convert {\n",
              "      background-color: #E8F0FE;\n",
              "      border: none;\n",
              "      border-radius: 50%;\n",
              "      cursor: pointer;\n",
              "      display: none;\n",
              "      fill: #1967D2;\n",
              "      height: 32px;\n",
              "      padding: 0 0 0 0;\n",
              "      width: 32px;\n",
              "    }\n",
              "\n",
              "    .colab-df-convert:hover {\n",
              "      background-color: #E2EBFA;\n",
              "      box-shadow: 0px 1px 2px rgba(60, 64, 67, 0.3), 0px 1px 3px 1px rgba(60, 64, 67, 0.15);\n",
              "      fill: #174EA6;\n",
              "    }\n",
              "\n",
              "    .colab-df-buttons div {\n",
              "      margin-bottom: 4px;\n",
              "    }\n",
              "\n",
              "    [theme=dark] .colab-df-convert {\n",
              "      background-color: #3B4455;\n",
              "      fill: #D2E3FC;\n",
              "    }\n",
              "\n",
              "    [theme=dark] .colab-df-convert:hover {\n",
              "      background-color: #434B5C;\n",
              "      box-shadow: 0px 1px 3px 1px rgba(0, 0, 0, 0.15);\n",
              "      filter: drop-shadow(0px 1px 2px rgba(0, 0, 0, 0.3));\n",
              "      fill: #FFFFFF;\n",
              "    }\n",
              "  </style>\n",
              "\n",
              "    <script>\n",
              "      const buttonEl =\n",
              "        document.querySelector('#df-4aecff58-dcfb-4d9e-af96-343a92bdf1e0 button.colab-df-convert');\n",
              "      buttonEl.style.display =\n",
              "        google.colab.kernel.accessAllowed ? 'block' : 'none';\n",
              "\n",
              "      async function convertToInteractive(key) {\n",
              "        const element = document.querySelector('#df-4aecff58-dcfb-4d9e-af96-343a92bdf1e0');\n",
              "        const dataTable =\n",
              "          await google.colab.kernel.invokeFunction('convertToInteractive',\n",
              "                                                    [key], {});\n",
              "        if (!dataTable) return;\n",
              "\n",
              "        const docLinkHtml = 'Like what you see? Visit the ' +\n",
              "          '<a target=\"_blank\" href=https://colab.research.google.com/notebooks/data_table.ipynb>data table notebook</a>'\n",
              "          + ' to learn more about interactive tables.';\n",
              "        element.innerHTML = '';\n",
              "        dataTable['output_type'] = 'display_data';\n",
              "        await google.colab.output.renderOutput(dataTable, element);\n",
              "        const docLink = document.createElement('div');\n",
              "        docLink.innerHTML = docLinkHtml;\n",
              "        element.appendChild(docLink);\n",
              "      }\n",
              "    </script>\n",
              "  </div>\n",
              "\n",
              "\n",
              "<div id=\"df-28b80540-2028-4af9-aea7-a378e7e94438\">\n",
              "  <button class=\"colab-df-quickchart\" onclick=\"quickchart('df-28b80540-2028-4af9-aea7-a378e7e94438')\"\n",
              "            title=\"Suggest charts\"\n",
              "            style=\"display:none;\">\n",
              "\n",
              "<svg xmlns=\"http://www.w3.org/2000/svg\" height=\"24px\"viewBox=\"0 0 24 24\"\n",
              "     width=\"24px\">\n",
              "    <g>\n",
              "        <path d=\"M19 3H5c-1.1 0-2 .9-2 2v14c0 1.1.9 2 2 2h14c1.1 0 2-.9 2-2V5c0-1.1-.9-2-2-2zM9 17H7v-7h2v7zm4 0h-2V7h2v10zm4 0h-2v-4h2v4z\"/>\n",
              "    </g>\n",
              "</svg>\n",
              "  </button>\n",
              "\n",
              "<style>\n",
              "  .colab-df-quickchart {\n",
              "      --bg-color: #E8F0FE;\n",
              "      --fill-color: #1967D2;\n",
              "      --hover-bg-color: #E2EBFA;\n",
              "      --hover-fill-color: #174EA6;\n",
              "      --disabled-fill-color: #AAA;\n",
              "      --disabled-bg-color: #DDD;\n",
              "  }\n",
              "\n",
              "  [theme=dark] .colab-df-quickchart {\n",
              "      --bg-color: #3B4455;\n",
              "      --fill-color: #D2E3FC;\n",
              "      --hover-bg-color: #434B5C;\n",
              "      --hover-fill-color: #FFFFFF;\n",
              "      --disabled-bg-color: #3B4455;\n",
              "      --disabled-fill-color: #666;\n",
              "  }\n",
              "\n",
              "  .colab-df-quickchart {\n",
              "    background-color: var(--bg-color);\n",
              "    border: none;\n",
              "    border-radius: 50%;\n",
              "    cursor: pointer;\n",
              "    display: none;\n",
              "    fill: var(--fill-color);\n",
              "    height: 32px;\n",
              "    padding: 0;\n",
              "    width: 32px;\n",
              "  }\n",
              "\n",
              "  .colab-df-quickchart:hover {\n",
              "    background-color: var(--hover-bg-color);\n",
              "    box-shadow: 0 1px 2px rgba(60, 64, 67, 0.3), 0 1px 3px 1px rgba(60, 64, 67, 0.15);\n",
              "    fill: var(--button-hover-fill-color);\n",
              "  }\n",
              "\n",
              "  .colab-df-quickchart-complete:disabled,\n",
              "  .colab-df-quickchart-complete:disabled:hover {\n",
              "    background-color: var(--disabled-bg-color);\n",
              "    fill: var(--disabled-fill-color);\n",
              "    box-shadow: none;\n",
              "  }\n",
              "\n",
              "  .colab-df-spinner {\n",
              "    border: 2px solid var(--fill-color);\n",
              "    border-color: transparent;\n",
              "    border-bottom-color: var(--fill-color);\n",
              "    animation:\n",
              "      spin 1s steps(1) infinite;\n",
              "  }\n",
              "\n",
              "  @keyframes spin {\n",
              "    0% {\n",
              "      border-color: transparent;\n",
              "      border-bottom-color: var(--fill-color);\n",
              "      border-left-color: var(--fill-color);\n",
              "    }\n",
              "    20% {\n",
              "      border-color: transparent;\n",
              "      border-left-color: var(--fill-color);\n",
              "      border-top-color: var(--fill-color);\n",
              "    }\n",
              "    30% {\n",
              "      border-color: transparent;\n",
              "      border-left-color: var(--fill-color);\n",
              "      border-top-color: var(--fill-color);\n",
              "      border-right-color: var(--fill-color);\n",
              "    }\n",
              "    40% {\n",
              "      border-color: transparent;\n",
              "      border-right-color: var(--fill-color);\n",
              "      border-top-color: var(--fill-color);\n",
              "    }\n",
              "    60% {\n",
              "      border-color: transparent;\n",
              "      border-right-color: var(--fill-color);\n",
              "    }\n",
              "    80% {\n",
              "      border-color: transparent;\n",
              "      border-right-color: var(--fill-color);\n",
              "      border-bottom-color: var(--fill-color);\n",
              "    }\n",
              "    90% {\n",
              "      border-color: transparent;\n",
              "      border-bottom-color: var(--fill-color);\n",
              "    }\n",
              "  }\n",
              "</style>\n",
              "\n",
              "  <script>\n",
              "    async function quickchart(key) {\n",
              "      const quickchartButtonEl =\n",
              "        document.querySelector('#' + key + ' button');\n",
              "      quickchartButtonEl.disabled = true;  // To prevent multiple clicks.\n",
              "      quickchartButtonEl.classList.add('colab-df-spinner');\n",
              "      try {\n",
              "        const charts = await google.colab.kernel.invokeFunction(\n",
              "            'suggestCharts', [key], {});\n",
              "      } catch (error) {\n",
              "        console.error('Error during call to suggestCharts:', error);\n",
              "      }\n",
              "      quickchartButtonEl.classList.remove('colab-df-spinner');\n",
              "      quickchartButtonEl.classList.add('colab-df-quickchart-complete');\n",
              "    }\n",
              "    (() => {\n",
              "      let quickchartButtonEl =\n",
              "        document.querySelector('#df-28b80540-2028-4af9-aea7-a378e7e94438 button');\n",
              "      quickchartButtonEl.style.display =\n",
              "        google.colab.kernel.accessAllowed ? 'block' : 'none';\n",
              "    })();\n",
              "  </script>\n",
              "</div>\n",
              "\n",
              "    </div>\n",
              "  </div>\n"
            ],
            "application/vnd.google.colaboratory.intrinsic+json": {
              "type": "dataframe",
              "variable_name": "reviews",
              "summary": "{\n  \"name\": \"reviews\",\n  \"rows\": 5000,\n  \"fields\": [\n    {\n      \"column\": \"Rating\",\n      \"properties\": {\n        \"dtype\": \"number\",\n        \"std\": 1,\n        \"min\": 1,\n        \"max\": 5,\n        \"num_unique_values\": 5,\n        \"samples\": [\n          2,\n          3,\n          1\n        ],\n        \"semantic_type\": \"\",\n        \"description\": \"\"\n      }\n    },\n    {\n      \"column\": \"Review\",\n      \"properties\": {\n        \"dtype\": \"string\",\n        \"num_unique_values\": 4273,\n        \"samples\": [\n          \"Tik Tok are you video YouTube channel\",\n          \"Please \\ud83d\\ude4f karak king account on ka thank you\",\n          \"Very nice app and follow up with you guys for the update kro please let me know what Usman Razzaq siyal King \\ud83d\\udc51 me\"\n        ],\n        \"semantic_type\": \"\",\n        \"description\": \"\"\n      }\n    },\n    {\n      \"column\": \"Timestamp\",\n      \"properties\": {\n        \"dtype\": \"object\",\n        \"num_unique_values\": 4953,\n        \"samples\": [\n          \"2024-11-14 13:44:21\",\n          \"2024-11-15 22:36:56\",\n          \"2024-11-13 17:40:24\"\n        ],\n        \"semantic_type\": \"\",\n        \"description\": \"\"\n      }\n    }\n  ]\n}"
            }
          },
          "metadata": {},
          "execution_count": 2
        }
      ],
      "source": [
        "reviews.head()"
      ]
    },
    {
      "cell_type": "code",
      "execution_count": 3,
      "metadata": {
        "colab": {
          "base_uri": "https://localhost:8080/"
        },
        "id": "G4WRKllyxTla",
        "outputId": "f7797c04-e0c1-4709-f79e-c571c914519d"
      },
      "outputs": [
        {
          "output_type": "execute_result",
          "data": {
            "text/plain": [
              "(5000, 3)"
            ]
          },
          "metadata": {},
          "execution_count": 3
        }
      ],
      "source": [
        "reviews.shape"
      ]
    },
    {
      "cell_type": "code",
      "source": [
        "reviews.info()"
      ],
      "metadata": {
        "colab": {
          "base_uri": "https://localhost:8080/"
        },
        "id": "R2yW8hA9Dl9h",
        "outputId": "e687920a-c873-4d7f-8631-aa6ff7b92fca"
      },
      "execution_count": 4,
      "outputs": [
        {
          "output_type": "stream",
          "name": "stdout",
          "text": [
            "<class 'pandas.core.frame.DataFrame'>\n",
            "RangeIndex: 5000 entries, 0 to 4999\n",
            "Data columns (total 3 columns):\n",
            " #   Column     Non-Null Count  Dtype \n",
            "---  ------     --------------  ----- \n",
            " 0   Rating     5000 non-null   int64 \n",
            " 1   Review     5000 non-null   object\n",
            " 2   Timestamp  5000 non-null   object\n",
            "dtypes: int64(1), object(2)\n",
            "memory usage: 117.3+ KB\n"
          ]
        }
      ]
    },
    {
      "cell_type": "markdown",
      "metadata": {
        "id": "4ylwU45uoz_7"
      },
      "source": [
        "**Summary Statistics**"
      ]
    },
    {
      "cell_type": "markdown",
      "metadata": {
        "id": "ZSmKd9Qkj_Y4"
      },
      "source": [
        " **detecting  Duplicate Records**\n",
        "\n",
        "\n"
      ]
    },
    {
      "cell_type": "code",
      "execution_count": 5,
      "metadata": {
        "colab": {
          "base_uri": "https://localhost:8080/"
        },
        "id": "VIpX70OlxZkF",
        "outputId": "0cd571f4-bf3a-4cf4-e030-46c2e083b4b2"
      },
      "outputs": [
        {
          "output_type": "stream",
          "name": "stdout",
          "text": [
            "# Duplicate :  0\n"
          ]
        }
      ],
      "source": [
        "#detecting & removing the duplicates articles :\n",
        "print('# Duplicate : ',reviews.duplicated().sum())\n",
        "\n",
        "#If there are duplicate use:\n",
        "#reviews.drop_duplicates(inplace=True)\n",
        "\n"
      ]
    },
    {
      "cell_type": "markdown",
      "metadata": {
        "id": "GHsz4RzOkSrS"
      },
      "source": [
        "**checking Missing Values**"
      ]
    },
    {
      "cell_type": "code",
      "execution_count": 6,
      "metadata": {
        "colab": {
          "base_uri": "https://localhost:8080/"
        },
        "id": "YNkkyRynkQTn",
        "outputId": "94fd823d-a7bb-43d8-c319-61f0e691c57d"
      },
      "outputs": [
        {
          "output_type": "stream",
          "name": "stdout",
          "text": [
            "# NANS: Rating       0\n",
            "Review       0\n",
            "Timestamp    0\n",
            "dtype: int64\n"
          ]
        }
      ],
      "source": [
        "#checking if there is nan values :\n",
        "print('# NANS:',reviews.isna().sum())\n",
        "reviews.dropna(inplace=True)\n",
        "reviews.reset_index(drop=True,inplace=True)"
      ]
    },
    {
      "cell_type": "markdown",
      "metadata": {
        "id": "EQUa6DQY2F6Y"
      },
      "source": [
        "**Split the textual data into words.**"
      ]
    },
    {
      "cell_type": "code",
      "execution_count": 7,
      "metadata": {
        "colab": {
          "base_uri": "https://localhost:8080/"
        },
        "id": "bcvY1aPN0Keb",
        "outputId": "703df804-ca9e-4af4-b812-fe389b0f55c2"
      },
      "outputs": [
        {
          "output_type": "stream",
          "name": "stdout",
          "text": [
            "\n",
            "Sample of split words:\n",
            "                                          split_words\n",
            "0                                         [Love, it]\n",
            "1                                        [Md, Sagor]\n",
            "2  [Dear,, TikTok, team, my, big, problem, my, ac...\n",
            "3                                [عامين, باش, يتعمر]\n",
            "4  [My, activity, and, notifications, tabs, won't...\n"
          ]
        }
      ],
      "source": [
        "text_column = 'Review'\n",
        "\n",
        "reviews['split_words'] = reviews[text_column].dropna().apply(lambda x: str(x).split())\n",
        "print(\"\\nSample of split words:\\n\", reviews[['split_words']].head())\n",
        "\n",
        "\n",
        "# Counting the words in each article:\n",
        "reviews[\"word_count\"] = reviews[\"Review\"].apply(lambda x: len(x.split(\" \")))\n"
      ]
    },
    {
      "cell_type": "code",
      "source": [
        "print(reviews[\"word_count\"].describe())\n"
      ],
      "metadata": {
        "colab": {
          "base_uri": "https://localhost:8080/"
        },
        "id": "JxOioH0VEQve",
        "outputId": "c6fba2d7-4470-4ac5-b160-51db9bec6cf5"
      },
      "execution_count": 8,
      "outputs": [
        {
          "output_type": "stream",
          "name": "stdout",
          "text": [
            "count    5000.000000\n",
            "mean       10.515000\n",
            "std        15.786602\n",
            "min         1.000000\n",
            "25%         2.000000\n",
            "50%         4.000000\n",
            "75%        12.000000\n",
            "max       124.000000\n",
            "Name: word_count, dtype: float64\n"
          ]
        }
      ]
    },
    {
      "cell_type": "code",
      "execution_count": 9,
      "metadata": {
        "colab": {
          "base_uri": "https://localhost:8080/",
          "height": 363
        },
        "id": "6jScxUiExrvu",
        "outputId": "62447fb4-c5d6-4956-bcb3-a41505965f85"
      },
      "outputs": [
        {
          "output_type": "execute_result",
          "data": {
            "text/plain": [
              "   Rating                                             Review  \\\n",
              "0       5                                            Love it   \n",
              "1       5                                           Md Sagor   \n",
              "2       2  Dear, TikTok team my big problem my account is...   \n",
              "3       1                                    عامين باش يتعمر   \n",
              "4       2  My activity and notifications tabs won't load,...   \n",
              "5       4                                               Nice   \n",
              "6       1                       Tiktok valo mare live ni one   \n",
              "7       5                       My account for you please 🙏🥺   \n",
              "8       5  As a 1st timer, nakaka excite kahit maliit mas...   \n",
              "9       5                                          I like it   \n",
              "\n",
              "             Timestamp                                        split_words  \\\n",
              "0  2024-11-16 13:09:37                                         [Love, it]   \n",
              "1  2024-11-16 13:08:05                                        [Md, Sagor]   \n",
              "2  2024-11-16 13:07:19  [Dear,, TikTok, team, my, big, problem, my, ac...   \n",
              "3  2024-11-16 13:05:08                                [عامين, باش, يتعمر]   \n",
              "4  2024-11-16 13:04:47  [My, activity, and, notifications, tabs, won't...   \n",
              "5  2024-11-16 13:03:51                                             [Nice]   \n",
              "6  2024-11-16 13:03:18                [Tiktok, valo, mare, live, ni, one]   \n",
              "7  2024-11-16 12:58:01                [My, account, for, you, please, 🙏🥺]   \n",
              "8  2024-11-16 12:57:33  [As, a, 1st, timer,, nakaka, excite, kahit, ma...   \n",
              "9  2024-11-16 12:57:14                                      [I, like, it]   \n",
              "\n",
              "   word_count  \n",
              "0           2  \n",
              "1           2  \n",
              "2          30  \n",
              "3           3  \n",
              "4          13  \n",
              "5           1  \n",
              "6           6  \n",
              "7           6  \n",
              "8          15  \n",
              "9           3  "
            ],
            "text/html": [
              "\n",
              "  <div id=\"df-0a249d8c-a1fa-4f21-9bfc-d6002cfc9292\" class=\"colab-df-container\">\n",
              "    <div>\n",
              "<style scoped>\n",
              "    .dataframe tbody tr th:only-of-type {\n",
              "        vertical-align: middle;\n",
              "    }\n",
              "\n",
              "    .dataframe tbody tr th {\n",
              "        vertical-align: top;\n",
              "    }\n",
              "\n",
              "    .dataframe thead th {\n",
              "        text-align: right;\n",
              "    }\n",
              "</style>\n",
              "<table border=\"1\" class=\"dataframe\">\n",
              "  <thead>\n",
              "    <tr style=\"text-align: right;\">\n",
              "      <th></th>\n",
              "      <th>Rating</th>\n",
              "      <th>Review</th>\n",
              "      <th>Timestamp</th>\n",
              "      <th>split_words</th>\n",
              "      <th>word_count</th>\n",
              "    </tr>\n",
              "  </thead>\n",
              "  <tbody>\n",
              "    <tr>\n",
              "      <th>0</th>\n",
              "      <td>5</td>\n",
              "      <td>Love it</td>\n",
              "      <td>2024-11-16 13:09:37</td>\n",
              "      <td>[Love, it]</td>\n",
              "      <td>2</td>\n",
              "    </tr>\n",
              "    <tr>\n",
              "      <th>1</th>\n",
              "      <td>5</td>\n",
              "      <td>Md Sagor</td>\n",
              "      <td>2024-11-16 13:08:05</td>\n",
              "      <td>[Md, Sagor]</td>\n",
              "      <td>2</td>\n",
              "    </tr>\n",
              "    <tr>\n",
              "      <th>2</th>\n",
              "      <td>2</td>\n",
              "      <td>Dear, TikTok team my big problem my account is...</td>\n",
              "      <td>2024-11-16 13:07:19</td>\n",
              "      <td>[Dear,, TikTok, team, my, big, problem, my, ac...</td>\n",
              "      <td>30</td>\n",
              "    </tr>\n",
              "    <tr>\n",
              "      <th>3</th>\n",
              "      <td>1</td>\n",
              "      <td>عامين باش يتعمر</td>\n",
              "      <td>2024-11-16 13:05:08</td>\n",
              "      <td>[عامين, باش, يتعمر]</td>\n",
              "      <td>3</td>\n",
              "    </tr>\n",
              "    <tr>\n",
              "      <th>4</th>\n",
              "      <td>2</td>\n",
              "      <td>My activity and notifications tabs won't load,...</td>\n",
              "      <td>2024-11-16 13:04:47</td>\n",
              "      <td>[My, activity, and, notifications, tabs, won't...</td>\n",
              "      <td>13</td>\n",
              "    </tr>\n",
              "    <tr>\n",
              "      <th>5</th>\n",
              "      <td>4</td>\n",
              "      <td>Nice</td>\n",
              "      <td>2024-11-16 13:03:51</td>\n",
              "      <td>[Nice]</td>\n",
              "      <td>1</td>\n",
              "    </tr>\n",
              "    <tr>\n",
              "      <th>6</th>\n",
              "      <td>1</td>\n",
              "      <td>Tiktok valo mare live ni one</td>\n",
              "      <td>2024-11-16 13:03:18</td>\n",
              "      <td>[Tiktok, valo, mare, live, ni, one]</td>\n",
              "      <td>6</td>\n",
              "    </tr>\n",
              "    <tr>\n",
              "      <th>7</th>\n",
              "      <td>5</td>\n",
              "      <td>My account for you please 🙏🥺</td>\n",
              "      <td>2024-11-16 12:58:01</td>\n",
              "      <td>[My, account, for, you, please, 🙏🥺]</td>\n",
              "      <td>6</td>\n",
              "    </tr>\n",
              "    <tr>\n",
              "      <th>8</th>\n",
              "      <td>5</td>\n",
              "      <td>As a 1st timer, nakaka excite kahit maliit mas...</td>\n",
              "      <td>2024-11-16 12:57:33</td>\n",
              "      <td>[As, a, 1st, timer,, nakaka, excite, kahit, ma...</td>\n",
              "      <td>15</td>\n",
              "    </tr>\n",
              "    <tr>\n",
              "      <th>9</th>\n",
              "      <td>5</td>\n",
              "      <td>I like it</td>\n",
              "      <td>2024-11-16 12:57:14</td>\n",
              "      <td>[I, like, it]</td>\n",
              "      <td>3</td>\n",
              "    </tr>\n",
              "  </tbody>\n",
              "</table>\n",
              "</div>\n",
              "    <div class=\"colab-df-buttons\">\n",
              "\n",
              "  <div class=\"colab-df-container\">\n",
              "    <button class=\"colab-df-convert\" onclick=\"convertToInteractive('df-0a249d8c-a1fa-4f21-9bfc-d6002cfc9292')\"\n",
              "            title=\"Convert this dataframe to an interactive table.\"\n",
              "            style=\"display:none;\">\n",
              "\n",
              "  <svg xmlns=\"http://www.w3.org/2000/svg\" height=\"24px\" viewBox=\"0 -960 960 960\">\n",
              "    <path d=\"M120-120v-720h720v720H120Zm60-500h600v-160H180v160Zm220 220h160v-160H400v160Zm0 220h160v-160H400v160ZM180-400h160v-160H180v160Zm440 0h160v-160H620v160ZM180-180h160v-160H180v160Zm440 0h160v-160H620v160Z\"/>\n",
              "  </svg>\n",
              "    </button>\n",
              "\n",
              "  <style>\n",
              "    .colab-df-container {\n",
              "      display:flex;\n",
              "      gap: 12px;\n",
              "    }\n",
              "\n",
              "    .colab-df-convert {\n",
              "      background-color: #E8F0FE;\n",
              "      border: none;\n",
              "      border-radius: 50%;\n",
              "      cursor: pointer;\n",
              "      display: none;\n",
              "      fill: #1967D2;\n",
              "      height: 32px;\n",
              "      padding: 0 0 0 0;\n",
              "      width: 32px;\n",
              "    }\n",
              "\n",
              "    .colab-df-convert:hover {\n",
              "      background-color: #E2EBFA;\n",
              "      box-shadow: 0px 1px 2px rgba(60, 64, 67, 0.3), 0px 1px 3px 1px rgba(60, 64, 67, 0.15);\n",
              "      fill: #174EA6;\n",
              "    }\n",
              "\n",
              "    .colab-df-buttons div {\n",
              "      margin-bottom: 4px;\n",
              "    }\n",
              "\n",
              "    [theme=dark] .colab-df-convert {\n",
              "      background-color: #3B4455;\n",
              "      fill: #D2E3FC;\n",
              "    }\n",
              "\n",
              "    [theme=dark] .colab-df-convert:hover {\n",
              "      background-color: #434B5C;\n",
              "      box-shadow: 0px 1px 3px 1px rgba(0, 0, 0, 0.15);\n",
              "      filter: drop-shadow(0px 1px 2px rgba(0, 0, 0, 0.3));\n",
              "      fill: #FFFFFF;\n",
              "    }\n",
              "  </style>\n",
              "\n",
              "    <script>\n",
              "      const buttonEl =\n",
              "        document.querySelector('#df-0a249d8c-a1fa-4f21-9bfc-d6002cfc9292 button.colab-df-convert');\n",
              "      buttonEl.style.display =\n",
              "        google.colab.kernel.accessAllowed ? 'block' : 'none';\n",
              "\n",
              "      async function convertToInteractive(key) {\n",
              "        const element = document.querySelector('#df-0a249d8c-a1fa-4f21-9bfc-d6002cfc9292');\n",
              "        const dataTable =\n",
              "          await google.colab.kernel.invokeFunction('convertToInteractive',\n",
              "                                                    [key], {});\n",
              "        if (!dataTable) return;\n",
              "\n",
              "        const docLinkHtml = 'Like what you see? Visit the ' +\n",
              "          '<a target=\"_blank\" href=https://colab.research.google.com/notebooks/data_table.ipynb>data table notebook</a>'\n",
              "          + ' to learn more about interactive tables.';\n",
              "        element.innerHTML = '';\n",
              "        dataTable['output_type'] = 'display_data';\n",
              "        await google.colab.output.renderOutput(dataTable, element);\n",
              "        const docLink = document.createElement('div');\n",
              "        docLink.innerHTML = docLinkHtml;\n",
              "        element.appendChild(docLink);\n",
              "      }\n",
              "    </script>\n",
              "  </div>\n",
              "\n",
              "\n",
              "<div id=\"df-f1b2d1f5-47b3-47ba-b224-334766fcaccb\">\n",
              "  <button class=\"colab-df-quickchart\" onclick=\"quickchart('df-f1b2d1f5-47b3-47ba-b224-334766fcaccb')\"\n",
              "            title=\"Suggest charts\"\n",
              "            style=\"display:none;\">\n",
              "\n",
              "<svg xmlns=\"http://www.w3.org/2000/svg\" height=\"24px\"viewBox=\"0 0 24 24\"\n",
              "     width=\"24px\">\n",
              "    <g>\n",
              "        <path d=\"M19 3H5c-1.1 0-2 .9-2 2v14c0 1.1.9 2 2 2h14c1.1 0 2-.9 2-2V5c0-1.1-.9-2-2-2zM9 17H7v-7h2v7zm4 0h-2V7h2v10zm4 0h-2v-4h2v4z\"/>\n",
              "    </g>\n",
              "</svg>\n",
              "  </button>\n",
              "\n",
              "<style>\n",
              "  .colab-df-quickchart {\n",
              "      --bg-color: #E8F0FE;\n",
              "      --fill-color: #1967D2;\n",
              "      --hover-bg-color: #E2EBFA;\n",
              "      --hover-fill-color: #174EA6;\n",
              "      --disabled-fill-color: #AAA;\n",
              "      --disabled-bg-color: #DDD;\n",
              "  }\n",
              "\n",
              "  [theme=dark] .colab-df-quickchart {\n",
              "      --bg-color: #3B4455;\n",
              "      --fill-color: #D2E3FC;\n",
              "      --hover-bg-color: #434B5C;\n",
              "      --hover-fill-color: #FFFFFF;\n",
              "      --disabled-bg-color: #3B4455;\n",
              "      --disabled-fill-color: #666;\n",
              "  }\n",
              "\n",
              "  .colab-df-quickchart {\n",
              "    background-color: var(--bg-color);\n",
              "    border: none;\n",
              "    border-radius: 50%;\n",
              "    cursor: pointer;\n",
              "    display: none;\n",
              "    fill: var(--fill-color);\n",
              "    height: 32px;\n",
              "    padding: 0;\n",
              "    width: 32px;\n",
              "  }\n",
              "\n",
              "  .colab-df-quickchart:hover {\n",
              "    background-color: var(--hover-bg-color);\n",
              "    box-shadow: 0 1px 2px rgba(60, 64, 67, 0.3), 0 1px 3px 1px rgba(60, 64, 67, 0.15);\n",
              "    fill: var(--button-hover-fill-color);\n",
              "  }\n",
              "\n",
              "  .colab-df-quickchart-complete:disabled,\n",
              "  .colab-df-quickchart-complete:disabled:hover {\n",
              "    background-color: var(--disabled-bg-color);\n",
              "    fill: var(--disabled-fill-color);\n",
              "    box-shadow: none;\n",
              "  }\n",
              "\n",
              "  .colab-df-spinner {\n",
              "    border: 2px solid var(--fill-color);\n",
              "    border-color: transparent;\n",
              "    border-bottom-color: var(--fill-color);\n",
              "    animation:\n",
              "      spin 1s steps(1) infinite;\n",
              "  }\n",
              "\n",
              "  @keyframes spin {\n",
              "    0% {\n",
              "      border-color: transparent;\n",
              "      border-bottom-color: var(--fill-color);\n",
              "      border-left-color: var(--fill-color);\n",
              "    }\n",
              "    20% {\n",
              "      border-color: transparent;\n",
              "      border-left-color: var(--fill-color);\n",
              "      border-top-color: var(--fill-color);\n",
              "    }\n",
              "    30% {\n",
              "      border-color: transparent;\n",
              "      border-left-color: var(--fill-color);\n",
              "      border-top-color: var(--fill-color);\n",
              "      border-right-color: var(--fill-color);\n",
              "    }\n",
              "    40% {\n",
              "      border-color: transparent;\n",
              "      border-right-color: var(--fill-color);\n",
              "      border-top-color: var(--fill-color);\n",
              "    }\n",
              "    60% {\n",
              "      border-color: transparent;\n",
              "      border-right-color: var(--fill-color);\n",
              "    }\n",
              "    80% {\n",
              "      border-color: transparent;\n",
              "      border-right-color: var(--fill-color);\n",
              "      border-bottom-color: var(--fill-color);\n",
              "    }\n",
              "    90% {\n",
              "      border-color: transparent;\n",
              "      border-bottom-color: var(--fill-color);\n",
              "    }\n",
              "  }\n",
              "</style>\n",
              "\n",
              "  <script>\n",
              "    async function quickchart(key) {\n",
              "      const quickchartButtonEl =\n",
              "        document.querySelector('#' + key + ' button');\n",
              "      quickchartButtonEl.disabled = true;  // To prevent multiple clicks.\n",
              "      quickchartButtonEl.classList.add('colab-df-spinner');\n",
              "      try {\n",
              "        const charts = await google.colab.kernel.invokeFunction(\n",
              "            'suggestCharts', [key], {});\n",
              "      } catch (error) {\n",
              "        console.error('Error during call to suggestCharts:', error);\n",
              "      }\n",
              "      quickchartButtonEl.classList.remove('colab-df-spinner');\n",
              "      quickchartButtonEl.classList.add('colab-df-quickchart-complete');\n",
              "    }\n",
              "    (() => {\n",
              "      let quickchartButtonEl =\n",
              "        document.querySelector('#df-f1b2d1f5-47b3-47ba-b224-334766fcaccb button');\n",
              "      quickchartButtonEl.style.display =\n",
              "        google.colab.kernel.accessAllowed ? 'block' : 'none';\n",
              "    })();\n",
              "  </script>\n",
              "</div>\n",
              "\n",
              "    </div>\n",
              "  </div>\n"
            ],
            "application/vnd.google.colaboratory.intrinsic+json": {
              "type": "dataframe",
              "variable_name": "reviews",
              "summary": "{\n  \"name\": \"reviews\",\n  \"rows\": 5000,\n  \"fields\": [\n    {\n      \"column\": \"Rating\",\n      \"properties\": {\n        \"dtype\": \"number\",\n        \"std\": 1,\n        \"min\": 1,\n        \"max\": 5,\n        \"num_unique_values\": 5,\n        \"samples\": [\n          2,\n          3,\n          1\n        ],\n        \"semantic_type\": \"\",\n        \"description\": \"\"\n      }\n    },\n    {\n      \"column\": \"Review\",\n      \"properties\": {\n        \"dtype\": \"string\",\n        \"num_unique_values\": 4273,\n        \"samples\": [\n          \"Tik Tok are you video YouTube channel\",\n          \"Please \\ud83d\\ude4f karak king account on ka thank you\",\n          \"Very nice app and follow up with you guys for the update kro please let me know what Usman Razzaq siyal King \\ud83d\\udc51 me\"\n        ],\n        \"semantic_type\": \"\",\n        \"description\": \"\"\n      }\n    },\n    {\n      \"column\": \"Timestamp\",\n      \"properties\": {\n        \"dtype\": \"object\",\n        \"num_unique_values\": 4953,\n        \"samples\": [\n          \"2024-11-14 13:44:21\",\n          \"2024-11-15 22:36:56\",\n          \"2024-11-13 17:40:24\"\n        ],\n        \"semantic_type\": \"\",\n        \"description\": \"\"\n      }\n    },\n    {\n      \"column\": \"split_words\",\n      \"properties\": {\n        \"dtype\": \"object\",\n        \"semantic_type\": \"\",\n        \"description\": \"\"\n      }\n    },\n    {\n      \"column\": \"word_count\",\n      \"properties\": {\n        \"dtype\": \"number\",\n        \"std\": 15,\n        \"min\": 1,\n        \"max\": 124,\n        \"num_unique_values\": 104,\n        \"samples\": [\n          20,\n          86,\n          44\n        ],\n        \"semantic_type\": \"\",\n        \"description\": \"\"\n      }\n    }\n  ]\n}"
            }
          },
          "metadata": {},
          "execution_count": 9
        }
      ],
      "source": [
        "reviews.head(10)"
      ]
    },
    {
      "cell_type": "markdown",
      "metadata": {
        "id": "oxSKse9BsO9N"
      },
      "source": [
        "**Text Analysis**"
      ]
    },
    {
      "cell_type": "markdown",
      "metadata": {
        "id": "ziSOSVbYxVhH"
      },
      "source": [
        "**Print the 10 most frequent words in all textual content.**\n"
      ]
    },
    {
      "cell_type": "code",
      "execution_count": 10,
      "metadata": {
        "id": "zRuEKI9ENPbN"
      },
      "outputs": [],
      "source": [
        "all_words = [word for sublist in reviews['split_words'].dropna() for word in sublist]\n"
      ]
    },
    {
      "cell_type": "code",
      "execution_count": 11,
      "metadata": {
        "colab": {
          "base_uri": "https://localhost:8080/"
        },
        "id": "LjqrUF_Oq_uh",
        "outputId": "f8aba693-a6bc-413d-fe8c-a309bf41afbb"
      },
      "outputs": [
        {
          "output_type": "stream",
          "name": "stdout",
          "text": [
            "\n",
            "Top 10 most common words:\n",
            " [('my', 1256), ('I', 1250), ('and', 1096), ('the', 937), ('account', 926), ('please', 893), ('to', 883), ('app', 879), ('it', 704), ('is', 678)]\n"
          ]
        }
      ],
      "source": [
        "from collections import Counter\n",
        "\n",
        "# Word frequency\n",
        "word_counts = Counter(all_words)\n",
        "print(\"\\nTop 10 most common words:\\n\", word_counts.most_common(10))\n",
        "\n",
        "\n"
      ]
    },
    {
      "cell_type": "code",
      "execution_count": 12,
      "metadata": {
        "colab": {
          "base_uri": "https://localhost:8080/",
          "height": 363
        },
        "id": "bmRz49aOJjMP",
        "outputId": "1e784556-a3a3-40ed-ac2e-2916fe89c290"
      },
      "outputs": [
        {
          "output_type": "execute_result",
          "data": {
            "text/plain": [
              "   Rating                                             Review  \\\n",
              "0       5                                            Love it   \n",
              "1       5                                           Md Sagor   \n",
              "2       2  Dear, TikTok team my big problem my account is...   \n",
              "3       1                                    عامين باش يتعمر   \n",
              "4       2  My activity and notifications tabs won't load,...   \n",
              "5       4                                               Nice   \n",
              "6       1                       Tiktok valo mare live ni one   \n",
              "7       5                       My account for you please 🙏🥺   \n",
              "8       5  As a 1st timer, nakaka excite kahit maliit mas...   \n",
              "9       5                                          I like it   \n",
              "\n",
              "             Timestamp                                        split_words  \\\n",
              "0  2024-11-16 13:09:37                                         [Love, it]   \n",
              "1  2024-11-16 13:08:05                                        [Md, Sagor]   \n",
              "2  2024-11-16 13:07:19  [Dear,, TikTok, team, my, big, problem, my, ac...   \n",
              "3  2024-11-16 13:05:08                                [عامين, باش, يتعمر]   \n",
              "4  2024-11-16 13:04:47  [My, activity, and, notifications, tabs, won't...   \n",
              "5  2024-11-16 13:03:51                                             [Nice]   \n",
              "6  2024-11-16 13:03:18                [Tiktok, valo, mare, live, ni, one]   \n",
              "7  2024-11-16 12:58:01                [My, account, for, you, please, 🙏🥺]   \n",
              "8  2024-11-16 12:57:33  [As, a, 1st, timer,, nakaka, excite, kahit, ma...   \n",
              "9  2024-11-16 12:57:14                                      [I, like, it]   \n",
              "\n",
              "   word_count  \n",
              "0           2  \n",
              "1           2  \n",
              "2          30  \n",
              "3           3  \n",
              "4          13  \n",
              "5           1  \n",
              "6           6  \n",
              "7           6  \n",
              "8          15  \n",
              "9           3  "
            ],
            "text/html": [
              "\n",
              "  <div id=\"df-bfa42ece-03bb-4b4c-be53-ef523a0f89b9\" class=\"colab-df-container\">\n",
              "    <div>\n",
              "<style scoped>\n",
              "    .dataframe tbody tr th:only-of-type {\n",
              "        vertical-align: middle;\n",
              "    }\n",
              "\n",
              "    .dataframe tbody tr th {\n",
              "        vertical-align: top;\n",
              "    }\n",
              "\n",
              "    .dataframe thead th {\n",
              "        text-align: right;\n",
              "    }\n",
              "</style>\n",
              "<table border=\"1\" class=\"dataframe\">\n",
              "  <thead>\n",
              "    <tr style=\"text-align: right;\">\n",
              "      <th></th>\n",
              "      <th>Rating</th>\n",
              "      <th>Review</th>\n",
              "      <th>Timestamp</th>\n",
              "      <th>split_words</th>\n",
              "      <th>word_count</th>\n",
              "    </tr>\n",
              "  </thead>\n",
              "  <tbody>\n",
              "    <tr>\n",
              "      <th>0</th>\n",
              "      <td>5</td>\n",
              "      <td>Love it</td>\n",
              "      <td>2024-11-16 13:09:37</td>\n",
              "      <td>[Love, it]</td>\n",
              "      <td>2</td>\n",
              "    </tr>\n",
              "    <tr>\n",
              "      <th>1</th>\n",
              "      <td>5</td>\n",
              "      <td>Md Sagor</td>\n",
              "      <td>2024-11-16 13:08:05</td>\n",
              "      <td>[Md, Sagor]</td>\n",
              "      <td>2</td>\n",
              "    </tr>\n",
              "    <tr>\n",
              "      <th>2</th>\n",
              "      <td>2</td>\n",
              "      <td>Dear, TikTok team my big problem my account is...</td>\n",
              "      <td>2024-11-16 13:07:19</td>\n",
              "      <td>[Dear,, TikTok, team, my, big, problem, my, ac...</td>\n",
              "      <td>30</td>\n",
              "    </tr>\n",
              "    <tr>\n",
              "      <th>3</th>\n",
              "      <td>1</td>\n",
              "      <td>عامين باش يتعمر</td>\n",
              "      <td>2024-11-16 13:05:08</td>\n",
              "      <td>[عامين, باش, يتعمر]</td>\n",
              "      <td>3</td>\n",
              "    </tr>\n",
              "    <tr>\n",
              "      <th>4</th>\n",
              "      <td>2</td>\n",
              "      <td>My activity and notifications tabs won't load,...</td>\n",
              "      <td>2024-11-16 13:04:47</td>\n",
              "      <td>[My, activity, and, notifications, tabs, won't...</td>\n",
              "      <td>13</td>\n",
              "    </tr>\n",
              "    <tr>\n",
              "      <th>5</th>\n",
              "      <td>4</td>\n",
              "      <td>Nice</td>\n",
              "      <td>2024-11-16 13:03:51</td>\n",
              "      <td>[Nice]</td>\n",
              "      <td>1</td>\n",
              "    </tr>\n",
              "    <tr>\n",
              "      <th>6</th>\n",
              "      <td>1</td>\n",
              "      <td>Tiktok valo mare live ni one</td>\n",
              "      <td>2024-11-16 13:03:18</td>\n",
              "      <td>[Tiktok, valo, mare, live, ni, one]</td>\n",
              "      <td>6</td>\n",
              "    </tr>\n",
              "    <tr>\n",
              "      <th>7</th>\n",
              "      <td>5</td>\n",
              "      <td>My account for you please 🙏🥺</td>\n",
              "      <td>2024-11-16 12:58:01</td>\n",
              "      <td>[My, account, for, you, please, 🙏🥺]</td>\n",
              "      <td>6</td>\n",
              "    </tr>\n",
              "    <tr>\n",
              "      <th>8</th>\n",
              "      <td>5</td>\n",
              "      <td>As a 1st timer, nakaka excite kahit maliit mas...</td>\n",
              "      <td>2024-11-16 12:57:33</td>\n",
              "      <td>[As, a, 1st, timer,, nakaka, excite, kahit, ma...</td>\n",
              "      <td>15</td>\n",
              "    </tr>\n",
              "    <tr>\n",
              "      <th>9</th>\n",
              "      <td>5</td>\n",
              "      <td>I like it</td>\n",
              "      <td>2024-11-16 12:57:14</td>\n",
              "      <td>[I, like, it]</td>\n",
              "      <td>3</td>\n",
              "    </tr>\n",
              "  </tbody>\n",
              "</table>\n",
              "</div>\n",
              "    <div class=\"colab-df-buttons\">\n",
              "\n",
              "  <div class=\"colab-df-container\">\n",
              "    <button class=\"colab-df-convert\" onclick=\"convertToInteractive('df-bfa42ece-03bb-4b4c-be53-ef523a0f89b9')\"\n",
              "            title=\"Convert this dataframe to an interactive table.\"\n",
              "            style=\"display:none;\">\n",
              "\n",
              "  <svg xmlns=\"http://www.w3.org/2000/svg\" height=\"24px\" viewBox=\"0 -960 960 960\">\n",
              "    <path d=\"M120-120v-720h720v720H120Zm60-500h600v-160H180v160Zm220 220h160v-160H400v160Zm0 220h160v-160H400v160ZM180-400h160v-160H180v160Zm440 0h160v-160H620v160ZM180-180h160v-160H180v160Zm440 0h160v-160H620v160Z\"/>\n",
              "  </svg>\n",
              "    </button>\n",
              "\n",
              "  <style>\n",
              "    .colab-df-container {\n",
              "      display:flex;\n",
              "      gap: 12px;\n",
              "    }\n",
              "\n",
              "    .colab-df-convert {\n",
              "      background-color: #E8F0FE;\n",
              "      border: none;\n",
              "      border-radius: 50%;\n",
              "      cursor: pointer;\n",
              "      display: none;\n",
              "      fill: #1967D2;\n",
              "      height: 32px;\n",
              "      padding: 0 0 0 0;\n",
              "      width: 32px;\n",
              "    }\n",
              "\n",
              "    .colab-df-convert:hover {\n",
              "      background-color: #E2EBFA;\n",
              "      box-shadow: 0px 1px 2px rgba(60, 64, 67, 0.3), 0px 1px 3px 1px rgba(60, 64, 67, 0.15);\n",
              "      fill: #174EA6;\n",
              "    }\n",
              "\n",
              "    .colab-df-buttons div {\n",
              "      margin-bottom: 4px;\n",
              "    }\n",
              "\n",
              "    [theme=dark] .colab-df-convert {\n",
              "      background-color: #3B4455;\n",
              "      fill: #D2E3FC;\n",
              "    }\n",
              "\n",
              "    [theme=dark] .colab-df-convert:hover {\n",
              "      background-color: #434B5C;\n",
              "      box-shadow: 0px 1px 3px 1px rgba(0, 0, 0, 0.15);\n",
              "      filter: drop-shadow(0px 1px 2px rgba(0, 0, 0, 0.3));\n",
              "      fill: #FFFFFF;\n",
              "    }\n",
              "  </style>\n",
              "\n",
              "    <script>\n",
              "      const buttonEl =\n",
              "        document.querySelector('#df-bfa42ece-03bb-4b4c-be53-ef523a0f89b9 button.colab-df-convert');\n",
              "      buttonEl.style.display =\n",
              "        google.colab.kernel.accessAllowed ? 'block' : 'none';\n",
              "\n",
              "      async function convertToInteractive(key) {\n",
              "        const element = document.querySelector('#df-bfa42ece-03bb-4b4c-be53-ef523a0f89b9');\n",
              "        const dataTable =\n",
              "          await google.colab.kernel.invokeFunction('convertToInteractive',\n",
              "                                                    [key], {});\n",
              "        if (!dataTable) return;\n",
              "\n",
              "        const docLinkHtml = 'Like what you see? Visit the ' +\n",
              "          '<a target=\"_blank\" href=https://colab.research.google.com/notebooks/data_table.ipynb>data table notebook</a>'\n",
              "          + ' to learn more about interactive tables.';\n",
              "        element.innerHTML = '';\n",
              "        dataTable['output_type'] = 'display_data';\n",
              "        await google.colab.output.renderOutput(dataTable, element);\n",
              "        const docLink = document.createElement('div');\n",
              "        docLink.innerHTML = docLinkHtml;\n",
              "        element.appendChild(docLink);\n",
              "      }\n",
              "    </script>\n",
              "  </div>\n",
              "\n",
              "\n",
              "<div id=\"df-6a7b651e-1503-436e-a0ec-02ba169b081e\">\n",
              "  <button class=\"colab-df-quickchart\" onclick=\"quickchart('df-6a7b651e-1503-436e-a0ec-02ba169b081e')\"\n",
              "            title=\"Suggest charts\"\n",
              "            style=\"display:none;\">\n",
              "\n",
              "<svg xmlns=\"http://www.w3.org/2000/svg\" height=\"24px\"viewBox=\"0 0 24 24\"\n",
              "     width=\"24px\">\n",
              "    <g>\n",
              "        <path d=\"M19 3H5c-1.1 0-2 .9-2 2v14c0 1.1.9 2 2 2h14c1.1 0 2-.9 2-2V5c0-1.1-.9-2-2-2zM9 17H7v-7h2v7zm4 0h-2V7h2v10zm4 0h-2v-4h2v4z\"/>\n",
              "    </g>\n",
              "</svg>\n",
              "  </button>\n",
              "\n",
              "<style>\n",
              "  .colab-df-quickchart {\n",
              "      --bg-color: #E8F0FE;\n",
              "      --fill-color: #1967D2;\n",
              "      --hover-bg-color: #E2EBFA;\n",
              "      --hover-fill-color: #174EA6;\n",
              "      --disabled-fill-color: #AAA;\n",
              "      --disabled-bg-color: #DDD;\n",
              "  }\n",
              "\n",
              "  [theme=dark] .colab-df-quickchart {\n",
              "      --bg-color: #3B4455;\n",
              "      --fill-color: #D2E3FC;\n",
              "      --hover-bg-color: #434B5C;\n",
              "      --hover-fill-color: #FFFFFF;\n",
              "      --disabled-bg-color: #3B4455;\n",
              "      --disabled-fill-color: #666;\n",
              "  }\n",
              "\n",
              "  .colab-df-quickchart {\n",
              "    background-color: var(--bg-color);\n",
              "    border: none;\n",
              "    border-radius: 50%;\n",
              "    cursor: pointer;\n",
              "    display: none;\n",
              "    fill: var(--fill-color);\n",
              "    height: 32px;\n",
              "    padding: 0;\n",
              "    width: 32px;\n",
              "  }\n",
              "\n",
              "  .colab-df-quickchart:hover {\n",
              "    background-color: var(--hover-bg-color);\n",
              "    box-shadow: 0 1px 2px rgba(60, 64, 67, 0.3), 0 1px 3px 1px rgba(60, 64, 67, 0.15);\n",
              "    fill: var(--button-hover-fill-color);\n",
              "  }\n",
              "\n",
              "  .colab-df-quickchart-complete:disabled,\n",
              "  .colab-df-quickchart-complete:disabled:hover {\n",
              "    background-color: var(--disabled-bg-color);\n",
              "    fill: var(--disabled-fill-color);\n",
              "    box-shadow: none;\n",
              "  }\n",
              "\n",
              "  .colab-df-spinner {\n",
              "    border: 2px solid var(--fill-color);\n",
              "    border-color: transparent;\n",
              "    border-bottom-color: var(--fill-color);\n",
              "    animation:\n",
              "      spin 1s steps(1) infinite;\n",
              "  }\n",
              "\n",
              "  @keyframes spin {\n",
              "    0% {\n",
              "      border-color: transparent;\n",
              "      border-bottom-color: var(--fill-color);\n",
              "      border-left-color: var(--fill-color);\n",
              "    }\n",
              "    20% {\n",
              "      border-color: transparent;\n",
              "      border-left-color: var(--fill-color);\n",
              "      border-top-color: var(--fill-color);\n",
              "    }\n",
              "    30% {\n",
              "      border-color: transparent;\n",
              "      border-left-color: var(--fill-color);\n",
              "      border-top-color: var(--fill-color);\n",
              "      border-right-color: var(--fill-color);\n",
              "    }\n",
              "    40% {\n",
              "      border-color: transparent;\n",
              "      border-right-color: var(--fill-color);\n",
              "      border-top-color: var(--fill-color);\n",
              "    }\n",
              "    60% {\n",
              "      border-color: transparent;\n",
              "      border-right-color: var(--fill-color);\n",
              "    }\n",
              "    80% {\n",
              "      border-color: transparent;\n",
              "      border-right-color: var(--fill-color);\n",
              "      border-bottom-color: var(--fill-color);\n",
              "    }\n",
              "    90% {\n",
              "      border-color: transparent;\n",
              "      border-bottom-color: var(--fill-color);\n",
              "    }\n",
              "  }\n",
              "</style>\n",
              "\n",
              "  <script>\n",
              "    async function quickchart(key) {\n",
              "      const quickchartButtonEl =\n",
              "        document.querySelector('#' + key + ' button');\n",
              "      quickchartButtonEl.disabled = true;  // To prevent multiple clicks.\n",
              "      quickchartButtonEl.classList.add('colab-df-spinner');\n",
              "      try {\n",
              "        const charts = await google.colab.kernel.invokeFunction(\n",
              "            'suggestCharts', [key], {});\n",
              "      } catch (error) {\n",
              "        console.error('Error during call to suggestCharts:', error);\n",
              "      }\n",
              "      quickchartButtonEl.classList.remove('colab-df-spinner');\n",
              "      quickchartButtonEl.classList.add('colab-df-quickchart-complete');\n",
              "    }\n",
              "    (() => {\n",
              "      let quickchartButtonEl =\n",
              "        document.querySelector('#df-6a7b651e-1503-436e-a0ec-02ba169b081e button');\n",
              "      quickchartButtonEl.style.display =\n",
              "        google.colab.kernel.accessAllowed ? 'block' : 'none';\n",
              "    })();\n",
              "  </script>\n",
              "</div>\n",
              "\n",
              "    </div>\n",
              "  </div>\n"
            ],
            "application/vnd.google.colaboratory.intrinsic+json": {
              "type": "dataframe",
              "variable_name": "reviews",
              "summary": "{\n  \"name\": \"reviews\",\n  \"rows\": 5000,\n  \"fields\": [\n    {\n      \"column\": \"Rating\",\n      \"properties\": {\n        \"dtype\": \"number\",\n        \"std\": 1,\n        \"min\": 1,\n        \"max\": 5,\n        \"num_unique_values\": 5,\n        \"samples\": [\n          2,\n          3,\n          1\n        ],\n        \"semantic_type\": \"\",\n        \"description\": \"\"\n      }\n    },\n    {\n      \"column\": \"Review\",\n      \"properties\": {\n        \"dtype\": \"string\",\n        \"num_unique_values\": 4273,\n        \"samples\": [\n          \"Tik Tok are you video YouTube channel\",\n          \"Please \\ud83d\\ude4f karak king account on ka thank you\",\n          \"Very nice app and follow up with you guys for the update kro please let me know what Usman Razzaq siyal King \\ud83d\\udc51 me\"\n        ],\n        \"semantic_type\": \"\",\n        \"description\": \"\"\n      }\n    },\n    {\n      \"column\": \"Timestamp\",\n      \"properties\": {\n        \"dtype\": \"object\",\n        \"num_unique_values\": 4953,\n        \"samples\": [\n          \"2024-11-14 13:44:21\",\n          \"2024-11-15 22:36:56\",\n          \"2024-11-13 17:40:24\"\n        ],\n        \"semantic_type\": \"\",\n        \"description\": \"\"\n      }\n    },\n    {\n      \"column\": \"split_words\",\n      \"properties\": {\n        \"dtype\": \"object\",\n        \"semantic_type\": \"\",\n        \"description\": \"\"\n      }\n    },\n    {\n      \"column\": \"word_count\",\n      \"properties\": {\n        \"dtype\": \"number\",\n        \"std\": 15,\n        \"min\": 1,\n        \"max\": 124,\n        \"num_unique_values\": 104,\n        \"samples\": [\n          20,\n          86,\n          44\n        ],\n        \"semantic_type\": \"\",\n        \"description\": \"\"\n      }\n    }\n  ]\n}"
            }
          },
          "metadata": {},
          "execution_count": 12
        }
      ],
      "source": [
        "reviews.head(10)"
      ]
    },
    {
      "cell_type": "markdown",
      "metadata": {
        "id": "9H6v2UOTysYu"
      },
      "source": [
        "**Visualize the textual content using two methods (Word cloud,bar chart)**"
      ]
    },
    {
      "cell_type": "code",
      "execution_count": 13,
      "metadata": {
        "colab": {
          "base_uri": "https://localhost:8080/",
          "height": 422
        },
        "id": "HVKiMZn8x-6A",
        "outputId": "6ec9974f-be25-489d-8472-c0d46da26c52"
      },
      "outputs": [
        {
          "output_type": "display_data",
          "data": {
            "text/plain": [
              "<Figure size 1000x500 with 1 Axes>"
            ],
            "image/png": "[encoded data removed]"
          },
          "metadata": {}
        }
      ],
      "source": [
        " # Word cloud\n",
        "import matplotlib.pyplot as plt\n",
        "from wordcloud import WordCloud\n",
        "# Join the list of words into a single string\n",
        "all_words_str = ' '.join(all_words)\n",
        "wordcloud = WordCloud(width=800, height=400, background_color='white',stopwords=None).generate(all_words_str)\n",
        "\n",
        "# Plot the word cloud\n",
        "plt.figure(figsize=(10, 5))\n",
        "plt.imshow(wordcloud, interpolation='bilinear')\n",
        "plt.axis('off')\n",
        "plt.show()"
      ]
    },
    {
      "cell_type": "code",
      "execution_count": 14,
      "metadata": {
        "colab": {
          "base_uri": "https://localhost:8080/",
          "height": 599
        },
        "id": "wqcWwbrNvhqJ",
        "outputId": "9b243cc5-d33a-4c51-975d-5e73209a6d1a"
      },
      "outputs": [
        {
          "output_type": "display_data",
          "data": {
            "text/plain": [
              "<Figure size 1000x600 with 1 Axes>"
            ],
            "image/png": "[encoded data removed]"
          },
          "metadata": {}
        }
      ],
      "source": [
        "#Bar chart for the most 10 freqent words\n",
        "# Get the top 10 most common words\n",
        "top_10_words = word_counts.most_common(10)\n",
        "\n",
        " # Prepare data for plotting\n",
        "words, counts = zip(*top_10_words)\n",
        "\n",
        "    # Plot the frequencie\n",
        "plt.figure(figsize=(10, 6))\n",
        "plt.bar(words, counts)\n",
        "plt.title('Top 10 Words by Frequency')\n",
        "plt.xlabel('Words')\n",
        "plt.ylabel('Frequency')\n",
        "plt.xticks(rotation=45)\n",
        "plt.show()\n"
      ]
    },
    {
      "cell_type": "markdown",
      "metadata": {
        "id": "GuSs5nAu3N3B"
      },
      "source": [
        "**Show the distribution according to the class (Rating)**"
      ]
    },
    {
      "cell_type": "code",
      "execution_count": 15,
      "metadata": {
        "colab": {
          "base_uri": "https://localhost:8080/"
        },
        "id": "SUTg4isBxzAF",
        "outputId": "695d9b8a-a0d4-4d99-9d08-995b62c43794"
      },
      "outputs": [
        {
          "output_type": "execute_result",
          "data": {
            "text/plain": [
              "array([5, 2, 1, 4, 3])"
            ]
          },
          "metadata": {},
          "execution_count": 15
        }
      ],
      "source": [
        "reviews['Rating'].unique()"
      ]
    },
    {
      "cell_type": "code",
      "execution_count": 16,
      "metadata": {
        "id": "pDLqCyRTyAvy"
      },
      "outputs": [],
      "source": [
        "df = reviews.copy()"
      ]
    },
    {
      "cell_type": "code",
      "execution_count": 17,
      "metadata": {
        "colab": {
          "base_uri": "https://localhost:8080/"
        },
        "id": "l5EKJxNex4ZP",
        "outputId": "ee97ffa9-d900-4f81-92f6-da4648b9cf09"
      },
      "outputs": [
        {
          "output_type": "execute_result",
          "data": {
            "text/plain": [
              "array([5, 2, 1, 4, 3])"
            ]
          },
          "metadata": {},
          "execution_count": 17
        }
      ],
      "source": [
        "df[\"Rating\"].unique()"
      ]
    },
    {
      "cell_type": "code",
      "execution_count": 18,
      "metadata": {
        "colab": {
          "base_uri": "https://localhost:8080/",
          "height": 472
        },
        "id": "Nrucf1qjyFMQ",
        "outputId": "323ffc6f-5c63-41a0-c92b-3c2bc46ef54b"
      },
      "outputs": [
        {
          "output_type": "display_data",
          "data": {
            "text/plain": [
              "<Figure size 640x480 with 1 Axes>"
            ],
            "image/png": "[encoded data removed]"
          },
          "metadata": {}
        }
      ],
      "source": [
        "import matplotlib.pyplot as plt\n",
        "import seaborn as sns\n",
        "\n",
        "# Assuming df is the DataFrame and 'class' is the column we want to plot\n",
        "sns.countplot(data=df, x='Rating')\n",
        "plt.title('Count of each class')\n",
        "plt.xlabel('rating')\n",
        "plt.ylabel('Count')\n",
        "\n",
        "plt.show()"
      ]
    },
    {
      "cell_type": "code",
      "execution_count": 19,
      "metadata": {
        "colab": {
          "base_uri": "https://localhost:8080/",
          "height": 272
        },
        "id": "pAaf_-YCyMqn",
        "outputId": "669c3d44-ca2d-4b04-82dd-859c772bae62"
      },
      "outputs": [
        {
          "output_type": "execute_result",
          "data": {
            "text/plain": [
              "Rating\n",
              "5    3103\n",
              "1     980\n",
              "4     350\n",
              "2     298\n",
              "3     269\n",
              "Name: count, dtype: int64"
            ],
            "text/html": [
              "<div>\n",
              "<style scoped>\n",
              "    .dataframe tbody tr th:only-of-type {\n",
              "        vertical-align: middle;\n",
              "    }\n",
              "\n",
              "    .dataframe tbody tr th {\n",
              "        vertical-align: top;\n",
              "    }\n",
              "\n",
              "    .dataframe thead th {\n",
              "        text-align: right;\n",
              "    }\n",
              "</style>\n",
              "<table border=\"1\" class=\"dataframe\">\n",
              "  <thead>\n",
              "    <tr style=\"text-align: right;\">\n",
              "      <th></th>\n",
              "      <th>count</th>\n",
              "    </tr>\n",
              "    <tr>\n",
              "      <th>Rating</th>\n",
              "      <th></th>\n",
              "    </tr>\n",
              "  </thead>\n",
              "  <tbody>\n",
              "    <tr>\n",
              "      <th>5</th>\n",
              "      <td>3103</td>\n",
              "    </tr>\n",
              "    <tr>\n",
              "      <th>1</th>\n",
              "      <td>980</td>\n",
              "    </tr>\n",
              "    <tr>\n",
              "      <th>4</th>\n",
              "      <td>350</td>\n",
              "    </tr>\n",
              "    <tr>\n",
              "      <th>2</th>\n",
              "      <td>298</td>\n",
              "    </tr>\n",
              "    <tr>\n",
              "      <th>3</th>\n",
              "      <td>269</td>\n",
              "    </tr>\n",
              "  </tbody>\n",
              "</table>\n",
              "</div><br><label><b>dtype:</b> int64</label>"
            ]
          },
          "metadata": {},
          "execution_count": 19
        }
      ],
      "source": [
        "df[\"Rating\"].value_counts()"
      ]
    },
    {
      "cell_type": "markdown",
      "metadata": {
        "id": "Dh4feBId3vpY"
      },
      "source": [
        "**Examining a sample of the data to identify potential issues and understand its structure.**\n",
        "\n",
        "\n",
        "\n",
        "\n",
        "\n"
      ]
    },
    {
      "cell_type": "code",
      "execution_count": null,
      "metadata": {
        "colab": {
          "base_uri": "https://localhost:8080/",
          "height": 36
        },
        "id": "jMSbdglLyXXt",
        "outputId": "7498bb6f-d33f-467d-d97a-4f2b0765d9c3"
      },
      "outputs": [
        {
          "data": {
            "application/vnd.google.colaboratory.intrinsic+json": {
              "type": "string"
            },
            "text/plain": [
              "'Rajkumar Rajkumar'"
            ]
          },
          "execution_count": 59,
          "metadata": {},
          "output_type": "execute_result"
        }
      ],
      "source": [
        "df.loc[1056,'Review']"
      ]
    },
    {
      "cell_type": "code",
      "execution_count": null,
      "metadata": {
        "colab": {
          "base_uri": "https://localhost:8080/",
          "height": 36
        },
        "id": "SWVVZGAHycqK",
        "outputId": "37f48d59-ca35-46f1-a197-249681d91648"
      },
      "outputs": [
        {
          "data": {
            "application/vnd.google.colaboratory.intrinsic+json": {
              "type": "string"
            },
            "text/plain": [
              "'پو'"
            ]
          },
          "execution_count": 27,
          "metadata": {},
          "output_type": "execute_result"
        }
      ],
      "source": [
        "df.loc[3993,'Review']"
      ]
    },
    {
      "cell_type": "code",
      "execution_count": null,
      "metadata": {
        "colab": {
          "base_uri": "https://localhost:8080/",
          "height": 36
        },
        "id": "Ai9j5mJfygED",
        "outputId": "fea2d6f5-fcdc-42d6-e133-b9e9780fc021"
      },
      "outputs": [
        {
          "data": {
            "application/vnd.google.colaboratory.intrinsic+json": {
              "type": "string"
            },
            "text/plain": [
              "'♥️Pirashanth ♥️Thaventhini ♥️peniksha ♥️🥰🧚\\u200d♂️🧚🥰'"
            ]
          },
          "execution_count": 133,
          "metadata": {},
          "output_type": "execute_result"
        }
      ],
      "source": [
        "df.loc[957,'Review']"
      ]
    },
    {
      "cell_type": "code",
      "execution_count": null,
      "metadata": {
        "colab": {
          "base_uri": "https://localhost:8080/",
          "height": 36
        },
        "id": "MJ_JQCFByjeB",
        "outputId": "6edfe86d-e704-4da0-fdd7-b62909ecd4a4"
      },
      "outputs": [
        {
          "data": {
            "application/vnd.google.colaboratory.intrinsic+json": {
              "type": "string"
            },
            "text/plain": [
              "'SLIEEMJAN'"
            ]
          },
          "execution_count": 141,
          "metadata": {},
          "output_type": "execute_result"
        }
      ],
      "source": [
        "df.loc[4040,'Review']"
      ]
    },
    {
      "cell_type": "code",
      "execution_count": null,
      "metadata": {
        "colab": {
          "base_uri": "https://localhost:8080/",
          "height": 36
        },
        "id": "MgtQKaVxym6A",
        "outputId": "d81c2db5-0866-4cca-aba0-e0426ed55b2e"
      },
      "outputs": [
        {
          "data": {
            "application/vnd.google.colaboratory.intrinsic+json": {
              "type": "string"
            },
            "text/plain": [
              "'Plzzzz TikTok team unfreeze my TikTok account plzzz plzzz🙏🙏🙏🙏🙏🙏🙏plzzz@rizwanbhai2008 unfreeze my account thank you'"
            ]
          },
          "execution_count": 154,
          "metadata": {},
          "output_type": "execute_result"
        }
      ],
      "source": [
        "df.loc[3761,'Review']"
      ]
    },
    {
      "cell_type": "code",
      "execution_count": null,
      "metadata": {
        "colab": {
          "base_uri": "https://localhost:8080/",
          "height": 36
        },
        "id": "Xk7Bn6xhjrpW",
        "outputId": "85cc1ce2-911e-45d1-a1cd-c577ba66fb78"
      },
      "outputs": [
        {
          "data": {
            "application/vnd.google.colaboratory.intrinsic+json": {
              "type": "string"
            },
            "text/plain": [
              "'Lee-,Juane Swarts Luck . ....... ......'"
            ]
          },
          "execution_count": 176,
          "metadata": {},
          "output_type": "execute_result"
        }
      ],
      "source": [
        "df.loc[1014,'Review']"
      ]
    },
    {
      "cell_type": "code",
      "execution_count": null,
      "metadata": {
        "colab": {
          "base_uri": "https://localhost:8080/",
          "height": 36
        },
        "id": "tCd4Lyjp6Hbr",
        "outputId": "bd0beca9-0c21-4d3b-cfae-480bb085ffa2"
      },
      "outputs": [
        {
          "data": {
            "application/vnd.google.colaboratory.intrinsic+json": {
              "type": "string"
            },
            "text/plain": [
              "'হুম'"
            ]
          },
          "execution_count": 212,
          "metadata": {},
          "output_type": "execute_result"
        }
      ],
      "source": [
        "df.loc[4910,'Review']"
      ]
    },
    {
      "cell_type": "markdown",
      "metadata": {
        "id": "hJaOxI-69NnQ"
      },
      "source": [
        "**Print the total number of stopwords and the 10 most frequent\n",
        "stopwords in the text**"
      ]
    },
    {
      "cell_type": "code",
      "execution_count": 20,
      "metadata": {
        "colab": {
          "base_uri": "https://localhost:8080/"
        },
        "id": "n-Jsj7cB7jcX",
        "outputId": "d08ed48e-a9db-4db4-85b3-a4b6b0076bb4"
      },
      "outputs": [
        {
          "output_type": "stream",
          "name": "stdout",
          "text": [
            "Total number of stopwords: 18794\n",
            "\n",
            "Top 10 most frequent stopwords:\n",
            "my: 1256\n",
            "I: 1250\n",
            "and: 1096\n",
            "the: 937\n",
            "to: 883\n",
            "it: 704\n",
            "is: 678\n",
            "you: 630\n",
            "a: 571\n",
            "for: 455\n"
          ]
        },
        {
          "output_type": "stream",
          "name": "stderr",
          "text": [
            "[nltk_data] Downloading package stopwords to /root/nltk_data...\n",
            "[nltk_data]   Unzipping corpora/stopwords.zip.\n"
          ]
        }
      ],
      "source": [
        "from collections import Counter\n",
        "from nltk.corpus import stopwords\n",
        "import nltk\n",
        "\n",
        "# Download stopwords\n",
        "nltk.download('stopwords')\n",
        "\n",
        "# Define the set of stopwords\n",
        "stop_words = set(stopwords.words('english'))\n",
        "\n",
        "word_list = all_words\n",
        "\n",
        "# Filter stopwords\n",
        "stopword_list = [word for word in word_list if word.lower() in stop_words]\n",
        "\n",
        "# Total number of stopwords\n",
        "total_stopwords = len(stopword_list)\n",
        "print(f\"Total number of stopwords: {total_stopwords}\")\n",
        "\n",
        "# Most frequent stopwords\n",
        "stopword_counts = Counter(stopword_list)\n",
        "top_10_stopwords = stopword_counts.most_common(10)\n",
        "print(\"\\nTop 10 most frequent stopwords:\")\n",
        "for word, count in top_10_stopwords:\n",
        "        print(f\"{word}: {count}\")\n",
        "\n"
      ]
    },
    {
      "cell_type": "markdown",
      "metadata": {
        "id": "ourHneLaAsfp"
      },
      "source": [
        "**Check and identify the spelling mistakes in the text.**"
      ]
    },
    {
      "cell_type": "code",
      "execution_count": null,
      "metadata": {
        "colab": {
          "base_uri": "https://localhost:8080/"
        },
        "id": "h-9qVaB998xp",
        "outputId": "295aa311-1ceb-40aa-c844-cb9c642bbf88"
      },
      "outputs": [
        {
          "output_type": "stream",
          "name": "stdout",
          "text": [
            "[nltk_data] Downloading package brown to /root/nltk_data...\n",
            "[nltk_data]   Package brown is already up-to-date!\n",
            "[nltk_data] Downloading package punkt to /root/nltk_data...\n",
            "[nltk_data]   Package punkt is already up-to-date!\n",
            "[nltk_data] Downloading package wordnet to /root/nltk_data...\n",
            "[nltk_data]   Package wordnet is already up-to-date!\n",
            "[nltk_data] Downloading package averaged_perceptron_tagger to\n",
            "[nltk_data]     /root/nltk_data...\n",
            "[nltk_data]   Package averaged_perceptron_tagger is already up-to-\n",
            "[nltk_data]       date!\n",
            "Finished.\n"
          ]
        },
        {
          "output_type": "stream",
          "name": "stderr",
          "text": [
            "[nltk_data] Downloading package punkt_tab to /root/nltk_data...\n",
            "[nltk_data]   Package punkt_tab is already up-to-date!\n",
            "[nltk_data] Downloading package punkt to /root/nltk_data...\n",
            "[nltk_data]   Package punkt is already up-to-date!\n"
          ]
        },
        {
          "output_type": "stream",
          "name": "stdout",
          "text": [
            "Unique spelling mistakes found: {'foji', 'manny', 'p*rn', 'uranus', 'nazi', 'biasness.', 'accessable', 'addicting', 'Aacharya', 'If', 'Geared', '@dimand.soul62', 'Hai', 'Closes', 'কক্', 'haha', 'AT', 'Somrat', 'Nice', 'osman', 'dms', 'daysy', 'ofc', 'Many', 'automaticcly', 'kg', 'Xxx', 'profiles!!', 'mogłem', 'requeste', 'Anik', 'Laggy', 'Costco', 'Liars,', 'rzan', 'alikom', 'downlaoad', 'yar', 'supperb', 'Username..yousaf.muna.9T9', 'ainda', 'ecnat', 'etyy', 'amar', 'pr', 'eits', 'Raja', 'nember', 'paj', 'likha', 'Sk🥰Sime🥰', 'yah', 'recomended.few', 'fariz', 'Tim', 'fake', 'juke', 'unbanned', 'unfreeze', 'banding', 'Lolu', 'hates', 'aata', 'kolwa', 'varil.', 'haunting', 'glitchy', 'Naseem', 'guidlines', 'Nac', '1m.like', 'foller', '😭😭😭😭😭😭😭😭😭😭😭😭😭😭😭😭😭😭😭😭😭😭😭😭😭😭😭😭plz', 'York', 'Un', 'sewar', 'saba.', 'achi', 'Iike', 'asap', 'ghe', 'veiws', 'yirl', 'Can', 'updates', 'Tem', 'accunt', 'encrypted.', 'alekum', 'fui', 'dekhte', 'bas', 'virlation...', 'Opin', 'Awan', 'pops', 'caveat?', 'Mardan', '24hours', 'Dana', 'Lame!', '😔😔chota', 'Ni', 'bhej', 'app❤️❤️❤️❤️❤️❤️❤️', 'outlier.', 'permissions', 'pooe', 'reinstatement.', 'Has', 'bunnd', 'اي', 'unbaind', 'So', 'android', 'mushkil', '@khizar.25g', 'Cee', 'hoin', 'Username].', 'Nikki', 'Live', 'EU', 'demure', 'varrel', '40k', 'unfollow', 'Jay.', 'unbeend', 'Raju', 'تم', 'video.plz', 'ذا', 'সুমাইয়া', 'ol', 'inbox', 'Bug', 'unband', 'আজ', 'Nasim', 'veril', 'ya.', 'vairal', 'tha', 'Pala', 'ٹک', 'katest', 'rahe', 'dullo', 'Put', 'Hmm', 'aps', 'plllez', 'porking', 'affice', 'gouri', 'iam', 'গল্পই', 'steag', 'pleaz', 'yt', 'kardo', 'Goood', 'vibrant', 'Pleeze', 'cozy', 'worning', 'M.Hason', 'existent', 'lifmx', 'কমে', 'kol', 'De', 'isnt', 'sabse', 'voilation', 'sakta', 'dumplings.', 'Foru', 'ek', 'savers', 'ijust', 'Fives', 'tiktok💓', 'broking', 'rapist', 'ভাসছে', 'govt', 'Sundar', 'belowI', 'Butifull🖤🖤💙💙❤️❤️💘', 'Dani', 'Farrn', 'tengo', 'saport', 'Goid', 'paliek', 'Plase', 'PE', 'entertainments', 'unfollowed.', '@abdur.rahman.313', 'gmail', 'shorts', 'Out', 'skip', 'deleted,', 'Afnan', 'Sass', 'zeeshan.gulli80', 'kurbaan.khaskheli', 'momint', 'Sanny', 'pak', 'intertainmennt', 'plz😭', 'Awsome', 'frustrating,so', 'uaer', 'Bande', 'ilove', 'shi*', 'contacts,', 'simps', 'Kangoma', 'vids', 'sexist', 'Gedgk', 'unusable', 'tryna', 'taam', 'Waqas', 'Userl.u.q.m.a.n44', 'oop', 'waled', 'Ch', 'benifit', 'hardcore.', 'kia', 'baned', 'Sanan', 'tiktik', '😭😭plz@blovem', 'osam', 'Dera', 'IN', 'intrusive', 'me.plz', 'tik', 'terminally', 'uranning', 'UNband', 'marai', 'Dekho', 'রঙিন', 'huta', 'restarting', 'minors', '🙏🙏🙏🙏🙏🙏🙏🙏🙏🙏🙏🙏🙏🙏🙏🙏🙏🙏🙏🙏🙏🙏🙏🙏🙏🙏🙏🙏🙏🙏🙏🙏🙏😭😭😭😭😭😭😭😭😭😭😭😭😭😭😭😭😭😭😭😭😭😭😭😭😭😭😭😭😭😭😭😭10k', 'paga', 'scammers', 'Ka', 'szuper', 'ker', 'chalta', 'aap', 'teams', 'creeps,', 'kro', 'temp', 'পরে', 'reboots', 'sapod', 'anbeak', 'Song', 'info.', 'Nope.', 'waster', 'app.i', 'jani0', 'kis', 'ko', 'titok', 'tooken', 'emojis,', 'Uamir', 'Saab', 'relatable,', 'app💓', 'What', 'abeg', 'Siam', 'tock', 'unlock🔓', 'ٹٹ', 'Ps3', 'Rjiq', 'নস্ট', 'Em', 'loll', 'baba', 'Ubiad', 'specialy', 'Lee-,Juane', 'තමා', 'unfrees', 'Far', 'wafaa', 'boo', 'uploa', 'veduo', 'Tips:', 'Come', 'Tass', 'tarm', 'Best', 'Veari', 'bayan', 'Mom.........', 'maliit', 'totaly', 'Makes', 'thrush', 'ppl', 'rede', 'pzz😭😭😭😭😭😭😭😭😭😭😭😭😭😭😭', 'thnks', 'ew', 'halp', 'nyoko', 'Sports', '@u.farooq', 'gujran', 'typing', 'Moon', 'notification.', 'creepy', 'hai,', 'tk', 'misbah', 'recaver', 'ওয়ার্ল্ড', 'account?unbanned', 'sunao', 'idols', 'alyo', 'Hf', 'ikont', 'acount.', 'hacer?', 'app😍😍', 'foryuo', 'Ban', 'যাওয়ার', 'Bijoy', 'advertisment.', 'জীবনের', 'raja', 'faimly', 'Otp', '𝐢𝐬', 'HE', 'Delet', 'Anas', 'rtt', 'Backgrounds,', 'nhi', 'maut', 'laga', 'Jan', 'lak', 'Here', 'bund', 'waja', \"Here's\", 'Vip', 'Tran', 'لك', 'cni', 'app👍', 'hia', 'Plzz', 'bueno,', 'wapes', 'Play', 'burp??', 'bots', 'underview', '🥰viral', 'movies,', 'leftist', 'plazz', 'Dear.tiktok', 'wanna', 'lgbt', 'godd', 'chenial', 'Biden', 'followrs', 'messeges', 'Aage', 'Shorts.', 'Asif', 'raile', 'unusable.', 'reinstall,', 'Mahid', 'hoina', 'কথা', 'Ben', 'litterly', 'Unban', 'guidelines.', 'okey', 'Pl', 'Amit', 'faib', 'varill', 'pointless', 'itt😍', 'youu', 'Capri', 'margun', 'Goog', 'মাধ্যম,', 'Tg', 'pahuncha', 'glitchy!', 'fbi', '.tik', 'Softest', 'nazis.', 'Bast', 'jaye', '@pti.', 'FB,', 'fou', 'vip', 'bot', 'acaunt', 'Palaz', 'sazai', 'MD', 'smh', 'sath', 'Hossen', 'showes', 'আরেকটা', 'lgaya', 'AI', 'Awami', 'Ty', 'vedioes', 'account😭😭karak', 'accaount', 'Test', 'Zameer', 'Four', 'Kay', 'Ke', 'apne', 'tiktok,,😓😭piz,,my,', 'chahta', 'crashes', 'c/laahi', 'gonna', 'Hell', 'llO', 'Done', 'uninstall.', 'p0₽n', 'virlie', 'videos', 'onband', 'আতিকুল', 'Feed', 'app🥰', 'হবে', 'app.busy', '𝐈𝐭', 'tbh.', 'pales', 'app!!', 'Mahar', 'educations', 'bande', 'bla', 'Aap', 'Fac', 'Werw', 'Himy', 'clipboard', '1year', 'unfunny.', 'dope.', 'megas', 'typist', 'frend', 'app?', 'Asgar', 'Page....plzzz', 'jamil', 'pera', 'পরিমাণ', 'app..', 'chronologically)', 'teme', 'mujhe', 'app💯💯', 'Account:rana.dilsher7', 'frustrating.', 'vwez', 'akash', 'kaml', 'zangu', '🤷🏻\\u200d♂️pero', 'templates', 'Scroling', 'tam', 'Nomi', 'jai', '@karak', 'work.Idk', 'plase', 'jis', 'themed', 'Ghatia', 'bai', 'Joss', 'mony', 'Sali', 'ydou', 'Nicee', 'thanku', 'spamming', 'Teu', 'pIeas😢😢😢🥺🥺🥺', 'reposted', 'Bhi', 'Jarvis,', 'tiktok??', 'Babar', 'বলে', 'hai...', 'redownload', 'bricked', 'getting....yall', 'tym', 'Buu', 'Gold', 'plz🙏🙏🙏🙏🙏🙏🙏🙏', 'Cumer', 'thik', '@smk.sudais', 'app...', 'tooo.......😏😏😐', 'Account.plz.', 'mods', 'ahora', 'divisive', 'Dj', 'mong', 'At', 'krwa', 'mutes', 'Bad', 'Kara', 'vidio', '10million', 'Mid', 'Danceing', 'sou', 'Gaming', 'walon', 'bullys', 'Fawad', 'plaints', 'Uploading', 'আলি', 'Fine,', 'attemps', 'socialising', 'slso', 'viwes', 'Go', 'doshr', 'KO', 'Plzy', 'dagso😂', 'werid', 'propellies', 'Saleem.', 'Fltar', 'Park', 'Der', 'vedio', 'naam', 'izar', 'walla', 'risponce', 'Mery', 'krado', 'SigmA', 'Nice😇😇😇', 'plz😭😞😞😔😔', 'Rahe', 'fffff', 'Tiktook', 'raha', 'Mohamed', 'وی', 'aya', 'aap👌', 'faraind', 'Kadir', 'হলো', 'afzal', 'Mss', 'anad', 'eliminarles', '(reapectively)', 'uper', 'Haider.Ali', 'Goui', 'aapke', 'pindi', 'Obama.', 'karaking', 'plz😭😭😭😭😭😭', 'groth', '30min', 'best.pluss', '𝚝𝚘', 'dogar', 'Dish', '1st', 'sooo', 'app💗', '#tiktok', '@haris.khan1528', 'accout', 'pehly..', 'buffering.', '𝐦𝐲', 'গল্প', 'islam', 'krdo', 'Tkik', 'TT,', 'ME.', 'bh', 'caters', 'problemy.', 'sapurt', 'reopen', 'Tok', 'fandastic', '#viral', 'becouse', '5m', 'plateform', 'ڈی', 'Reels', 'Name', '10k', 'unfreeze.', 'evry', 'fovrit', 'knowlege', 'karo🙏🙏🙏🙏🙏', 'Hy', 'rifat..001', 'Tok....and', 'Bill', 'Noce', 'anfrez', '🙏plz', 'Creat', 'meri', '@malik', 'eccount', 'glitched', 'مع', 'vishal', 'slides', 'acciuect', 'Iove', 'bugs.', 'nowards', 'IF', 'Wow,tiktor', 'hacks', 'hui', 'US', 'Mut', 'Mohon', 'barh', 'nem', 'Ariah', 'balooch', 'darn', 'virel', 'bcz', 'bhai', 'disavanages', 'MOko', 'creepy.', 'videos?', 'als', 'please.Uska', 'baje', 'Bugs', 'PA', 'gan', 'Iqra', \"Can't\", 'wazir', 'LA', 'emailed', 'coinig', 'Islam', 'hoi', 'unfreaz', 'Location', 'Bohot', 'Vary', 'Ok', 'chik', 'deleting.', 'racist.', 'Unman', 'Post', 'caches,', 'hota', 'nh', 'sar😭', 'audio?', 'hasan', 'sotti', 'Faraz', 'Tati', 'খুলতে', 'لا', 'tik-tok', 'req', 'Unbend', 'minurs', 'Mara', 'acunts', 'sana', 'bij', 'Wao', 'plzz', 'krik', '𝚒𝚝', 'Alot', 'biased', 'Feeel', 'Nie', 'Viwes', 'videoes', 'vlogs', 'Programmed', 'paisa', 'Abas', 'উধি', '@muhammad.talha.ali306', 'Dileep', 'Insan', 'zyda', 'kids', 'Aiex', 'Avon', 'Ishaq', 'Im', 'please.Mere', 'سے', 'Better', 'kare', 'Sarkar', 'cus', 'vadio', 'youtube', 'app,as', '1M❤️ছাই', 'option.So', 'tv', 'rap', 'hmm,problem,', 'Wow...', 'Kov', 'ir', 'কষ্টের', 'website', 'Jab', 'una', 'creater', 'strees', 'Khark', 'ups', 'gym', 'DM', 'laggy', 'kharo', 'Faltu', 'peado', 'excilent', 'Banner', '.wornig', 'reshaped', '2get', 'arahay', 'inspirational', 'vedioes..plzz', 'hun', 'মোবাইলে', 'Husnain', 'plse', 'uhlelo', 'app💞', 'Ali', 'lugar', 'pleez', 'terrorists', 'swings,', '\"yuck\"', 'Farman', 'Trash', 'turd', 'loosing', 'Tell', 'Sameer', 'cellphone.', 'Needless', 'carbic', 'plzz😭😭😭😭😭😭😭😭😭😭😭😭😭karak', 'mehak', 'reposts.', 'bullad', 'reviewers', 'Ads', 'bana', 'scum', 'বাইরে', 'bhr', 'সমাজ', 'Rais', 'Pellez', 'hojae', '@halar.rind8', 'będę', 'kark', 'banido', 'looping', 'guidelines\".', 'cussing', 'guck', 'Geym', 'furyou', 'isase', 'redicolous.But', '\"RP', 'We', 'babar', 'Ganad', 'Sadk', 'upload', 'AL', 'karak', 'phudi', 'ponography.', 'mari', 'Sigma', 'Muji', 'AJ', 'patha', 'frize', 'tok.', 'unbined', 'ها', 'Karake', 'stopp', 'Javed', 'harass,', 'usa', '🤠🤠🤠App', 'Fast', 'کر', 'Nnml', '67k', 'haseeb', 'Sai', 'uski', 'itertainment', 'personalize', 'Dil', 'lok', 'বুঝলাম', 'Mamun', 'qal', 'Hogi', '😭😭@karak', 'Bhot', 'app,watch', 'ase', 'acen', 'gb', 'endroit', 'aziz', '𝐦𝐞', 'fing', 'Abu', 'contens', '1k', 'toc', 'tictoc', 'glitching,', 'uninstall', 'idon', 'kib', 'appload', 'OKz', 'ur', 'cute', 'TikTok.Liek.50', 'Ima', 'Saddam', 'bacho', 'Guru', 'slider', 'Guy', 'username.dj.shani', 'En', 'kaz', 'bhi', 'Miya', 'pics', 'Liya', 'Ontor', 'Jawad', 'kingg', 'lowkey', 'addictive.', 'Zhit', 'p5😭😭😭😭😭😭😭😭😭', 'Guidelines', 'Siyam', 'videos😭😭😭😭😭', 'islam.taizul8', 's24s?', 'skew', 'apppp', 'mara', 'texting', 'app,..no', 'Sput', 'socialize', 'zarort', 'ای', 'kuch', 'reloading', 'Tells', 'zonder', 'puri', 'vid', 'viaral', 'waistage', 'Sundance', '...fz', 'kRo', 'Susma', 'Helllo', 'followres', 'Guidelines,', 'Karan', 'Sharte', 'mafnan', 'tiktoks', 'baloch', 'Saiful', 'acout', 'Ciens', 'menores', 'adays', 'porblem', 'Afzal', 'Abc', 'chera', 'cheats', 'Saith', 'كل', 'forfou', 'forgote', 'farmat', 'maaz', 'pkease', 'Supar', 'plaza', 'Fatma', 'shootings,', 'tikTok', 'Rm.roton', 'freezed.', 'Azhar', 'Hoon', 'blacked', 'smit', '1M', 'intertaning', 'flez', 'deleting', 'mera', 'me,cuz', 'censors', 'faryuo', 'Uk!', 'piz', 'Wooo', 'Adeel', 'goodest', 'Banned', 'itx-cutiee', 'Cringe', 'akho', 'Joe', 'schmuck', 'gulli80', 'freaze', 'lags', 'cuntant', 'grooming', 'glitches', 'plizz', 'sar', 'harasses', 'pliz', 'unfriz', 'Nahar', 'amzaing', 'Jibran', 'tram', 'acha', 'cjd', 'tok,', 'anblack', 'Every', 'udi', 'js', 'yahi', 'aa', 'spam', 'Sufyan....100', 'Unband', 'Exellent', 'Phones', 'Usefull', 'Resticted', 'kano', 'ده', 'noooo', 'Much', '4k', 'sudais.khan35806', 'سب', 'rether', 'kamane', 'contrnt', 'vezes.', 'wass', 'Lee', 'hainor', 'hai', 'Masum', 'Akter', 'Ywoje', 'tiktok💞🥀', 'Suleman', 'Juutt', 'Muito', 'Shalom', 'kmk', 'squash', 'Say??????', 'unbennd', 'TO', 'PIeas', 'নুসরাত', 'Verizon', 'allt', 'predators', 'Toker', 'prez', 'Reads', 'Kar', 'Tok!', 'Opiest😁', 'worinking', 'Fandi', '😈😈😂😂😯😯😯😢😦😢😢afew😈😡😢😡😤😧😧😢inbangladesh😯', 'Zahid', 'ruhr', '5th', \"𝚒𝚝'𝚜\", 'bhejo', 'ony', 'Devs', 'daer', 'Khsa', 'undanned', 'overaged', 'Tik', 'Usman', 'syd', 'browser', 'Hafez', 'upto', 'alp', 'Teem', 'Gopang', 'frind', 'chalo', 'کص', 'تو', 'plZz', 'ldka', 'nightmares', 'thru', 'reinstalling', 'iPhone', 'Farhan', 'moje', 'tiktok.please', 'আসার', 'recheck', 'এন্ড', 'app😃', 'Sadly', 'দেখতে', 'Saymun', 'Profiles', 'firearm', 'আমার', 'Bahut', 'যন্ত্রনা..!😥🌸', 'Ever', 'Rj', 'unstall', 'Kesha', 'iska', 'predictors,', \"I'LL\", 'opition', 'mafi', 'wold', 'tiktok👍', 'alikum', '@kings.of.raja', 'Gih', 'was.Then', 'fazli', 'logoout', 'bullying', 'King.4a4', 'tati', 'doggo', 'sensor-ship', 'کہ', 'jar.khan66', 'Thats', 'cache,', 'Peller', 'Nice👍👏👍👏', 'viraly', 'unban', 'Jake', 'unban,,', 'nae', 'fllowers', 'uske', 'applicaton', 'Mari', 'ullah', 'Gaye', 'Scams.', '...infact', 'Hata', 'rasist', 'toker', 'está', 'Nene', 'repost', 'goo', 'Phull', 'deleted.', 'fyi.', 'everthing', 'Pa', 'iys', 'monitize', 'onban', 'tnx', 'seх', 'scroll,', 'Omg🥰', 'Zk........jani', 'tiktok,', 'ToK', 'saal', 'Kya', 'versión', 'apni', 'AM', 'Leif', 'entities', 'legit', 'it.This', 'jaan', 'Alderson', 'Rahi.', 'time.is.golde', 'TikTok.please.sport.me.10k.follower.', 'S6', 'No:1', '✌️😒-★-এই', 'Pelz', 'bekar', '30k', 'odas', 'diz', 'omg!', 'unfollowing', 'murad', 'destarbing', '(@karak', '@nouman.batti9', 'Daud', 'Szuper', 'بن', 'app?...', 'appd', '@khilji.usman', 'Commints', 'unsettling', '3i)', 'lagce', 'sana,', 'How', 'netwerk', 'Yay', 'GCg', 'পরি', 'kiddo', 'foryou.', 'Ye', 'woth', 'Na', 'HV', 'এর', 'xar', 'Asham', 'app!', 'karea', 'Odeio', 'acconut', 'ads.', 'non-existent.', 'intuitive', 'banning', 'Áqk', 'bugging', 'Saim', 'Giood', 'Okey', 'hkj', 'ME', 'wittle', 'Pr', 'sapot', 'Exelent', 'mum', 'XO', 'Nais', 'colorful', 'pha', 'Fake', 'Coz', 'Howa', 'kr', 'app\\U0001fae1', 'offline', 'foryou', 'Giid', 'আআ', 'abdul', 'Gi', 'gooder', 'Slow', 'zada', 'volgers', 'gu', 'bulling,', 'brohi', 'sajjad.ahmad0082', 'Jatt', 'obscene', 'hamari', 'Kala', 'king...Afnan', 'yall', 'Sho', 'kwijt', 'Plz🙏😭🙏😭', 'havent', 'hassle', 'Rodri', 'zalmo', 'evrey', 'TiK', 'Waseem', 'tweaking.', 'লাইন', 'crashes.', 'karoo😡😡😡😡', 'messaging', '🥺🥺💔🥺🥺🥺\\U0001f979🥲🥲Mera', 'opection', 'farez', 'rovlwing', 'Jimma', 'taktak', 'nawais', 'tictok', 'ہے', 'eso', 'Excellente', 'shi', 'Taver', 'varel', 'viral.my', 'fazal', 'Dr', 'moeda', 'strbay', '15.5k', 'Reach', 'bigoted', 'olf', 'nakaka', 'stutter', 'vedios', 'Oba', 'perma', '@ussr', 'injway', 'zflip', 'injoy,', 'Nahin', 'app😘😘😘😘😘', 'ahold', 'Scot', 'padha', 'Ineed', 'Korea.', 'Do', 'ngl', 'idk', 'nombre', 'Moringa.', 'transphobia,homophobia,bullying,death', 'bohat', '\"sexual/nudity\"', 'nabi', 'vtg', 'kharap', 'Kashem', 'Hitler࿖', 'Tanda', 'uploaded', 'Scary', 'Faiz', 'karti', 'Ahmad', 'wisted', 'Secuirty', 'ki', 'Waw', 'amo', 'Za', 'uska', '100.0K', 'shaky', 'Saath', 'bans', 'drastically', 'Eu', 'username:romeoyounas', 'Sumon', 'crashs', 'Tictoc', 'Hlo', 'Awais', 'exiting', 'প্রতিটি', 'maldita', 'intertaining.', 'Nisa', 'yo', 'pissed.', 'AS', 'palees', 'Matdan', 'ٽڪ', 'mirza.arslan.king.77', 'Flko', 'kora...', 'everone', 'Bestie', 'gy', 'tiktok', '💩💩bale', '.unfrez', 'hussain', 'caption,', 'unbened', 'biased,', 'karunga', 'ata', 'Vairal', 'Got', 'Tok@inayat', 'raka', 'pleae', 'Babu', 'karo', 'Doodla', 'Sapri', 'gat', 'Updates', 'wrong.So', 'beautifull', 'activation', 'জচংনডবঁষডঠপ', 'mucho', 'foryou...', 'videos,', 'Deleting', 'unprez', 'że', 'untill', \"Won't\", 'scrolling.', 'ওই', 'por', 'Viral', 'viewis', 'Messaging,', 'tbh', 'goog', 'apsan', 'اپ', 'Ashok', 'varshik', 'margune', 'gliching', 'عل', 'আক্রর', 'gharay', 'diarrhea', 'Say', 'Scrolling', 'Kam', 'Plass', 'dms.', 'onprez', 'Phone', 'aligns', 'washy', 'anytime', 'Nouman', 'creaters', 'osm', 'reman', 'সবাই', 'Miut', 'ইন', 'Aisa', 'Username:-', 'oLloO', 'factual', 'বানাইছো', 'অফিশিয়াল', 'Ggj', 'nahi', 'flase', 'scam', 'jutt', '@Karak', 'afridi', 'Pluz', 'sms,', 'Supper', 'sis', 'charhar', 'Jacklet', 'Tfse', 'infomasion', 'YT', 'yrs', 'margan', 'betar', 'Van', 'biral', 'Muskan', 'jaldi', 'کو', 'Kaun', 'Juhar', '𝚖𝚢', 'anke', '𝐢𝐧', 'freze', 'tixtok', 'Sufyan', '@꧁𓊈𒆜🆂🅴🅱🅶🅷🅰🆃...', 'glitches.', 'teame', 'Asa', 'toke', 'tirar', 'pizza', 'creators', 'Prezly', 'nagger', 'Bhatti', 'waa', 'Amjad', 'ফলোয়ার', 'viral🥺😥', 'app😍', 'wow', 'rasa', 'arshiman', 'Beliat', 'Kiya', 'folower', 'leaked', 'Rahad', 'Fayaz-khaskheli❤️', 'Hhfi', 'censoring', '1B', 'manys', 'verification', 'creaters!', 'پر', 'Ne', 'Kisah', 'bogus.', 'smashes', 'Banning', 'garbage', 'gaming', 'moderators.', 'astoundingly', 'amd', '𝚖𝚎', 'accound', 'koldo', 'nah', 'Un-installed', 'tiktok!', 'abdur.rahman.313', 'glitchy.', 'Dont', 'Plazz', 'craching', 'couse', 'nhe', 'bala', 'plz', 'raza', 'viven', 'Bruh', 'টকে', 'theird', 'cheak', 'icomt', 'please😓😓😓😓😓😓😓@usergulfam.aqeel.578', 'SE', 'umar', 'sajjad', 'kero', 'khow\\U0001f979\\U0001faf6🌷⚘️🌹\\U0001fab7💮🌸💐🌻🌺\\U0001fabb⚘️🌱🌼', 'jani', 'targeted', 'junk', 'Sath', 'hr', 'Tokker', 'diya', 'app😊😊', 'apeal', 'ahd', 'ofA', 'Akram', 'Sadam', 'tiktok.', 'redirecting', 'page_', 'bei', 'hepl', 'Plse', 'friend...plzz', 'Shan', 'TIk', 'wimps', 'stinks.', 'Obama', 'resen', 'л.д.эрдэнэбат.мн.ком.', 'speeds', 'নাইস', 'Arfan', 'hudai', 'kitne', 'freezer', '(Fix', 'Unsure', 'banned\".', \"Hassan'issack\", 'banning,', 'tho', 'unfaries', 'Rana', 'Ahemd', 'Eh', '.My', 'UN.', 'demeaning,', 'এক', 'lakin', 'audr', 'Videos...🥺🥺', 'shoukat', 'trinte.', 'tela,', 'olds', 'WaS', 'veral', 'kar', 'acoount.', 'sy', 'Fahad', 'milian', 'educative', 'hamara', 'Agon', 'Aliza', 'Grum', 'fricking', '🥺plz', 'Arafat', 'Yah', 'Worse', 'ena', 'Daya', 'reinstalled,', 'wishy', 'في', 'sux', 'unbannd', 'saza', '2x', 'Noice😂😂😂', 'teim', 'aate', 'tadese', 'dude', 'thei', 'upcoming', 'Captions', 'Rju', 'reposted\"', 'ktk', 'Keep', 'অল্প', 'gairon', 'Gmail', 'Naic', 'yaur', 'Kgj', 'lol.', 'UK', 'NO', 'Main', 'Acound', 'soo', 'karu,', 'airguns,', 'tener', 'Pliz', 'femes', 'garbage!', 'app--', 'Qamar', 'plez😰😰😰😰😰', 'problam', 'bruh', 'borening', 'kinda', 'طم', 'speding', 'pagla', 'ao', 'butifull', 'pip', 'tocs.', 'Holl', 'dekhta', 'herbal', 'Tab', 'gandi', 'plz😭😭😭😭😭😭😭i', 'Unfreeze', 'Notification', 'tomake', 'Mi', 'frou', 'Sawaid', 'ɓad', 'ap', 'bahout', 'Hkra', 'meta', '5k', 'sanaa', 'vral', 'kwa', 'interacted', 'banaun', 'Sex', 'folder.', 'ym', '1Mviews', 'می', 'Nah', 'gmail.', '(randomly', 'cmon', 'drippy', 'bel', 'Qti', 'Zarik', 'رب۔', 'anas.dawar1', 'ڪر', 'Genje.', 'censored.', 'ঠিকঠাক', 'alot', 'Plaz', 'Five', 'Vai', 'Exlance', 'striked', \"What's\", 'Gv', 'Fox', 'balo', 'audio.', 'wahab', 'rn', 'Kaisa', 'follower.v1.00000', 'DI', 'unsubscribe', 'audio', 'censurado', 'mehar', 'app❣️', 'Fun', 'Bithi', \"app's\", 'IG', 'cant', 'notifications', 'it.putki', '10:9K', 'moją', 'Store', 'Deer', 'Diya', 'unbande', 'hogya', 'baning', 'Kids', 'benned', 'relatable', 'glitch', 'Karabo', 'dolly', 'Naa.i', \"moderator's\", 'acount', 'usko', 'aquela', 'Sarmin', 'vaeri', 'Roman', 'Rehmat', 'Wry', 'Feh', 'bunned', 'vilr', 'spewing', 'profiles', 'gondal', 'tem', 'Nic', \"Ad's\", 'deare', 'Fnd', 'তিক্তক', 'opan', 'এটাতে', 'Faisal', 'gya', 'Sa', 'DO', 'Md', 'fastest', 'Karke', 'fd', 'Sarker💝', 'Chalte', 'parishan', 'mtyal', 'frezz', 'Sohan', 'Zawar', 'দেখতেচি', 'markose', 'acccount', 'comm', 'appp', 'swiping', 'Toks', 'Mammad', 'c/casiis', 'MR:Siddik', 'Wasif', 'Play.', 'kharab', 'alot,', 'tictoks', 'fyp.', 'IS', 'ওকে', 'freezer.', 'targets', 'review.Garbage', 'didnt', 'tjis', 'plZ', 'এপ', 'করে', 'Guys', 'fon', 'Plesa', 'viral🔥', 'freaind', 'abhi', 'appa', 'samsung', 'samne', 'devs', 'Haider', 'কামল', 'cotant', 'HI', 'Falak', 'Roy', 'viral,', 'Pai', 'Maru', 'Way', 'paise', 'khano', 'charactwr', 'crear', 'arha', 'করিনি', 'waseem', 'Repost', 'Nicé', 'slowmo', 'thew', 'jaaye', 'aly', 'Mast', 'Ghost', 'Musa.', 'Thanx', 'bfr', 'disable.', 'banalne', 'uder', 'respone', 'Odifferent', 'emails', 'Manny', 'HA', 'ihsas', 'aplicatio', 'কমেন্ট', 'malhi', 'Halp', 'Try', 'hebe', 'kab', 'হয়ে', 'Vry', 'jodta', 'amzing', 'Wal', '😭🥺plz', 'gh', 'ඉන්නෙ', 'Gift', 'Plese', 'ik', 'হআৃগৃহহ', 'Waseer', 'verification.', 'pagal', 'bahot', 'Laggs', 'Ghar', 'kora', 'recharge', 'scamming,', 's21', 'capcut', 'Bzii', 'karik', 'Zayn', 'Date', 'Imran', 'অক্সিজেনের', 'bachyo', 'Garcia', 'Yiiopfujgjjkl.gj', 'Best🥰🥰🥰', '@awais.sindhi400', 'rizzler', 'evryone,', 'gulli6', '1m', 'laggs', 'Lol', 'Shi', 'Umar', 'uploading', 'zama', 'Yet', 'ads', 'Unwarning', 'sexy…', 'DJ', 'Kia', 'vid,', 'apps.', 'Idk', 'নাঈম,,', 'crashes,', 'Mai', 'rahi', 'Chak', 'مط،۔طنز', 'unfreezing', 'app,so', 'Baloch', 'cuenta.', 'Nine', 'wangu', 'banned..', 'buffing', 'chahiye', 'plz😣🙏🙏🙏', 'app.', 'Da', 'fucd', 'Khaki', 'doesnot', 'ratings', \"Ive'had\", 'kya', 'banned/deleted', 'guidelines\"', 'Tilton', 'plzss❤', 'tink', 'usefull', 'Adil', 'IT', 'ameen', 'kul', 'Sawali', 'trends,', 'app\"you', 'nu', 'tasvir', 'UP', 'Adnan', 'Karen', \"Let's\", 'heartache,', 'Meta', 'scrolling,swiping,commenting', 'yuo', 'Bsri', 'notification', 'hsh', 'prombel', 'اه', 'duffs', 'msanii', 'luv', 'X2', '@.sahil.khan41', 'Cant', 'Name.levelguru04', 'Logon', 'pls', 'Whats', 'stickers', 'options', 'restart', 'aapki', 'Com', 'tikyok', 'app🥰🥰🍁💞', 'bugs,', 'nno', 'sitoe', 'lite.', 'hasa', 'finagling', 'parying', 'Salar', 'Nii', 'Doston', 'Videos', 'info', 'pakistan', 'Anika', 'gia', 'ডুকলেই', 'This', 'Viewers', 'IJaz', 'Kase', 'ነው', 'censored', 'app,', 'videos...', 'Just', 'lite', 'ples', 'Redme', 'কতো', 'hoti', 'Man', 'Trump,', 'Karak', '👑Ahmad', 'ہی', 'Xhosa', 'Apps,', 'X9', 'slurs,', 'Ho', 'reposts', 'memes', 'botton', '20k', 'HD', 'informative', 'cuz', 'reggae', 'Raha', 'app.I', 'view.likes.comment.plz', 'Developers', 'Great!app', 'Akbar', 'coz', 'unbonded', '20.1k', 'Dar,tiktok,', 'Niha', 'wajid', 'اس', 'Username.', 'Gh', '(username:', 'Bueno', 'beefed', 'لي', 'Buh', 'plass', 'scrolls', 'viewpoints', 'bullying,', 'deg', 'frustrating,', 'siyal', 'isko', 'banned', 'নতুন', 'peple', 'OF', 'bint', 'খানকির', 'app🧃❤️', 'App', 'breand', 'reels', 'جٹ', '🥲🥲🥲karak', 'wielka', 'Pleaze', 'functioning', 'unbaned', 'Hussain', 'Fakers!!!!!', 'Nov', 'soonest', 'Gtu', 'plz🙏😢😥😰😰', 'ለኔ', 'টক', 'Jo', 'akbar.', 'wach', 'dodać', 'Anya', 'অনেক', 'deam', 'plz..😭😭😭😭', 'wehich', 'maza', 'panhwar', 'clipboard,', 'অতিরিক্ত', 'kekra', 'doesnt', 'karo😢😭😢😭😭😭🙏', 'uesrname', 'unlockimg', 'ভাইরাল', 'addicting.', 'Sigler', 'Mera', 'plz🙏😭😭😭😭😭', 'imazing', 'heartt', 'automated', 'অঁধদদঃফনঁঈটঁঅঃদথৌঅকখছধ', 'traumatized!', 'Billion', 'childeren', 'similer', 'vpn', 'autistic', 'pathan', 'rha', 'trolls', 'logged', 'jao', 'hui😭😭🥺😥😥', 'Wow', 'kerdo', 'ID', 'im', 'ان', 'beand', 'photos', 'kahit', 'Hi,', 'So,', 'pleaze', 'kahan', 'expirence...', 'funnnn!!!!!!!!!!!', 'Junkie.', 'Karo', 'hori', 'plz😭😭😭', 'phr', 'Wapas', 'reinstalling,', 'homepage', 'teached.', 'hd', 'hella', 'wre', 'Jamie', 'Lund', 'coding', 'bada', 'Amezing', 'Verry', 'keyboards', 'Awara', 'starr', 'pluz', 'hain', 'Thanku...', 'gettinv', 'Toc', 'Ibrahim', 'gti', 'karka', 'Iam', 'trendy', 'beefing', 'Nice🙂', 'rdx.bilal.01', 'Mr', 'airlines', 'rahti', 'Facts', 'Vearil', 'Lags', 'Olo', 'Me', 'ww', 'spoat', 'farhad', 'freezed', 'Malala', 'trending', 'sec', 'Loving', 'Hd', 'fi', 'Jaizan', 'Yas', 'يا', 'Bello', 'Mandi', 'kolhi', 'Mere', 'Theres', 'occount', 'creat', 'concent', 'tuk', 'টিকটিক', 'Kana', 'Fab', 'M.Ayaan', 'Uninstalled', 'sociel', 'Verification', 'reset', 'IT!!!', 'Sport', 'rehmat', 'baned.', 'Krak', 'isliye', 'outta', 'دی', 'Aymos', 'unbane', 'spyware.', 'adeel', 'jata', '.plz', 'RN', 'garbage.', 'Ggt', 'kidding.', 'As', 'reoccurring', 'niche', 'uninstalled', 'uk', 'reposted,', 'Aosome', 'rana.javeed644', 'btain', 'GO', 'نہ', 'Band', 'rakha', 'karo,', 'Kdhf', 'app', 'Sana', '500.1k', 'arreb6', '%recomand', 'uo', 'citing', 'Find', 'Frind', 'lil', 'fav', 'ky', 'fyp', 'Bohat', 'Bess', 'gaza', 'Pinda', 'Rahi', 'viwers', 'jas', 'salam', 'comunicate', 'Donny', 'نے', 'চামচ', 'unfollows', 'bullying.', 'BS', 'kula', 'tech,', '60k', 'Boss', 'Lol.', 'Addiction', 'murgun', 'Tge', 'underage', 'lavar', 'aay', 'Come.', 'vial', 'alot.I', \"Ain't\", 'howi', 'thi', 'karoo', 'ranjana', 'ouer', 'unbhan', 'plz.tik', 'recaour', 'casa', 'scares', 'karva', 'xhat', 'Noor', '@prince.ho.yar3', 'app,good', 'compliant.Thank', 'wihtout', 'PS:', 'trapes', 'حل', 'Wraz', 'kuti', 'Kisi', 'bd', '50k', 'Queasy', 'globally', 'Near', 'Tish', 'Anware.ahmed', 'Plae', 'Jamal', 'kaise', 'Nashta', 'wifi', 'SaiTh', 'airgun', 'banned,', 'pend', 'Joy', 'Supperb.', '2nd', 'Daer', 'Hack', 'jasto', 'paliz', 'optionalyy', 'tik-toks', 'umer', 'af.', 'años', 'anband', 'Hacks', 'app,,', 'kangi', 'plz🙏🙏🙏🙏🙏', 'checkers', 'ہو', 'hunny', '🥰🥰\\u2066♥️\\u2069My', 'Bhai', 'guidelines', 'za', 'Apps', 'Fk.', 'ise', '(underage)', 'Tipping', 'username.sk.king749', 'itt', 'Suresh.solannki', 'Doesnt', 'bookmarks', 'Bura', 'galore,', 'tabs', 'recogniton', 'nadeem', 'nahin', 'tikrok', '80k', 'unbend', 'intresting', 'Anisa', 'No', 'thay', 'lol?', 'vah', 'khnii', 'TOk', 'Koi', 'scammed', 'restarts', 'fukcing', 'পারবে', 'satting', 'Tort', 'tiam', 'Ahmed', 'WiFi', 'iski', '.plasss', 'ibille', 'jeri', 'lije', 'Nadeem', 'app😇', 'payar', 'mhmd.diab6', 'Tet', 'shii.', 'agood', 'PICTURE-IN-PICTURE', 'Cumunity', 'ypur', 'addictive', 'ftd', 'Loveit', 'options,', 'UN', 'tok', 'chalay', 'Malik', 'sppot', 'dateline', 'Suks', 'Gud', 'Mian', 'scroll', 'Irfan', 'downloaded', 'samiul', 'google', 'tayyab.barla', 'Fot', 'Appp🔥', 'unappropriate', 'dox', 'aound', 'مش', 'unblock', '(Plz', 'mod', 'pleeze', 'neh', 'Rahman', 'tee', 'dumbest', 'lag', 'plaes', 'caption.', 'La', 'fallower', 'Bata', 'monitored', 'spiked', 'porsnal', 'پو', 'texter', 'Dan', 'unresponsive.', 'Soooo', 'ymir', 'Dayar', 'Razaq', 'Ita', 'Gaft', 'Ease', 'yr', 'goood', 'pollyz', 'chalao', 'aqua', 'bs', 'مت', 'ما', 'murgan', 'Username', '@zari.sister', 'teenagers', 'Humara', 'Mallah', 'চাইলে', 'acc', 'vlao', 'Kahan', 'NY', 'generated', 'Baseer', 'thats', \"Couldn't\", 'Tame', 'cranking', \"Don't\", 'আমি', 'tiktok,text', 'Radha', 'banned?', 'kyun', 'SO', 'plzz🙏🏼', 'Tried', 'Asjd', 're-downloaded', 'Virel', 'mr.baloch.lx7←this', 'timer,', 'tiktk', 'Naeem', 'randomly', 'Woow', 'banda.', '@ibad', 'cache', 'Tariq', 'deletes', 'Khan', 'reel', 'hrs', 'apk', 'Khob', 'cnn', 'abb...nice...best....', 'yaki', 'করা', 'messed', 'deleted', 'Poop', 'Jhelum', 'scrolling', 'Margun', 'GoOd', 'kpop', 'racist', 'varil', 'Jutt', 'unbund', 'grwo🔥🔥🔥', 'saeed', 'workout', 'karta', 'nudity', 'IT.', 'mee', 'Al', 'hafeez', 'dangerous.group6', 'aur', 'saver', 'Maryan', 'unbind', 'apps.Omg', 'Oops,', 'iphone', 'Dide', 'virl', 'Maving', 'Sial', 'Sami', 're-loging', 'ayaan.ayaan549', 'skills', 'zehri🥺', 'Junaid', 'কষ্টোদায়ক', 'setag', 'Anand', 'parfact', 'blues', 'debo', 'My', 'doblar😭😭', '\"Ew\"', '😚Mis', 'insights', 'you1M', 'gustan', 'karain', 'consumes', 'Bla', 'kB', 'baand', 'fraz', 'magas.', 'ON', 'eadi', 'MA', 'Gmas', 'viral.', 'freezes', 'banaa', 'Might', 'wattoo', 'Id', 'Let', 'kue', 'upsets', '5yrs', 'abusers,', 'futures', 'magasi', 'contacts', 'هد', 'sm', 'scrolling,', 'Hhhm', 'plece', 'blatant', 'gujjar', 'Nice.....nice.....this', 'Dagm', 'Faizan', 'glitches,', 'Salam', 'Hassan', 'Hhujk', 'kiya', '@Jamaal', 'twice.Tik', 'bottons', 'wala', 'videos.', 'malak.', 'buffering', 'ditto', 'Neema.🌟', 'Vlo', 'lite☠️🥶', 'Dg', 'হয়ে', 'banned.', 'Ki', 'Big', 'yrrrr', 'Stull', 'Amjid', 'Raza', 'Itsn', 'mistakenly', 'Thise', 'ge', 'Vert.bed', 'ko😩', 'Mohsin..ch', 'messing', 'proxy', 'Fo', 'tiktok.It', 'Username:', 'vewis', 'syed.iqbal.shah06', 'Await', 'Asherd', 'katiya', 'couldnt', 'Goat', 'flavored', 'wi-fi,', 'prablim', 'krak', 'Bashir', 'exept', 'babyman', 'tiok', 'এটা', 'contant', 'doo', 'waring', 'attaa', 'Pleaz', 'Kono', 'nirma', 'gusta', '\"underage\".', 'Pales', 'Tum', 'ljust', '🥺🥺🥺💔💔viral', 'بي', 'Reahn', 'plez', 'Kamilą,', 'saim', 'ongoing', 'biases', 'iD', 'accessing', 'supplements.', 'Karna', 'Wdi', 'ofbmy', 'Asghar', 'Play,', 'Mb', 'App!!!', 'whats', 'Teams', 'viral', 'anywheres', 'Call', 'afnan', 'reinstalled', 'Bilal', 'tok.team', 'tab', 'vai', 'Meri', 'Asslam', 'ala', 'Kelly', 'bestter', 'mu', '@Itx', 'unfreeze..', 'credence', 'Bezt', 'yerrrr', 'من', 'Karma', 'Poor', 'rerouted', 'Ap', 'Hi!', 'Gnemv', 'Be', 'Hey', 'abi', 'deir', 'mire', 'werning', 'ডট', 'Ratings', 'TT', 'Cool', 'আর', 'aja', 'Bruh,', 'teak', 'jamal', 'loefe', 'Khuda', 'mic,cam,', 'viewers', 'ইয়াং', 'marghun', 'aviator', 'An', 'viral❤', 'się', 'آپ', '1million+views', 'কিনতে', 'toktok', 'UNfreeze', 'karo👃👃👃👃👃👃', 'gaya', 'TV', '1million', 'kama', 'promotional', 'Kemo', 'aweful', 'harck', 'glitching', 'racists,', 'reinstall', 'emoji', 'ক্সক্সক্স', 'Gboard', 'appe', 'unread', 'updating!!!', 'kolo', 'unfriez', 'massages', 'sailm', 'photos,faking', 'kajei', 'glitch?', 'lekin', 'xords', 'Sopi', 'Tkm', 'myri', 'Ufone', 'blanks', 'app😘😙', 'py', 'Then', 'Myra', 'spoilt', 'Hi', 'acound', 'dein', 'vdieos,every', 'Audio', 'Hanu', 'Il', '34days', 'prand', 'guys', 'props', 'tikto', 'Kyun', 'Karwa', 'kren', 'Ep', '4G', 'hapy', 'Imran.', 'yuo😘', 'frined', 'Says', 'Sy', 'pfp,', 'asa', 'Skilled', 'taked', 'abbas', 'BE', 'uploads', 'Mylove', '𝙽𝚘', 'plz.......', 'vivo', 'Sagor', 'sh', 'Aki', \"Hardee's\", 'plz🙏😭🙏😭@mujtabaali2117', 'administers', 'دے', 'jasuo', 'fani', 'ilt', 'ahamad', 'zainzain', 'acuccnt', 'janay', 'fary', 'Race', 'unfrez', 'کی', 'Make', 'walo', 'sim', 'মোবাইল', 'coisa', 'photos.', 'idee', 'Aslam', 'kno', 'Holds', 'dusri', 'thoughs', 'ups.', 'beacouse', 'app.Apps', 'পর্যন্ত', 'vhf', 'Dood', 'teem', 'frustrating', 'bullied', 'reinstatement', 'tiktok.its', 'প্রতি', 'hona', 'dev', 'Plaza', 'buffers', 'pero', 'respnse', 'Plizz', \"'aqua\", 'fypp!', 'updating', 'OR', 'Wow.', 'Suhan', 'username', 'Ayub', 'Lik😿😿😿😿😿😿rakalikhan😭😭😭😭🤲🤲🤲🤲👍👍🤲🤲🤲🙏🙏🙏🙏🤦🤦🌷🌷🌷🌷🌷🏵️🌻🌻🌻', 'frinde', 'Plz', 'Mix', 'Lite.', 'Sir', 'nices', 'acche', 'milta', 'Flower', '@bilal......80', 'vewes', 'admins', 'প্রতিবন্ধীর', '😭😭😭Plass', 'apps', 'Ducked', 'Raf', 'Ek', 'pliss', 'sahi', 'useing', '@.kashif.pathan', 'ভার্সন', 'কড', 'Hellow', 'Earned', 'wali', 'swipe', 'ya', 'Nice🥰🥰', 'teami', 'muct', 'Pls', 'cz', 'usear', 'yick', 'virule', 'tryed', 'browser,', 'کا', 'khol', 'bugs', 'Fix', 'virle', 'apps,', 'ughh', 'whach', 'Saudi', 'Swarts', 'karak😭😭😭', 'app\"', '😭😭😭😭😢😢😢😢😢😢😭😭😭😭😭😢😭😭😭😭😭😭😢💔💔💔💔💔💔💔tikTok..............................................🙏🙏🙏🤳🤳🙏🙏🙏🙏🙏🙏🙏🙏🤳🤳🙏🙏🙏🙏🙏🙏🙏🙏🙏🙏🙏🙏🤳🤳🤌🤌🤌🤌🤌🤌🤌🤌🤌🤌🤌🤌🤌🤌🤌🤌🤌💔💔💔💔💔💔😓😓😓😓😓😓😓😓😬', 'Addiction.', 'Laik', 'SA', 'appel', 'mube', 'On', 'aconot', 'lol', 'জন্য', 'Mon', 'freez', 'ih', 'MY', 'bora', 'Minus', 'tiktok,,', 'pixel', 'unfreez.😭😭😭😭😭😭😭😭😭😭😭😭😭😭😭😭😭😭😭😭😭😭😭😭😭😭😭😭😭plz', 'shahar', 'solp,plz,plz,tiktok,,company,,', 'ddtj', 'کے', 'vairel', 'Look', 'avideo', 'পথে', 'cancelled', 'gurus', 'Azaan', 'titiok', 'rated', '\"stfu\"', 'allha', 'meilleur', 'aliyu', 'dissappeared', '𒆜𓊉꧂', 'kashif', 'ads,', 'plese', 'tiktoke', 'Geo', 'meron', 'viruses', 'gopang', 'unfreed', 'Where', 'pagar'}\n",
            "Total number of spelling mistakes: 9187\n"
          ]
        }
      ],
      "source": [
        "\n",
        "from textblob import TextBlob\n",
        "import nltk\n",
        "\n",
        "# Download the required NLTK data\n",
        "!python -m textblob.download_corpora lite\n",
        "nltk.download('punkt_tab')\n",
        "nltk.download('punkt')\n",
        "\n",
        "text_column = 'Review'\n",
        "\n",
        "# Function to identify misspelled words\n",
        "def find_spelling_mistakes(text):\n",
        "    words = all_words  # Split text into words\n",
        "    misspelled = []\n",
        "    for word in words:\n",
        "        blob = TextBlob(word) # Create a TextBlob object for each word\n",
        "        if word not in str(blob.correct()):  # Check if the word is misspelled\n",
        "            misspelled.append(word)\n",
        "    return misspelled\n",
        "misspelled_words = find_spelling_mistakes(all_words)\n",
        "unique_mistakes = set(misspelled_words)\n",
        "print(\"Unique spelling mistakes found:\", unique_mistakes)\n",
        "print(f\"Total number of spelling mistakes: {len(misspelled_words)}\")\n"
      ]
    },
    {
      "cell_type": "markdown",
      "metadata": {
        "id": "zFVtCoExGHIE"
      },
      "source": [
        "# **2.Data Cleaning**\n"
      ]
    },
    {
      "cell_type": "markdown",
      "metadata": {
        "id": "kJwXpqHTLfnt"
      },
      "source": [
        "**Remove all stopwords, punctuation, and URLs**:\n",
        "\n",
        "**Why did I decide to keep emojis and not remove them?**\n",
        "\n",
        "\n",
        "**The question arises: is it necessary to remove emojis from the data? After researching, the decision depends on the context of the analysis and how emojis affect the specific use case. Emojis can provide valuable insights, especially for sentiment or emotion analysis, but may introduce noise in tasks like topic modeling or text classification. In this project, I focused on cleaning the data without making decisions about emojis, leaving that choice to the end user based on their analysis goals.**"
      ]
    },
    {
      "cell_type": "code",
      "execution_count": 21,
      "metadata": {
        "colab": {
          "base_uri": "https://localhost:8080/"
        },
        "id": "rpDECvovRVwQ",
        "outputId": "2f2e03f4-8b0d-46d0-fca7-e490759d29a7"
      },
      "outputs": [
        {
          "output_type": "stream",
          "name": "stdout",
          "text": [
            "\n",
            "Sample of cleaned reviews:\n",
            "                                       cleaned_review\n",
            "0                                               Love\n",
            "1                                           Md Sagor\n",
            "2  Dear TikTok team big problem account freez plz...\n",
            "3                                    عامين باش يتعمر\n",
            "4  activity notifications tabs wont load endless ...\n"
          ]
        }
      ],
      "source": [
        "import re\n",
        "import string\n",
        "\n",
        "\n",
        "# Define stopwords and punctuation\n",
        "stop_words = set(stopwords.words('english'))\n",
        "punctuation = string.punctuation\n",
        "\n",
        "# Function to clean text\n",
        "def clean_text(text):\n",
        "    # Remove URLs\n",
        "    text = re.sub(r'http\\S+|www\\S+|https\\S+', '', text, flags=re.MULTILINE)\n",
        "    # Remove punctuation\n",
        "    text = text.translate(str.maketrans('', '', punctuation))\n",
        "    # Remove stopwords\n",
        "    words = text.split()\n",
        "    words = [word for word in words if word.lower() not in stop_words]\n",
        "    return ' '.join(words)\n",
        "\n",
        "# Clean the 'Review' column\n",
        "text_column = 'Review'\n",
        "if text_column in reviews.columns:\n",
        "    reviews['cleaned_review'] = reviews[text_column].dropna().apply(clean_text)\n",
        "    print(\"\\nSample of cleaned reviews:\\n\", reviews[['cleaned_review']].head())\n",
        "else:\n",
        "    print(f\"Column '{text_column}' not found in the dataset.\")\n"
      ]
    },
    {
      "cell_type": "markdown",
      "metadata": {
        "id": "ELXMBDqeMfzQ"
      },
      "source": [
        "**Convert all words to small letters.**"
      ]
    },
    {
      "cell_type": "code",
      "execution_count": 22,
      "metadata": {
        "colab": {
          "base_uri": "https://localhost:8080/"
        },
        "id": "2fHb5oF8Wtf0",
        "outputId": "0d4770c6-fb40-4999-d1e4-10db5d1c4007"
      },
      "outputs": [
        {
          "output_type": "stream",
          "name": "stdout",
          "text": [
            "\n",
            "Sample of updated lowercase reviews:\n",
            "                                       cleaned_review\n",
            "0                                               love\n",
            "1                                           md sagor\n",
            "2  dear tiktok team big problem account freez plz...\n",
            "3                                    عامين باش يتعمر\n",
            "4  activity notifications tabs wont load endless ...\n"
          ]
        }
      ],
      "source": [
        "text_column = 'cleaned_review'  # The column to update\n",
        "\n",
        "if text_column in reviews.columns:\n",
        "    # Convert all text in the 'cleaned_review' column to lowercase\n",
        "    reviews[text_column] = reviews[text_column].dropna().apply(lambda x: str(x).lower())\n",
        "    print(\"\\nSample of updated lowercase reviews:\\n\", reviews[[text_column]].head())\n",
        "else:\n",
        "    print(f\"Column '{text_column}' not found in the dataset.\")\n"
      ]
    },
    {
      "cell_type": "code",
      "execution_count": 23,
      "metadata": {
        "colab": {
          "base_uri": "https://localhost:8080/",
          "height": 536
        },
        "id": "EsTwYW21R9cQ",
        "outputId": "cf809926-6270-4a6b-df35-900168b5792b"
      },
      "outputs": [
        {
          "output_type": "execute_result",
          "data": {
            "text/plain": [
              "   Rating                                             Review  \\\n",
              "0       5                                            Love it   \n",
              "1       5                                           Md Sagor   \n",
              "2       2  Dear, TikTok team my big problem my account is...   \n",
              "3       1                                    عامين باش يتعمر   \n",
              "4       2  My activity and notifications tabs won't load,...   \n",
              "5       4                                               Nice   \n",
              "6       1                       Tiktok valo mare live ni one   \n",
              "7       5                       My account for you please 🙏🥺   \n",
              "8       5  As a 1st timer, nakaka excite kahit maliit mas...   \n",
              "9       5                                          I like it   \n",
              "\n",
              "             Timestamp                                        split_words  \\\n",
              "0  2024-11-16 13:09:37                                         [Love, it]   \n",
              "1  2024-11-16 13:08:05                                        [Md, Sagor]   \n",
              "2  2024-11-16 13:07:19  [Dear,, TikTok, team, my, big, problem, my, ac...   \n",
              "3  2024-11-16 13:05:08                                [عامين, باش, يتعمر]   \n",
              "4  2024-11-16 13:04:47  [My, activity, and, notifications, tabs, won't...   \n",
              "5  2024-11-16 13:03:51                                             [Nice]   \n",
              "6  2024-11-16 13:03:18                [Tiktok, valo, mare, live, ni, one]   \n",
              "7  2024-11-16 12:58:01                [My, account, for, you, please, 🙏🥺]   \n",
              "8  2024-11-16 12:57:33  [As, a, 1st, timer,, nakaka, excite, kahit, ma...   \n",
              "9  2024-11-16 12:57:14                                      [I, like, it]   \n",
              "\n",
              "   word_count                                     cleaned_review  \n",
              "0           2                                               love  \n",
              "1           2                                           md sagor  \n",
              "2          30  dear tiktok team big problem account freez plz...  \n",
              "3           3                                    عامين باش يتعمر  \n",
              "4          13  activity notifications tabs wont load endless ...  \n",
              "5           1                                               nice  \n",
              "6           6                       tiktok valo mare live ni one  \n",
              "7           6                                  account please 🙏🥺  \n",
              "8          15  1st timer nakaka excite kahit maliit masabi mo...  \n",
              "9           3                                               like  "
            ],
            "text/html": [
              "\n",
              "  <div id=\"df-36db5a8b-02fe-497c-b9c4-5165cf0869b7\" class=\"colab-df-container\">\n",
              "    <div>\n",
              "<style scoped>\n",
              "    .dataframe tbody tr th:only-of-type {\n",
              "        vertical-align: middle;\n",
              "    }\n",
              "\n",
              "    .dataframe tbody tr th {\n",
              "        vertical-align: top;\n",
              "    }\n",
              "\n",
              "    .dataframe thead th {\n",
              "        text-align: right;\n",
              "    }\n",
              "</style>\n",
              "<table border=\"1\" class=\"dataframe\">\n",
              "  <thead>\n",
              "    <tr style=\"text-align: right;\">\n",
              "      <th></th>\n",
              "      <th>Rating</th>\n",
              "      <th>Review</th>\n",
              "      <th>Timestamp</th>\n",
              "      <th>split_words</th>\n",
              "      <th>word_count</th>\n",
              "      <th>cleaned_review</th>\n",
              "    </tr>\n",
              "  </thead>\n",
              "  <tbody>\n",
              "    <tr>\n",
              "      <th>0</th>\n",
              "      <td>5</td>\n",
              "      <td>Love it</td>\n",
              "      <td>2024-11-16 13:09:37</td>\n",
              "      <td>[Love, it]</td>\n",
              "      <td>2</td>\n",
              "      <td>love</td>\n",
              "    </tr>\n",
              "    <tr>\n",
              "      <th>1</th>\n",
              "      <td>5</td>\n",
              "      <td>Md Sagor</td>\n",
              "      <td>2024-11-16 13:08:05</td>\n",
              "      <td>[Md, Sagor]</td>\n",
              "      <td>2</td>\n",
              "      <td>md sagor</td>\n",
              "    </tr>\n",
              "    <tr>\n",
              "      <th>2</th>\n",
              "      <td>2</td>\n",
              "      <td>Dear, TikTok team my big problem my account is...</td>\n",
              "      <td>2024-11-16 13:07:19</td>\n",
              "      <td>[Dear,, TikTok, team, my, big, problem, my, ac...</td>\n",
              "      <td>30</td>\n",
              "      <td>dear tiktok team big problem account freez plz...</td>\n",
              "    </tr>\n",
              "    <tr>\n",
              "      <th>3</th>\n",
              "      <td>1</td>\n",
              "      <td>عامين باش يتعمر</td>\n",
              "      <td>2024-11-16 13:05:08</td>\n",
              "      <td>[عامين, باش, يتعمر]</td>\n",
              "      <td>3</td>\n",
              "      <td>عامين باش يتعمر</td>\n",
              "    </tr>\n",
              "    <tr>\n",
              "      <th>4</th>\n",
              "      <td>2</td>\n",
              "      <td>My activity and notifications tabs won't load,...</td>\n",
              "      <td>2024-11-16 13:04:47</td>\n",
              "      <td>[My, activity, and, notifications, tabs, won't...</td>\n",
              "      <td>13</td>\n",
              "      <td>activity notifications tabs wont load endless ...</td>\n",
              "    </tr>\n",
              "    <tr>\n",
              "      <th>5</th>\n",
              "      <td>4</td>\n",
              "      <td>Nice</td>\n",
              "      <td>2024-11-16 13:03:51</td>\n",
              "      <td>[Nice]</td>\n",
              "      <td>1</td>\n",
              "      <td>nice</td>\n",
              "    </tr>\n",
              "    <tr>\n",
              "      <th>6</th>\n",
              "      <td>1</td>\n",
              "      <td>Tiktok valo mare live ni one</td>\n",
              "      <td>2024-11-16 13:03:18</td>\n",
              "      <td>[Tiktok, valo, mare, live, ni, one]</td>\n",
              "      <td>6</td>\n",
              "      <td>tiktok valo mare live ni one</td>\n",
              "    </tr>\n",
              "    <tr>\n",
              "      <th>7</th>\n",
              "      <td>5</td>\n",
              "      <td>My account for you please 🙏🥺</td>\n",
              "      <td>2024-11-16 12:58:01</td>\n",
              "      <td>[My, account, for, you, please, 🙏🥺]</td>\n",
              "      <td>6</td>\n",
              "      <td>account please 🙏🥺</td>\n",
              "    </tr>\n",
              "    <tr>\n",
              "      <th>8</th>\n",
              "      <td>5</td>\n",
              "      <td>As a 1st timer, nakaka excite kahit maliit mas...</td>\n",
              "      <td>2024-11-16 12:57:33</td>\n",
              "      <td>[As, a, 1st, timer,, nakaka, excite, kahit, ma...</td>\n",
              "      <td>15</td>\n",
              "      <td>1st timer nakaka excite kahit maliit masabi mo...</td>\n",
              "    </tr>\n",
              "    <tr>\n",
              "      <th>9</th>\n",
              "      <td>5</td>\n",
              "      <td>I like it</td>\n",
              "      <td>2024-11-16 12:57:14</td>\n",
              "      <td>[I, like, it]</td>\n",
              "      <td>3</td>\n",
              "      <td>like</td>\n",
              "    </tr>\n",
              "  </tbody>\n",
              "</table>\n",
              "</div>\n",
              "    <div class=\"colab-df-buttons\">\n",
              "\n",
              "  <div class=\"colab-df-container\">\n",
              "    <button class=\"colab-df-convert\" onclick=\"convertToInteractive('df-36db5a8b-02fe-497c-b9c4-5165cf0869b7')\"\n",
              "            title=\"Convert this dataframe to an interactive table.\"\n",
              "            style=\"display:none;\">\n",
              "\n",
              "  <svg xmlns=\"http://www.w3.org/2000/svg\" height=\"24px\" viewBox=\"0 -960 960 960\">\n",
              "    <path d=\"M120-120v-720h720v720H120Zm60-500h600v-160H180v160Zm220 220h160v-160H400v160Zm0 220h160v-160H400v160ZM180-400h160v-160H180v160Zm440 0h160v-160H620v160ZM180-180h160v-160H180v160Zm440 0h160v-160H620v160Z\"/>\n",
              "  </svg>\n",
              "    </button>\n",
              "\n",
              "  <style>\n",
              "    .colab-df-container {\n",
              "      display:flex;\n",
              "      gap: 12px;\n",
              "    }\n",
              "\n",
              "    .colab-df-convert {\n",
              "      background-color: #E8F0FE;\n",
              "      border: none;\n",
              "      border-radius: 50%;\n",
              "      cursor: pointer;\n",
              "      display: none;\n",
              "      fill: #1967D2;\n",
              "      height: 32px;\n",
              "      padding: 0 0 0 0;\n",
              "      width: 32px;\n",
              "    }\n",
              "\n",
              "    .colab-df-convert:hover {\n",
              "      background-color: #E2EBFA;\n",
              "      box-shadow: 0px 1px 2px rgba(60, 64, 67, 0.3), 0px 1px 3px 1px rgba(60, 64, 67, 0.15);\n",
              "      fill: #174EA6;\n",
              "    }\n",
              "\n",
              "    .colab-df-buttons div {\n",
              "      margin-bottom: 4px;\n",
              "    }\n",
              "\n",
              "    [theme=dark] .colab-df-convert {\n",
              "      background-color: #3B4455;\n",
              "      fill: #D2E3FC;\n",
              "    }\n",
              "\n",
              "    [theme=dark] .colab-df-convert:hover {\n",
              "      background-color: #434B5C;\n",
              "      box-shadow: 0px 1px 3px 1px rgba(0, 0, 0, 0.15);\n",
              "      filter: drop-shadow(0px 1px 2px rgba(0, 0, 0, 0.3));\n",
              "      fill: #FFFFFF;\n",
              "    }\n",
              "  </style>\n",
              "\n",
              "    <script>\n",
              "      const buttonEl =\n",
              "        document.querySelector('#df-36db5a8b-02fe-497c-b9c4-5165cf0869b7 button.colab-df-convert');\n",
              "      buttonEl.style.display =\n",
              "        google.colab.kernel.accessAllowed ? 'block' : 'none';\n",
              "\n",
              "      async function convertToInteractive(key) {\n",
              "        const element = document.querySelector('#df-36db5a8b-02fe-497c-b9c4-5165cf0869b7');\n",
              "        const dataTable =\n",
              "          await google.colab.kernel.invokeFunction('convertToInteractive',\n",
              "                                                    [key], {});\n",
              "        if (!dataTable) return;\n",
              "\n",
              "        const docLinkHtml = 'Like what you see? Visit the ' +\n",
              "          '<a target=\"_blank\" href=https://colab.research.google.com/notebooks/data_table.ipynb>data table notebook</a>'\n",
              "          + ' to learn more about interactive tables.';\n",
              "        element.innerHTML = '';\n",
              "        dataTable['output_type'] = 'display_data';\n",
              "        await google.colab.output.renderOutput(dataTable, element);\n",
              "        const docLink = document.createElement('div');\n",
              "        docLink.innerHTML = docLinkHtml;\n",
              "        element.appendChild(docLink);\n",
              "      }\n",
              "    </script>\n",
              "  </div>\n",
              "\n",
              "\n",
              "<div id=\"df-76597a88-2903-4c6b-8919-fa23bede7c7c\">\n",
              "  <button class=\"colab-df-quickchart\" onclick=\"quickchart('df-76597a88-2903-4c6b-8919-fa23bede7c7c')\"\n",
              "            title=\"Suggest charts\"\n",
              "            style=\"display:none;\">\n",
              "\n",
              "<svg xmlns=\"http://www.w3.org/2000/svg\" height=\"24px\"viewBox=\"0 0 24 24\"\n",
              "     width=\"24px\">\n",
              "    <g>\n",
              "        <path d=\"M19 3H5c-1.1 0-2 .9-2 2v14c0 1.1.9 2 2 2h14c1.1 0 2-.9 2-2V5c0-1.1-.9-2-2-2zM9 17H7v-7h2v7zm4 0h-2V7h2v10zm4 0h-2v-4h2v4z\"/>\n",
              "    </g>\n",
              "</svg>\n",
              "  </button>\n",
              "\n",
              "<style>\n",
              "  .colab-df-quickchart {\n",
              "      --bg-color: #E8F0FE;\n",
              "      --fill-color: #1967D2;\n",
              "      --hover-bg-color: #E2EBFA;\n",
              "      --hover-fill-color: #174EA6;\n",
              "      --disabled-fill-color: #AAA;\n",
              "      --disabled-bg-color: #DDD;\n",
              "  }\n",
              "\n",
              "  [theme=dark] .colab-df-quickchart {\n",
              "      --bg-color: #3B4455;\n",
              "      --fill-color: #D2E3FC;\n",
              "      --hover-bg-color: #434B5C;\n",
              "      --hover-fill-color: #FFFFFF;\n",
              "      --disabled-bg-color: #3B4455;\n",
              "      --disabled-fill-color: #666;\n",
              "  }\n",
              "\n",
              "  .colab-df-quickchart {\n",
              "    background-color: var(--bg-color);\n",
              "    border: none;\n",
              "    border-radius: 50%;\n",
              "    cursor: pointer;\n",
              "    display: none;\n",
              "    fill: var(--fill-color);\n",
              "    height: 32px;\n",
              "    padding: 0;\n",
              "    width: 32px;\n",
              "  }\n",
              "\n",
              "  .colab-df-quickchart:hover {\n",
              "    background-color: var(--hover-bg-color);\n",
              "    box-shadow: 0 1px 2px rgba(60, 64, 67, 0.3), 0 1px 3px 1px rgba(60, 64, 67, 0.15);\n",
              "    fill: var(--button-hover-fill-color);\n",
              "  }\n",
              "\n",
              "  .colab-df-quickchart-complete:disabled,\n",
              "  .colab-df-quickchart-complete:disabled:hover {\n",
              "    background-color: var(--disabled-bg-color);\n",
              "    fill: var(--disabled-fill-color);\n",
              "    box-shadow: none;\n",
              "  }\n",
              "\n",
              "  .colab-df-spinner {\n",
              "    border: 2px solid var(--fill-color);\n",
              "    border-color: transparent;\n",
              "    border-bottom-color: var(--fill-color);\n",
              "    animation:\n",
              "      spin 1s steps(1) infinite;\n",
              "  }\n",
              "\n",
              "  @keyframes spin {\n",
              "    0% {\n",
              "      border-color: transparent;\n",
              "      border-bottom-color: var(--fill-color);\n",
              "      border-left-color: var(--fill-color);\n",
              "    }\n",
              "    20% {\n",
              "      border-color: transparent;\n",
              "      border-left-color: var(--fill-color);\n",
              "      border-top-color: var(--fill-color);\n",
              "    }\n",
              "    30% {\n",
              "      border-color: transparent;\n",
              "      border-left-color: var(--fill-color);\n",
              "      border-top-color: var(--fill-color);\n",
              "      border-right-color: var(--fill-color);\n",
              "    }\n",
              "    40% {\n",
              "      border-color: transparent;\n",
              "      border-right-color: var(--fill-color);\n",
              "      border-top-color: var(--fill-color);\n",
              "    }\n",
              "    60% {\n",
              "      border-color: transparent;\n",
              "      border-right-color: var(--fill-color);\n",
              "    }\n",
              "    80% {\n",
              "      border-color: transparent;\n",
              "      border-right-color: var(--fill-color);\n",
              "      border-bottom-color: var(--fill-color);\n",
              "    }\n",
              "    90% {\n",
              "      border-color: transparent;\n",
              "      border-bottom-color: var(--fill-color);\n",
              "    }\n",
              "  }\n",
              "</style>\n",
              "\n",
              "  <script>\n",
              "    async function quickchart(key) {\n",
              "      const quickchartButtonEl =\n",
              "        document.querySelector('#' + key + ' button');\n",
              "      quickchartButtonEl.disabled = true;  // To prevent multiple clicks.\n",
              "      quickchartButtonEl.classList.add('colab-df-spinner');\n",
              "      try {\n",
              "        const charts = await google.colab.kernel.invokeFunction(\n",
              "            'suggestCharts', [key], {});\n",
              "      } catch (error) {\n",
              "        console.error('Error during call to suggestCharts:', error);\n",
              "      }\n",
              "      quickchartButtonEl.classList.remove('colab-df-spinner');\n",
              "      quickchartButtonEl.classList.add('colab-df-quickchart-complete');\n",
              "    }\n",
              "    (() => {\n",
              "      let quickchartButtonEl =\n",
              "        document.querySelector('#df-76597a88-2903-4c6b-8919-fa23bede7c7c button');\n",
              "      quickchartButtonEl.style.display =\n",
              "        google.colab.kernel.accessAllowed ? 'block' : 'none';\n",
              "    })();\n",
              "  </script>\n",
              "</div>\n",
              "\n",
              "    </div>\n",
              "  </div>\n"
            ],
            "application/vnd.google.colaboratory.intrinsic+json": {
              "type": "dataframe",
              "variable_name": "reviews",
              "summary": "{\n  \"name\": \"reviews\",\n  \"rows\": 5000,\n  \"fields\": [\n    {\n      \"column\": \"Rating\",\n      \"properties\": {\n        \"dtype\": \"number\",\n        \"std\": 1,\n        \"min\": 1,\n        \"max\": 5,\n        \"num_unique_values\": 5,\n        \"samples\": [\n          2,\n          3,\n          1\n        ],\n        \"semantic_type\": \"\",\n        \"description\": \"\"\n      }\n    },\n    {\n      \"column\": \"Review\",\n      \"properties\": {\n        \"dtype\": \"string\",\n        \"num_unique_values\": 4273,\n        \"samples\": [\n          \"Tik Tok are you video YouTube channel\",\n          \"Please \\ud83d\\ude4f karak king account on ka thank you\",\n          \"Very nice app and follow up with you guys for the update kro please let me know what Usman Razzaq siyal King \\ud83d\\udc51 me\"\n        ],\n        \"semantic_type\": \"\",\n        \"description\": \"\"\n      }\n    },\n    {\n      \"column\": \"Timestamp\",\n      \"properties\": {\n        \"dtype\": \"object\",\n        \"num_unique_values\": 4953,\n        \"samples\": [\n          \"2024-11-14 13:44:21\",\n          \"2024-11-15 22:36:56\",\n          \"2024-11-13 17:40:24\"\n        ],\n        \"semantic_type\": \"\",\n        \"description\": \"\"\n      }\n    },\n    {\n      \"column\": \"split_words\",\n      \"properties\": {\n        \"dtype\": \"object\",\n        \"semantic_type\": \"\",\n        \"description\": \"\"\n      }\n    },\n    {\n      \"column\": \"word_count\",\n      \"properties\": {\n        \"dtype\": \"number\",\n        \"std\": 15,\n        \"min\": 1,\n        \"max\": 124,\n        \"num_unique_values\": 104,\n        \"samples\": [\n          20,\n          86,\n          44\n        ],\n        \"semantic_type\": \"\",\n        \"description\": \"\"\n      }\n    },\n    {\n      \"column\": \"cleaned_review\",\n      \"properties\": {\n        \"dtype\": \"string\",\n        \"num_unique_values\": 4026,\n        \"samples\": [\n          \"nice momint\",\n          \"lets face tik tok paid pedophiles klan anyone says anything different doesnt know app works ill glad see go\",\n          \"nice app 2 gb ram mobile lack request low mb \\ud83d\\ude14\"\n        ],\n        \"semantic_type\": \"\",\n        \"description\": \"\"\n      }\n    }\n  ]\n}"
            }
          },
          "metadata": {},
          "execution_count": 23
        }
      ],
      "source": [
        "reviews.head(10)"
      ]
    },
    {
      "cell_type": "markdown",
      "metadata": {
        "id": "iosn1TgWMSvp"
      },
      "source": [
        "**Print the 10 most frequent words in all textual content.**"
      ]
    },
    {
      "cell_type": "code",
      "execution_count": 24,
      "metadata": {
        "colab": {
          "base_uri": "https://localhost:8080/"
        },
        "id": "2xkosJvFSpTP",
        "outputId": "33a90211-8ba3-4ce1-8743-00e77c0a4d84"
      },
      "outputs": [
        {
          "output_type": "stream",
          "name": "stdout",
          "text": [
            "\n",
            "Top 10 most frequent words:\n",
            "please: 1359\n",
            "tiktok: 1241\n",
            "app: 1051\n",
            "account: 1017\n",
            "good: 712\n",
            "team: 467\n",
            "tik: 354\n",
            "video: 353\n",
            "tok: 343\n",
            "love: 299\n"
          ]
        }
      ],
      "source": [
        "if text_column in reviews.columns:\n",
        "    reviews['cleaned_review'] = reviews[text_column].dropna().apply(clean_text)# Flatten all words into a single list\n",
        "    all_words = ' '.join(reviews['cleaned_review'].dropna()).split()\n",
        "\n",
        "    # Count word frequencies\n",
        "    word_counts = Counter(all_words)\n",
        "\n",
        "    # Get the 10 most frequent words\n",
        "    most_frequent_words = word_counts.most_common(10)\n",
        "    print(\"\\nTop 10 most frequent words:\")\n",
        "    for word, count in most_frequent_words:\n",
        "        print(f\"{word}: {count}\")\n",
        "else:\n",
        "    print(f\"Column '{text_column}' not found in the dataset.\")"
      ]
    },
    {
      "cell_type": "markdown",
      "metadata": {
        "id": "VS6e--ZaOQhZ"
      },
      "source": [
        "**To detect rows with empty strings in addition to NaN values**"
      ]
    },
    {
      "cell_type": "code",
      "execution_count": 25,
      "metadata": {
        "colab": {
          "base_uri": "https://localhost:8080/"
        },
        "id": "gYLL0GIFa_0O",
        "outputId": "78fc104f-9044-4fa4-9418-d2da9c3ea772"
      },
      "outputs": [
        {
          "output_type": "stream",
          "name": "stdout",
          "text": [
            "# NANS: Rating            0\n",
            "Review            0\n",
            "Timestamp         0\n",
            "split_words       0\n",
            "word_count        0\n",
            "cleaned_review    0\n",
            "dtype: int64\n"
          ]
        }
      ],
      "source": [
        "#checking if there is nan values :\n",
        "print('# NANS:',reviews.isna().sum())\n",
        "reviews.dropna(inplace=True)\n",
        "reviews.reset_index(drop=True,inplace=True)"
      ]
    },
    {
      "cell_type": "code",
      "execution_count": 26,
      "metadata": {
        "colab": {
          "base_uri": "https://localhost:8080/"
        },
        "id": "qBOBQ_0TjX7m",
        "outputId": "0bc38ed7-27a8-47d5-c689-660b45360d5e"
      },
      "outputs": [
        {
          "output_type": "stream",
          "name": "stdout",
          "text": [
            "Rows with empty strings or whitespace: 23\n"
          ]
        },
        {
          "output_type": "stream",
          "name": "stderr",
          "text": [
            "<ipython-input-26-7b99e774ce41>:1: FutureWarning: DataFrame.applymap has been deprecated. Use DataFrame.map instead.\n",
            "  empty_count = reviews.applymap(lambda x: isinstance(x, str) and x.strip() == '').sum().sum()\n"
          ]
        }
      ],
      "source": [
        "empty_count = reviews.applymap(lambda x: isinstance(x, str) and x.strip() == '').sum().sum()\n",
        "print(f'Rows with empty strings or whitespace: {empty_count}')\n"
      ]
    },
    {
      "cell_type": "markdown",
      "metadata": {
        "id": "nSnP3injOtTx"
      },
      "source": [
        "**drop rows with empty strings (\" \") or rows that contain only whitespace**"
      ]
    },
    {
      "cell_type": "code",
      "execution_count": 27,
      "metadata": {
        "colab": {
          "base_uri": "https://localhost:8080/"
        },
        "id": "REweiiKYj2Fp",
        "outputId": "70f985eb-f77a-4ecd-97a4-b482b3871a7e"
      },
      "outputs": [
        {
          "output_type": "stream",
          "name": "stderr",
          "text": [
            "<ipython-input-27-5d7a9a17bd1d>:5: FutureWarning: DataFrame.applymap has been deprecated. Use DataFrame.map instead.\n",
            "  reviews = reviews.applymap(lambda x: float('NaN') if isinstance(x, str) and x.strip() == '' else x)\n"
          ]
        },
        {
          "output_type": "execute_result",
          "data": {
            "text/plain": [
              "(4977, 6)"
            ]
          },
          "metadata": {},
          "execution_count": 27
        }
      ],
      "source": [
        "# Replace empty strings (\"\") with NaN\n",
        "reviews.replace('', float('NaN'), inplace=True)\n",
        "\n",
        "# Replace rows with only whitespace (e.g., \"   \") with NaN\n",
        "reviews = reviews.applymap(lambda x: float('NaN') if isinstance(x, str) and x.strip() == '' else x)\n",
        "\n",
        "# Drop rows with NaN (including replaced empty strings or whitespace)\n",
        "reviews.dropna(inplace=True)\n",
        "\n",
        "# Reset index after dropping rows\n",
        "reviews.reset_index(drop=True, inplace=True)\n",
        "\n",
        "reviews.shape"
      ]
    },
    {
      "cell_type": "markdown",
      "metadata": {
        "id": "i934s8XkPRWg"
      },
      "source": [
        "**Print the count of unique words in the text**"
      ]
    },
    {
      "cell_type": "code",
      "execution_count": 28,
      "metadata": {
        "colab": {
          "base_uri": "https://localhost:8080/"
        },
        "id": "PXlsxiV6Trk7",
        "outputId": "a331bbad-1571-494e-a151-c28b7b49f6c2"
      },
      "outputs": [
        {
          "output_type": "stream",
          "name": "stdout",
          "text": [
            "Count of unique words in 'cleaned_review': 7635\n"
          ]
        }
      ],
      "source": [
        "# Flatten all words in the 'lowercase_review' column into a single list\n",
        "if 'cleaned_review' in reviews.columns:\n",
        "    # Split all reviews into words and flatten them into a single list\n",
        "    all_words = ' '.join(reviews['cleaned_review'].dropna()).split()\n",
        "\n",
        "    # Count unique words\n",
        "    unique_words = set(all_words)  # Use a set to remove duplicates\n",
        "    unique_word_count = len(unique_words)\n",
        "\n",
        "    # Print the count of unique words\n",
        "    print(f\"Count of unique words in 'cleaned_review': {unique_word_count}\")\n"
      ]
    },
    {
      "cell_type": "markdown",
      "source": [
        "**Detecting the languages in the data and calculating the percentage of each.**\n",
        "\n",
        "Detecting the languages in my data is crucial to understanding its distribution and ensuring effective model performance. Multilingual datasets can introduce complexity, especially if secondary languages are underrepresented. Using mBERT (Multilingual BERT) is a viable option as it handles multiple languages, but it requires careful data balancing.\n",
        "\n",
        "Alternatively, translating all data into a single language, like English, simplifies the training process, ensures consistency, and allows for the use of monolingual models. Choosing between mBERT and translation depends on the dataset’s needs and the model’s goals.\n",
        "\n",
        "\n",
        "\n",
        "\n"
      ],
      "metadata": {
        "id": "FT--G-QVRJIi"
      }
    },
    {
      "cell_type": "code",
      "execution_count": 29,
      "metadata": {
        "colab": {
          "base_uri": "https://localhost:8080/"
        },
        "id": "XY5SLztutTRF",
        "outputId": "5c3a691c-a84b-4a1b-9cdb-704aaa75653c"
      },
      "outputs": [
        {
          "output_type": "stream",
          "name": "stdout",
          "text": [
            "Collecting fasttext\n",
            "  Downloading fasttext-0.9.3.tar.gz (73 kB)\n",
            "\u001b[?25l     \u001b[90m━━━━━━━━━━━━━━━━━━━━━━━━━━━━━━━━━━━━━━━━\u001b[0m \u001b[32m0.0/73.4 kB\u001b[0m \u001b[31m?\u001b[0m eta \u001b[36m-:--:--\u001b[0m\r\u001b[2K     \u001b[90m━━━━━━━━━━━━━━━━━━━━━━━━━━━━━━━━━━━━━━━━\u001b[0m \u001b[32m73.4/73.4 kB\u001b[0m \u001b[31m5.9 MB/s\u001b[0m eta \u001b[36m0:00:00\u001b[0m\n",
            "\u001b[?25h  Installing build dependencies ... \u001b[?25l\u001b[?25hdone\n",
            "  Getting requirements to build wheel ... \u001b[?25l\u001b[?25hdone\n",
            "  Preparing metadata (pyproject.toml) ... \u001b[?25l\u001b[?25hdone\n",
            "Collecting pybind11>=2.2 (from fasttext)\n",
            "  Using cached pybind11-2.13.6-py3-none-any.whl.metadata (9.5 kB)\n",
            "Requirement already satisfied: setuptools>=0.7.0 in /usr/local/lib/python3.10/dist-packages (from fasttext) (75.1.0)\n",
            "Requirement already satisfied: numpy in /usr/local/lib/python3.10/dist-packages (from fasttext) (1.26.4)\n",
            "Using cached pybind11-2.13.6-py3-none-any.whl (243 kB)\n",
            "Building wheels for collected packages: fasttext\n",
            "  Building wheel for fasttext (pyproject.toml) ... \u001b[?25l\u001b[?25hdone\n",
            "  Created wheel for fasttext: filename=fasttext-0.9.3-cp310-cp310-linux_x86_64.whl size=4296183 sha256=571cb94888930658fb16aefbfc36ff9108f65e85f5ad82b863ae5316804fb0c2\n",
            "  Stored in directory: /root/.cache/pip/wheels/0d/a2/00/81db54d3e6a8199b829d58e02cec2ddb20ce3e59fad8d3c92a\n",
            "Successfully built fasttext\n",
            "Installing collected packages: pybind11, fasttext\n",
            "Successfully installed fasttext-0.9.3 pybind11-2.13.6\n"
          ]
        }
      ],
      "source": [
        "!pip install fasttext"
      ]
    },
    {
      "cell_type": "code",
      "execution_count": 30,
      "metadata": {
        "colab": {
          "base_uri": "https://localhost:8080/"
        },
        "id": "hPiv2gGOunkt",
        "outputId": "8f7d23ec-522e-4256-efaa-8f34b533a81d"
      },
      "outputs": [
        {
          "output_type": "stream",
          "name": "stdout",
          "text": [
            "--2024-12-27 06:40:20--  https://dl.fbaipublicfiles.com/fasttext/supervised-models/lid.176.bin\n",
            "Resolving dl.fbaipublicfiles.com (dl.fbaipublicfiles.com)... 3.167.112.129, 3.167.112.53, 3.167.112.66, ...\n",
            "Connecting to dl.fbaipublicfiles.com (dl.fbaipublicfiles.com)|3.167.112.129|:443... connected.\n",
            "HTTP request sent, awaiting response... 200 OK\n",
            "Length: 131266198 (125M) [application/octet-stream]\n",
            "Saving to: ‘lid.176.bin’\n",
            "\n",
            "lid.176.bin         100%[===================>] 125.18M   125MB/s    in 1.0s    \n",
            "\n",
            "2024-12-27 06:40:21 (125 MB/s) - ‘lid.176.bin’ saved [131266198/131266198]\n",
            "\n"
          ]
        }
      ],
      "source": [
        "!wget https://dl.fbaipublicfiles.com/fasttext/supervised-models/lid.176.bin"
      ]
    },
    {
      "cell_type": "code",
      "execution_count": 34,
      "metadata": {
        "colab": {
          "base_uri": "https://localhost:8080/"
        },
        "id": "Dt0wrcW2yv3G",
        "outputId": "6f1acc02-9ded-4c69-d754-a5e7153636ba"
      },
      "outputs": [
        {
          "output_type": "stream",
          "name": "stdout",
          "text": [
            "Collecting googletrans==4.0.0-rc1\n",
            "  Downloading googletrans-4.0.0rc1.tar.gz (20 kB)\n",
            "  Preparing metadata (setup.py) ... \u001b[?25l\u001b[?25hdone\n",
            "Collecting httpx==0.13.3 (from googletrans==4.0.0-rc1)\n",
            "  Downloading httpx-0.13.3-py3-none-any.whl.metadata (25 kB)\n",
            "Requirement already satisfied: certifi in /usr/local/lib/python3.10/dist-packages (from httpx==0.13.3->googletrans==4.0.0-rc1) (2024.12.14)\n",
            "Collecting hstspreload (from httpx==0.13.3->googletrans==4.0.0-rc1)\n",
            "  Downloading hstspreload-2024.12.1-py3-none-any.whl.metadata (2.1 kB)\n",
            "Requirement already satisfied: sniffio in /usr/local/lib/python3.10/dist-packages (from httpx==0.13.3->googletrans==4.0.0-rc1) (1.3.1)\n",
            "Collecting chardet==3.* (from httpx==0.13.3->googletrans==4.0.0-rc1)\n",
            "  Downloading chardet-3.0.4-py2.py3-none-any.whl.metadata (3.2 kB)\n",
            "Collecting idna==2.* (from httpx==0.13.3->googletrans==4.0.0-rc1)\n",
            "  Downloading idna-2.10-py2.py3-none-any.whl.metadata (9.1 kB)\n",
            "Collecting rfc3986<2,>=1.3 (from httpx==0.13.3->googletrans==4.0.0-rc1)\n",
            "  Downloading rfc3986-1.5.0-py2.py3-none-any.whl.metadata (6.5 kB)\n",
            "Collecting httpcore==0.9.* (from httpx==0.13.3->googletrans==4.0.0-rc1)\n",
            "  Downloading httpcore-0.9.1-py3-none-any.whl.metadata (4.6 kB)\n",
            "Collecting h11<0.10,>=0.8 (from httpcore==0.9.*->httpx==0.13.3->googletrans==4.0.0-rc1)\n",
            "  Downloading h11-0.9.0-py2.py3-none-any.whl.metadata (8.1 kB)\n",
            "Collecting h2==3.* (from httpcore==0.9.*->httpx==0.13.3->googletrans==4.0.0-rc1)\n",
            "  Downloading h2-3.2.0-py2.py3-none-any.whl.metadata (32 kB)\n",
            "Collecting hyperframe<6,>=5.2.0 (from h2==3.*->httpcore==0.9.*->httpx==0.13.3->googletrans==4.0.0-rc1)\n",
            "  Downloading hyperframe-5.2.0-py2.py3-none-any.whl.metadata (7.2 kB)\n",
            "Collecting hpack<4,>=3.0 (from h2==3.*->httpcore==0.9.*->httpx==0.13.3->googletrans==4.0.0-rc1)\n",
            "  Downloading hpack-3.0.0-py2.py3-none-any.whl.metadata (7.0 kB)\n",
            "Downloading httpx-0.13.3-py3-none-any.whl (55 kB)\n",
            "\u001b[2K   \u001b[90m━━━━━━━━━━━━━━━━━━━━━━━━━━━━━━━━━━━━━━━━\u001b[0m \u001b[32m55.1/55.1 kB\u001b[0m \u001b[31m4.3 MB/s\u001b[0m eta \u001b[36m0:00:00\u001b[0m\n",
            "\u001b[?25hDownloading chardet-3.0.4-py2.py3-none-any.whl (133 kB)\n",
            "\u001b[2K   \u001b[90m━━━━━━━━━━━━━━━━━━━━━━━━━━━━━━━━━━━━━━━━\u001b[0m \u001b[32m133.4/133.4 kB\u001b[0m \u001b[31m10.3 MB/s\u001b[0m eta \u001b[36m0:00:00\u001b[0m\n",
            "\u001b[?25hDownloading httpcore-0.9.1-py3-none-any.whl (42 kB)\n",
            "\u001b[2K   \u001b[90m━━━━━━━━━━━━━━━━━━━━━━━━━━━━━━━━━━━━━━━━\u001b[0m \u001b[32m42.6/42.6 kB\u001b[0m \u001b[31m2.3 MB/s\u001b[0m eta \u001b[36m0:00:00\u001b[0m\n",
            "\u001b[?25hDownloading idna-2.10-py2.py3-none-any.whl (58 kB)\n",
            "\u001b[2K   \u001b[90m━━━━━━━━━━━━━━━━━━━━━━━━━━━━━━━━━━━━━━━━\u001b[0m \u001b[32m58.8/58.8 kB\u001b[0m \u001b[31m3.5 MB/s\u001b[0m eta \u001b[36m0:00:00\u001b[0m\n",
            "\u001b[?25hDownloading h2-3.2.0-py2.py3-none-any.whl (65 kB)\n",
            "\u001b[2K   \u001b[90m━━━━━━━━━━━━━━━━━━━━━━━━━━━━━━━━━━━━━━━━\u001b[0m \u001b[32m65.0/65.0 kB\u001b[0m \u001b[31m5.2 MB/s\u001b[0m eta \u001b[36m0:00:00\u001b[0m\n",
            "\u001b[?25hDownloading rfc3986-1.5.0-py2.py3-none-any.whl (31 kB)\n",
            "Downloading hstspreload-2024.12.1-py3-none-any.whl (1.3 MB)\n",
            "\u001b[2K   \u001b[90m━━━━━━━━━━━━━━━━━━━━━━━━━━━━━━━━━━━━━━━━\u001b[0m \u001b[32m1.3/1.3 MB\u001b[0m \u001b[31m49.6 MB/s\u001b[0m eta \u001b[36m0:00:00\u001b[0m\n",
            "\u001b[?25hDownloading h11-0.9.0-py2.py3-none-any.whl (53 kB)\n",
            "\u001b[2K   \u001b[90m━━━━━━━━━━━━━━━━━━━━━━━━━━━━━━━━━━━━━━━━\u001b[0m \u001b[32m53.6/53.6 kB\u001b[0m \u001b[31m4.1 MB/s\u001b[0m eta \u001b[36m0:00:00\u001b[0m\n",
            "\u001b[?25hDownloading hpack-3.0.0-py2.py3-none-any.whl (38 kB)\n",
            "Downloading hyperframe-5.2.0-py2.py3-none-any.whl (12 kB)\n",
            "Building wheels for collected packages: googletrans\n",
            "  Building wheel for googletrans (setup.py) ... \u001b[?25l\u001b[?25hdone\n",
            "  Created wheel for googletrans: filename=googletrans-4.0.0rc1-py3-none-any.whl size=17397 sha256=15a8fdbeecf2a23e151740b970ab08f1770a29a4c225d6e4f04cbc5b442ad5fd\n",
            "  Stored in directory: /root/.cache/pip/wheels/c0/59/9f/7372f0cf70160fe61b528532e1a7c8498c4becd6bcffb022de\n",
            "Successfully built googletrans\n",
            "Installing collected packages: rfc3986, hyperframe, hpack, h11, chardet, idna, hstspreload, h2, httpcore, httpx, googletrans\n",
            "  Attempting uninstall: h11\n",
            "    Found existing installation: h11 0.14.0\n",
            "    Uninstalling h11-0.14.0:\n",
            "      Successfully uninstalled h11-0.14.0\n",
            "  Attempting uninstall: chardet\n",
            "    Found existing installation: chardet 5.2.0\n",
            "    Uninstalling chardet-5.2.0:\n",
            "      Successfully uninstalled chardet-5.2.0\n",
            "  Attempting uninstall: idna\n",
            "    Found existing installation: idna 3.10\n",
            "    Uninstalling idna-3.10:\n",
            "      Successfully uninstalled idna-3.10\n",
            "  Attempting uninstall: httpcore\n",
            "    Found existing installation: httpcore 1.0.7\n",
            "    Uninstalling httpcore-1.0.7:\n",
            "      Successfully uninstalled httpcore-1.0.7\n",
            "  Attempting uninstall: httpx\n",
            "    Found existing installation: httpx 0.28.1\n",
            "    Uninstalling httpx-0.28.1:\n",
            "      Successfully uninstalled httpx-0.28.1\n",
            "\u001b[31mERROR: pip's dependency resolver does not currently take into account all the packages that are installed. This behaviour is the source of the following dependency conflicts.\n",
            "langsmith 0.2.3 requires httpx<1,>=0.23.0, but you have httpx 0.13.3 which is incompatible.\n",
            "openai 1.57.4 requires httpx<1,>=0.23.0, but you have httpx 0.13.3 which is incompatible.\u001b[0m\u001b[31m\n",
            "\u001b[0mSuccessfully installed chardet-3.0.4 googletrans-4.0.0rc1 h11-0.9.0 h2-3.2.0 hpack-3.0.0 hstspreload-2024.12.1 httpcore-0.9.1 httpx-0.13.3 hyperframe-5.2.0 idna-2.10 rfc3986-1.5.0\n"
          ]
        }
      ],
      "source": [
        "pip install googletrans==4.0.0-rc1\n"
      ]
    },
    {
      "cell_type": "markdown",
      "source": [
        "**Language Detection and Distribution Analysis Using fastText**"
      ],
      "metadata": {
        "id": "0N0_zxnxDsXH"
      }
    },
    {
      "cell_type": "code",
      "execution_count": 31,
      "metadata": {
        "colab": {
          "base_uri": "https://localhost:8080/"
        },
        "id": "EwPeafq7v8QZ",
        "outputId": "b56dc922-76c4-4b6b-a9c9-dbcdbfd60e5c"
      },
      "outputs": [
        {
          "output_type": "stream",
          "name": "stdout",
          "text": [
            "\n",
            "Language Counts:\n",
            " detected_language\n",
            "en     4052\n",
            "de       90\n",
            "bn       71\n",
            "es       61\n",
            "lt       61\n",
            "       ... \n",
            "ilo       1\n",
            "hi        1\n",
            "gv        1\n",
            "gl        1\n",
            "rm        1\n",
            "Name: count, Length: 82, dtype: int64\n",
            "\n",
            "Language Percentages:\n",
            " detected_language\n",
            "en     81.414507\n",
            "de      1.808318\n",
            "bn      1.426562\n",
            "es      1.225638\n",
            "lt      1.225638\n",
            "         ...    \n",
            "ilo     0.020092\n",
            "hi      0.020092\n",
            "gv      0.020092\n",
            "gl      0.020092\n",
            "rm      0.020092\n",
            "Name: count, Length: 82, dtype: float64\n"
          ]
        }
      ],
      "source": [
        "import fasttext\n",
        "\n",
        "# Load the pre-trained fastText language detection model\n",
        "model = fasttext.load_model('lid.176.bin')\n",
        "\n",
        "# Function to detect language using fastText\n",
        "def detect_language_with_fasttext(text):\n",
        "    prediction = model.predict(text)  # Predict the language\n",
        "    lang = prediction[0][0].replace('__label__', '')  # Extract language code\n",
        "    return lang\n",
        "\n",
        "# Apply fastText language detection\n",
        "if 'cleaned_review' in reviews.columns:\n",
        "    reviews['detected_language'] = reviews['cleaned_review'].dropna().apply(detect_language_with_fasttext)\n",
        "\n",
        "    # Calculate language counts\n",
        "    language_counts = reviews['detected_language'].value_counts()\n",
        "\n",
        "    # Calculate language percentages\n",
        "    language_percentages = (language_counts / len(reviews)) * 100\n",
        "\n",
        "    # Display the results\n",
        "    print(\"\\nLanguage Counts:\\n\", language_counts)\n",
        "    print(\"\\nLanguage Percentages:\\n\", language_percentages)\n",
        "else:\n",
        "    print(\"Column 'cleaned_review' not found in the dataset.\")\n"
      ]
    },
    {
      "cell_type": "code",
      "source": [
        "# Display top 10 languages by percentage\n",
        "top_n = 10\n",
        "top_languages = language_percentages.head(top_n)\n",
        "\n",
        "# Plot the top N languages\n",
        "plt.figure(figsize=(10, 6))\n",
        "top_languages.plot(\n",
        "    kind='barh',\n",
        "    color='skyblue',\n",
        "    edgecolor='black'\n",
        ")\n",
        "plt.title(f'Top {top_n} Languages by Percentage', fontsize=16)\n",
        "plt.xlabel('Percentage (%)', fontsize=14)\n",
        "plt.ylabel('Language', fontsize=14)\n",
        "plt.grid(axis='x', linestyle='--', alpha=0.7)\n",
        "plt.tight_layout()\n",
        "plt.show()\n"
      ],
      "metadata": {
        "colab": {
          "base_uri": "https://localhost:8080/",
          "height": 607
        },
        "id": "kzfWvP5tdpCq",
        "outputId": "3e03cd45-c9d4-4bf4-8c9b-197fc9739c88"
      },
      "execution_count": 32,
      "outputs": [
        {
          "output_type": "display_data",
          "data": {
            "text/plain": [
              "<Figure size 1000x600 with 1 Axes>"
            ],
            "image/png": "[encoded data removed]"
          },
          "metadata": {}
        }
      ]
    },
    {
      "cell_type": "markdown",
      "source": [
        "**Filtering Reviews by Language Based on Percentage Threshold Using fastText**\n",
        "\n",
        "\n",
        "\n",
        "\n",
        "\n",
        "\n"
      ],
      "metadata": {
        "id": "M5R6XXGAD5fY"
      }
    },
    {
      "cell_type": "code",
      "source": [
        "import fasttext\n",
        "\n",
        "# Load the pre-trained fastText language detection model\n",
        "model = fasttext.load_model('lid.176.bin')\n",
        "\n",
        "# Function to detect language using fastText\n",
        "def detect_language_with_fasttext(text):\n",
        "    prediction = model.predict(text)  # Predict the language\n",
        "    lang = prediction[0][0].replace('__label__', '')  # Extract language code\n",
        "    return lang\n",
        "\n",
        "# Check if the required column exists\n",
        "if 'cleaned_review' in reviews.columns:\n",
        "    # Step 1: Detect languages\n",
        "    reviews['detected_language'] = reviews['cleaned_review'].dropna().apply(detect_language_with_fasttext)\n",
        "\n",
        "    # Step 2: Calculate language counts and percentages\n",
        "    language_counts = reviews['detected_language'].value_counts()\n",
        "    language_percentages = (language_counts / len(reviews)) * 100\n",
        "\n",
        "    # Step 3: Set threshold for filtering rare languages\n",
        "    threshold = 0.6  # Languages with < 0.6% will be filtered out\n",
        "    valid_languages = language_percentages[language_percentages >= threshold].index\n",
        "\n",
        "    # Step 4: Filter DataFrame to keep only valid languages\n",
        "    reviews = reviews[reviews['detected_language'].isin(valid_languages)]\n",
        "\n",
        "    # Display the remaining language percentages\n",
        "    print(\"\\nRemaining Language Percentages (>= 0.6%):\")\n",
        "    print(language_percentages[language_percentages >= threshold])\n",
        "else:\n",
        "    print(\"Column 'cleaned_review' not found in the dataset.\")\n"
      ],
      "metadata": {
        "colab": {
          "base_uri": "https://localhost:8080/"
        },
        "id": "4O-FBKKR2KpN",
        "outputId": "ec0e3147-b828-4b15-8495-9e90f2b647aa"
      },
      "execution_count": 33,
      "outputs": [
        {
          "output_type": "stream",
          "name": "stdout",
          "text": [
            "\n",
            "Remaining Language Percentages (>= 0.6%):\n",
            "detected_language\n",
            "en     81.414507\n",
            "de      1.808318\n",
            "bn      1.426562\n",
            "es      1.225638\n",
            "lt      1.225638\n",
            "fr      1.165361\n",
            "it      1.125176\n",
            "ar      0.683142\n",
            "ceb     0.602773\n",
            "Name: count, dtype: float64\n"
          ]
        }
      ]
    },
    {
      "cell_type": "markdown",
      "source": [
        "**We retained approximately 91% of the data.**\n"
      ],
      "metadata": {
        "id": "6DoHm04UREes"
      }
    },
    {
      "cell_type": "code",
      "source": [
        "reviews.shape"
      ],
      "metadata": {
        "colab": {
          "base_uri": "https://localhost:8080/"
        },
        "id": "-L-V5GEB2iAr",
        "outputId": "4308b9fb-cc64-4895-f700-bb02e11bd8bc"
      },
      "execution_count": 35,
      "outputs": [
        {
          "output_type": "execute_result",
          "data": {
            "text/plain": [
              "(4513, 7)"
            ]
          },
          "metadata": {},
          "execution_count": 35
        }
      ]
    },
    {
      "cell_type": "markdown",
      "source": [
        "**Translating Stage :**"
      ],
      "metadata": {
        "id": "Do8smxcwRuo4"
      }
    },
    {
      "cell_type": "code",
      "source": [
        "valid_language_codes = {\n",
        "    'tl': 'fil',  # Tagalog to Filipino\n",
        "    'et': 'et',   # Estonian\n",
        "    'pl': 'pl',   # Polish\n",
        "    'ar': 'ar',   # Arabic\n",
        "    'zh-cn': 'zh',  # Simplified Chinese\n",
        "    'zh-tw': 'zh',  # Traditional Chinese\n",
        "    'pt-br': 'pt',  # Brazilian Portuguese\n",
        "    'pt-pt': 'pt',  # European Portuguese\n",
        "    # Add more mappings as needed\n",
        "}\n",
        "import fasttext\n",
        "from googletrans import Translator\n",
        "\n",
        "# Load the pre-trained fastText language detection model\n",
        "model = fasttext.load_model('lid.176.bin')\n",
        "\n",
        "# Initialize the Google Translator\n",
        "translator = Translator()\n",
        "\n",
        "# Step 1: Detect languages using fastText\n",
        "def detect_language_with_fasttext(text):\n",
        "    prediction = model.predict(text)  # Predict the language\n",
        "    lang = prediction[0][0].replace('__label__', '')  # Extract language code\n",
        "    return lang\n",
        "\n",
        "# Step 2: Map unsupported or invalid language codes\n",
        "valid_language_codes = {\n",
        "    'tl': 'fil',  # Tagalog to Filipino\n",
        "    'zh-cn': 'zh',  # Simplified Chinese\n",
        "    'zh-tw': 'zh',  # Traditional Chinese\n",
        "    # Add other mappings as needed\n",
        "}\n",
        "\n",
        "def map_language_code(lang):\n",
        "    return valid_language_codes.get(lang, lang)  # Return the mapped code or the original code\n",
        "\n",
        "# Step 3: Translate text to English\n",
        "def translate_to_english(text, lang):\n",
        "    try:\n",
        "        # Map the language code to a valid one\n",
        "        lang = map_language_code(lang)\n",
        "        if lang != 'en':  # Only translate non-English text\n",
        "            translated = translator.translate(text, src=lang, dest='en')\n",
        "            return translated.text\n",
        "        return text  # If already English, return the original text\n",
        "    except Exception as e:\n",
        "        print(f\"Error translating: {e}\")\n",
        "        return text  # Return original text if translation fails\n",
        "\n",
        "    # Translate non-English reviews\n",
        "    reviews['translated_review'] = reviews.apply(\n",
        "        lambda row: translate_to_english(row['cleaned_review'], row['detected_language']), axis=1\n",
        "    )\n",
        "\n",
        "    # Display sample translated reviews\n",
        "    print(\"\\nSample Translated Reviews:\\n\", reviews[['cleaned_review', 'detected_language', 'translated_review']].head())\n"
      ],
      "metadata": {
        "colab": {
          "base_uri": "https://localhost:8080/"
        },
        "id": "AWVy-DlR21_w",
        "outputId": "9bcd073d-5bd3-46c8-b587-0724842b9298"
      },
      "execution_count": 36,
      "outputs": [
        {
          "output_type": "stream",
          "name": "stdout",
          "text": [
            "\n",
            "Sample Translated Reviews:\n",
            "                                       cleaned_review detected_language  \\\n",
            "0                                               love                es   \n",
            "1                                           md sagor                de   \n",
            "2  dear tiktok team big problem account freez plz...                en   \n",
            "3                                    عامين باش يتعمر                ar   \n",
            "4  activity notifications tabs wont load endless ...                en   \n",
            "\n",
            "                                   translated_review  \n",
            "0                                               Love  \n",
            "1                                           Md sagor  \n",
            "2  dear tiktok team big problem account freez plz...  \n",
            "3                         Two years, Bash, builds up  \n",
            "4  activity notifications tabs wont load endless ...  \n"
          ]
        }
      ]
    },
    {
      "cell_type": "code",
      "execution_count": 50,
      "metadata": {
        "colab": {
          "base_uri": "https://localhost:8080/"
        },
        "id": "cfohpig0x0W8",
        "outputId": "7f1dea5c-2ebf-477b-9c5a-a1409213d103"
      },
      "outputs": [
        {
          "output_type": "execute_result",
          "data": {
            "text/plain": [
              "(4513, 8)"
            ]
          },
          "metadata": {},
          "execution_count": 50
        }
      ],
      "source": [
        "reviews.shape"
      ]
    },
    {
      "cell_type": "code",
      "source": [
        "# Check if the required columns exist\n",
        "if 'cleaned_review' in reviews.columns and 'translated_review' in reviews.columns:\n",
        "    # Identify reviews that were not translated\n",
        "    not_translated = reviews['cleaned_review'] == reviews['translated_review']\n",
        "\n",
        "    # Calculate the percentage of non-translated reviews\n",
        "    not_translated_count = not_translated.sum()\n",
        "    total_reviews = len(reviews)\n",
        "    not_translated_percentage = (not_translated_count / total_reviews) * 100\n",
        "\n",
        "    print(f\"Number of non-translated reviews: {not_translated_count}\")\n",
        "    print(f\"Percentage of non-translated reviews: {not_translated_percentage:.2f}%\")\n",
        "else:\n",
        "    print(\"Required columns ('cleaned_review', 'translated_review') not found in the dataset.\")"
      ],
      "metadata": {
        "colab": {
          "base_uri": "https://localhost:8080/"
        },
        "id": "dk3iZUJb5T0d",
        "outputId": "ed432a78-a6c8-48b0-899d-4447b62c8733"
      },
      "execution_count": 51,
      "outputs": [
        {
          "output_type": "stream",
          "name": "stdout",
          "text": [
            "Number of non-translated reviews: 4252\n",
            "Percentage of non-translated reviews: 94.22%\n"
          ]
        }
      ]
    },
    {
      "cell_type": "code",
      "source": [
        "    # Check if the review was translated\n",
        "    translated_rows = reviews['cleaned_review'] != reviews['translated_review']\n",
        "\n",
        "    # Count the number of translated rows\n",
        "    num_translated = translated_rows.sum()\n",
        "\n",
        "    # Calculate the percentage of translated rows\n",
        "    total_rows = len(reviews)\n",
        "    percent_translated = (num_translated / total_rows) * 100\n",
        "\n",
        "    # Display the results\n",
        "    print(f\"Number of translated rows: {num_translated}\")\n",
        "    print(f\"Percentage of translated rows: {percent_translated:.2f}%\")\n"
      ],
      "metadata": {
        "colab": {
          "base_uri": "https://localhost:8080/"
        },
        "id": "2xioTRLJ6xFf",
        "outputId": "cc9360c4-d529-4852-d42c-be8bb9a19901"
      },
      "execution_count": 44,
      "outputs": [
        {
          "output_type": "stream",
          "name": "stdout",
          "text": [
            "Number of translated rows: 261\n",
            "Percentage of translated rows: 5.78%\n"
          ]
        }
      ]
    },
    {
      "cell_type": "markdown",
      "source": [
        "Approximately 50% of non-English reviews remain untranslated, likely due to language detection errors, unsupported languages, or API limitations. To address this, consider cross-validating detected languages with additional tools, expanding language mappings to include more uncommon languages, and retrying failed translations using fallback APIs like Google Cloud or DeepL. Preprocessing the text (e.g., removing malformed characters or mixed-language text) can also enhance translation accuracy. Prioritize frequent non-English languages for maximum impact and document recurring issues for continuous improvement. These steps can significantly increase translation coverage and data quality."
      ],
      "metadata": {
        "id": "VV62qQJ5STZO"
      }
    },
    {
      "cell_type": "code",
      "execution_count": 52,
      "metadata": {
        "colab": {
          "base_uri": "https://localhost:8080/",
          "height": 606
        },
        "id": "2xD0Nak-2qSK",
        "outputId": "81484982-26e3-4c28-ba25-0d4e697c8d5a"
      },
      "outputs": [
        {
          "output_type": "execute_result",
          "data": {
            "text/plain": [
              "    Rating                                             Review  \\\n",
              "0        5                                            Love it   \n",
              "1        5                                           Md Sagor   \n",
              "2        2  Dear, TikTok team my big problem my account is...   \n",
              "3        1                                    عامين باش يتعمر   \n",
              "4        2  My activity and notifications tabs won't load,...   \n",
              "5        4                                               Nice   \n",
              "7        5                       My account for you please 🙏🥺   \n",
              "8        5  As a 1st timer, nakaka excite kahit maliit mas...   \n",
              "9        5                                          I like it   \n",
              "10       5                   Vlo lagce but foryou te jai na🥲🥺   \n",
              "\n",
              "              Timestamp                                        split_words  \\\n",
              "0   2024-11-16 13:09:37                                         [Love, it]   \n",
              "1   2024-11-16 13:08:05                                        [Md, Sagor]   \n",
              "2   2024-11-16 13:07:19  [Dear,, TikTok, team, my, big, problem, my, ac...   \n",
              "3   2024-11-16 13:05:08                                [عامين, باش, يتعمر]   \n",
              "4   2024-11-16 13:04:47  [My, activity, and, notifications, tabs, won't...   \n",
              "5   2024-11-16 13:03:51                                             [Nice]   \n",
              "7   2024-11-16 12:58:01                [My, account, for, you, please, 🙏🥺]   \n",
              "8   2024-11-16 12:57:33  [As, a, 1st, timer,, nakaka, excite, kahit, ma...   \n",
              "9   2024-11-16 12:57:14                                      [I, like, it]   \n",
              "10  2024-11-16 12:56:58           [Vlo, lagce, but, foryou, te, jai, na🥲🥺]   \n",
              "\n",
              "    word_count                                     cleaned_review  \\\n",
              "0            2                                               love   \n",
              "1            2                                           md sagor   \n",
              "2           30  dear tiktok team big problem account freez plz...   \n",
              "3            3                                    عامين باش يتعمر   \n",
              "4           13  activity notifications tabs wont load endless ...   \n",
              "5            1                                               nice   \n",
              "7            6                                  account please 🙏🥺   \n",
              "8           15  1st timer nakaka excite kahit maliit masabi mo...   \n",
              "9            3                                               like   \n",
              "10           7                       vlo lagce foryou te jai na🥲🥺   \n",
              "\n",
              "   detected_language                                  translated_review  \n",
              "0                 es                                               love  \n",
              "1                 de                                           md sagor  \n",
              "2                 en  dear tiktok team big problem account freez plz...  \n",
              "3                 ar                         two years, bash, builds up  \n",
              "4                 en  activity notifications tabs wont load endless ...  \n",
              "5                 en                                               nice  \n",
              "7                 en                                  account please 🙏🥺  \n",
              "8                 en  1st timer nakaka excite kahit maliit masabi mo...  \n",
              "9                 en                                               like  \n",
              "10                es                       vlo lagce foryou te jai na🥲🥺  "
            ],
            "text/html": [
              "\n",
              "  <div id=\"df-47b6447f-b076-48c8-90fb-822b45206ca4\" class=\"colab-df-container\">\n",
              "    <div>\n",
              "<style scoped>\n",
              "    .dataframe tbody tr th:only-of-type {\n",
              "        vertical-align: middle;\n",
              "    }\n",
              "\n",
              "    .dataframe tbody tr th {\n",
              "        vertical-align: top;\n",
              "    }\n",
              "\n",
              "    .dataframe thead th {\n",
              "        text-align: right;\n",
              "    }\n",
              "</style>\n",
              "<table border=\"1\" class=\"dataframe\">\n",
              "  <thead>\n",
              "    <tr style=\"text-align: right;\">\n",
              "      <th></th>\n",
              "      <th>Rating</th>\n",
              "      <th>Review</th>\n",
              "      <th>Timestamp</th>\n",
              "      <th>split_words</th>\n",
              "      <th>word_count</th>\n",
              "      <th>cleaned_review</th>\n",
              "      <th>detected_language</th>\n",
              "      <th>translated_review</th>\n",
              "    </tr>\n",
              "  </thead>\n",
              "  <tbody>\n",
              "    <tr>\n",
              "      <th>0</th>\n",
              "      <td>5</td>\n",
              "      <td>Love it</td>\n",
              "      <td>2024-11-16 13:09:37</td>\n",
              "      <td>[Love, it]</td>\n",
              "      <td>2</td>\n",
              "      <td>love</td>\n",
              "      <td>es</td>\n",
              "      <td>love</td>\n",
              "    </tr>\n",
              "    <tr>\n",
              "      <th>1</th>\n",
              "      <td>5</td>\n",
              "      <td>Md Sagor</td>\n",
              "      <td>2024-11-16 13:08:05</td>\n",
              "      <td>[Md, Sagor]</td>\n",
              "      <td>2</td>\n",
              "      <td>md sagor</td>\n",
              "      <td>de</td>\n",
              "      <td>md sagor</td>\n",
              "    </tr>\n",
              "    <tr>\n",
              "      <th>2</th>\n",
              "      <td>2</td>\n",
              "      <td>Dear, TikTok team my big problem my account is...</td>\n",
              "      <td>2024-11-16 13:07:19</td>\n",
              "      <td>[Dear,, TikTok, team, my, big, problem, my, ac...</td>\n",
              "      <td>30</td>\n",
              "      <td>dear tiktok team big problem account freez plz...</td>\n",
              "      <td>en</td>\n",
              "      <td>dear tiktok team big problem account freez plz...</td>\n",
              "    </tr>\n",
              "    <tr>\n",
              "      <th>3</th>\n",
              "      <td>1</td>\n",
              "      <td>عامين باش يتعمر</td>\n",
              "      <td>2024-11-16 13:05:08</td>\n",
              "      <td>[عامين, باش, يتعمر]</td>\n",
              "      <td>3</td>\n",
              "      <td>عامين باش يتعمر</td>\n",
              "      <td>ar</td>\n",
              "      <td>two years, bash, builds up</td>\n",
              "    </tr>\n",
              "    <tr>\n",
              "      <th>4</th>\n",
              "      <td>2</td>\n",
              "      <td>My activity and notifications tabs won't load,...</td>\n",
              "      <td>2024-11-16 13:04:47</td>\n",
              "      <td>[My, activity, and, notifications, tabs, won't...</td>\n",
              "      <td>13</td>\n",
              "      <td>activity notifications tabs wont load endless ...</td>\n",
              "      <td>en</td>\n",
              "      <td>activity notifications tabs wont load endless ...</td>\n",
              "    </tr>\n",
              "    <tr>\n",
              "      <th>5</th>\n",
              "      <td>4</td>\n",
              "      <td>Nice</td>\n",
              "      <td>2024-11-16 13:03:51</td>\n",
              "      <td>[Nice]</td>\n",
              "      <td>1</td>\n",
              "      <td>nice</td>\n",
              "      <td>en</td>\n",
              "      <td>nice</td>\n",
              "    </tr>\n",
              "    <tr>\n",
              "      <th>7</th>\n",
              "      <td>5</td>\n",
              "      <td>My account for you please 🙏🥺</td>\n",
              "      <td>2024-11-16 12:58:01</td>\n",
              "      <td>[My, account, for, you, please, 🙏🥺]</td>\n",
              "      <td>6</td>\n",
              "      <td>account please 🙏🥺</td>\n",
              "      <td>en</td>\n",
              "      <td>account please 🙏🥺</td>\n",
              "    </tr>\n",
              "    <tr>\n",
              "      <th>8</th>\n",
              "      <td>5</td>\n",
              "      <td>As a 1st timer, nakaka excite kahit maliit mas...</td>\n",
              "      <td>2024-11-16 12:57:33</td>\n",
              "      <td>[As, a, 1st, timer,, nakaka, excite, kahit, ma...</td>\n",
              "      <td>15</td>\n",
              "      <td>1st timer nakaka excite kahit maliit masabi mo...</td>\n",
              "      <td>en</td>\n",
              "      <td>1st timer nakaka excite kahit maliit masabi mo...</td>\n",
              "    </tr>\n",
              "    <tr>\n",
              "      <th>9</th>\n",
              "      <td>5</td>\n",
              "      <td>I like it</td>\n",
              "      <td>2024-11-16 12:57:14</td>\n",
              "      <td>[I, like, it]</td>\n",
              "      <td>3</td>\n",
              "      <td>like</td>\n",
              "      <td>en</td>\n",
              "      <td>like</td>\n",
              "    </tr>\n",
              "    <tr>\n",
              "      <th>10</th>\n",
              "      <td>5</td>\n",
              "      <td>Vlo lagce but foryou te jai na🥲🥺</td>\n",
              "      <td>2024-11-16 12:56:58</td>\n",
              "      <td>[Vlo, lagce, but, foryou, te, jai, na🥲🥺]</td>\n",
              "      <td>7</td>\n",
              "      <td>vlo lagce foryou te jai na🥲🥺</td>\n",
              "      <td>es</td>\n",
              "      <td>vlo lagce foryou te jai na🥲🥺</td>\n",
              "    </tr>\n",
              "  </tbody>\n",
              "</table>\n",
              "</div>\n",
              "    <div class=\"colab-df-buttons\">\n",
              "\n",
              "  <div class=\"colab-df-container\">\n",
              "    <button class=\"colab-df-convert\" onclick=\"convertToInteractive('df-47b6447f-b076-48c8-90fb-822b45206ca4')\"\n",
              "            title=\"Convert this dataframe to an interactive table.\"\n",
              "            style=\"display:none;\">\n",
              "\n",
              "  <svg xmlns=\"http://www.w3.org/2000/svg\" height=\"24px\" viewBox=\"0 -960 960 960\">\n",
              "    <path d=\"M120-120v-720h720v720H120Zm60-500h600v-160H180v160Zm220 220h160v-160H400v160Zm0 220h160v-160H400v160ZM180-400h160v-160H180v160Zm440 0h160v-160H620v160ZM180-180h160v-160H180v160Zm440 0h160v-160H620v160Z\"/>\n",
              "  </svg>\n",
              "    </button>\n",
              "\n",
              "  <style>\n",
              "    .colab-df-container {\n",
              "      display:flex;\n",
              "      gap: 12px;\n",
              "    }\n",
              "\n",
              "    .colab-df-convert {\n",
              "      background-color: #E8F0FE;\n",
              "      border: none;\n",
              "      border-radius: 50%;\n",
              "      cursor: pointer;\n",
              "      display: none;\n",
              "      fill: #1967D2;\n",
              "      height: 32px;\n",
              "      padding: 0 0 0 0;\n",
              "      width: 32px;\n",
              "    }\n",
              "\n",
              "    .colab-df-convert:hover {\n",
              "      background-color: #E2EBFA;\n",
              "      box-shadow: 0px 1px 2px rgba(60, 64, 67, 0.3), 0px 1px 3px 1px rgba(60, 64, 67, 0.15);\n",
              "      fill: #174EA6;\n",
              "    }\n",
              "\n",
              "    .colab-df-buttons div {\n",
              "      margin-bottom: 4px;\n",
              "    }\n",
              "\n",
              "    [theme=dark] .colab-df-convert {\n",
              "      background-color: #3B4455;\n",
              "      fill: #D2E3FC;\n",
              "    }\n",
              "\n",
              "    [theme=dark] .colab-df-convert:hover {\n",
              "      background-color: #434B5C;\n",
              "      box-shadow: 0px 1px 3px 1px rgba(0, 0, 0, 0.15);\n",
              "      filter: drop-shadow(0px 1px 2px rgba(0, 0, 0, 0.3));\n",
              "      fill: #FFFFFF;\n",
              "    }\n",
              "  </style>\n",
              "\n",
              "    <script>\n",
              "      const buttonEl =\n",
              "        document.querySelector('#df-47b6447f-b076-48c8-90fb-822b45206ca4 button.colab-df-convert');\n",
              "      buttonEl.style.display =\n",
              "        google.colab.kernel.accessAllowed ? 'block' : 'none';\n",
              "\n",
              "      async function convertToInteractive(key) {\n",
              "        const element = document.querySelector('#df-47b6447f-b076-48c8-90fb-822b45206ca4');\n",
              "        const dataTable =\n",
              "          await google.colab.kernel.invokeFunction('convertToInteractive',\n",
              "                                                    [key], {});\n",
              "        if (!dataTable) return;\n",
              "\n",
              "        const docLinkHtml = 'Like what you see? Visit the ' +\n",
              "          '<a target=\"_blank\" href=https://colab.research.google.com/notebooks/data_table.ipynb>data table notebook</a>'\n",
              "          + ' to learn more about interactive tables.';\n",
              "        element.innerHTML = '';\n",
              "        dataTable['output_type'] = 'display_data';\n",
              "        await google.colab.output.renderOutput(dataTable, element);\n",
              "        const docLink = document.createElement('div');\n",
              "        docLink.innerHTML = docLinkHtml;\n",
              "        element.appendChild(docLink);\n",
              "      }\n",
              "    </script>\n",
              "  </div>\n",
              "\n",
              "\n",
              "<div id=\"df-6fb17f0a-a56c-47c7-a877-52dca1f2cf1e\">\n",
              "  <button class=\"colab-df-quickchart\" onclick=\"quickchart('df-6fb17f0a-a56c-47c7-a877-52dca1f2cf1e')\"\n",
              "            title=\"Suggest charts\"\n",
              "            style=\"display:none;\">\n",
              "\n",
              "<svg xmlns=\"http://www.w3.org/2000/svg\" height=\"24px\"viewBox=\"0 0 24 24\"\n",
              "     width=\"24px\">\n",
              "    <g>\n",
              "        <path d=\"M19 3H5c-1.1 0-2 .9-2 2v14c0 1.1.9 2 2 2h14c1.1 0 2-.9 2-2V5c0-1.1-.9-2-2-2zM9 17H7v-7h2v7zm4 0h-2V7h2v10zm4 0h-2v-4h2v4z\"/>\n",
              "    </g>\n",
              "</svg>\n",
              "  </button>\n",
              "\n",
              "<style>\n",
              "  .colab-df-quickchart {\n",
              "      --bg-color: #E8F0FE;\n",
              "      --fill-color: #1967D2;\n",
              "      --hover-bg-color: #E2EBFA;\n",
              "      --hover-fill-color: #174EA6;\n",
              "      --disabled-fill-color: #AAA;\n",
              "      --disabled-bg-color: #DDD;\n",
              "  }\n",
              "\n",
              "  [theme=dark] .colab-df-quickchart {\n",
              "      --bg-color: #3B4455;\n",
              "      --fill-color: #D2E3FC;\n",
              "      --hover-bg-color: #434B5C;\n",
              "      --hover-fill-color: #FFFFFF;\n",
              "      --disabled-bg-color: #3B4455;\n",
              "      --disabled-fill-color: #666;\n",
              "  }\n",
              "\n",
              "  .colab-df-quickchart {\n",
              "    background-color: var(--bg-color);\n",
              "    border: none;\n",
              "    border-radius: 50%;\n",
              "    cursor: pointer;\n",
              "    display: none;\n",
              "    fill: var(--fill-color);\n",
              "    height: 32px;\n",
              "    padding: 0;\n",
              "    width: 32px;\n",
              "  }\n",
              "\n",
              "  .colab-df-quickchart:hover {\n",
              "    background-color: var(--hover-bg-color);\n",
              "    box-shadow: 0 1px 2px rgba(60, 64, 67, 0.3), 0 1px 3px 1px rgba(60, 64, 67, 0.15);\n",
              "    fill: var(--button-hover-fill-color);\n",
              "  }\n",
              "\n",
              "  .colab-df-quickchart-complete:disabled,\n",
              "  .colab-df-quickchart-complete:disabled:hover {\n",
              "    background-color: var(--disabled-bg-color);\n",
              "    fill: var(--disabled-fill-color);\n",
              "    box-shadow: none;\n",
              "  }\n",
              "\n",
              "  .colab-df-spinner {\n",
              "    border: 2px solid var(--fill-color);\n",
              "    border-color: transparent;\n",
              "    border-bottom-color: var(--fill-color);\n",
              "    animation:\n",
              "      spin 1s steps(1) infinite;\n",
              "  }\n",
              "\n",
              "  @keyframes spin {\n",
              "    0% {\n",
              "      border-color: transparent;\n",
              "      border-bottom-color: var(--fill-color);\n",
              "      border-left-color: var(--fill-color);\n",
              "    }\n",
              "    20% {\n",
              "      border-color: transparent;\n",
              "      border-left-color: var(--fill-color);\n",
              "      border-top-color: var(--fill-color);\n",
              "    }\n",
              "    30% {\n",
              "      border-color: transparent;\n",
              "      border-left-color: var(--fill-color);\n",
              "      border-top-color: var(--fill-color);\n",
              "      border-right-color: var(--fill-color);\n",
              "    }\n",
              "    40% {\n",
              "      border-color: transparent;\n",
              "      border-right-color: var(--fill-color);\n",
              "      border-top-color: var(--fill-color);\n",
              "    }\n",
              "    60% {\n",
              "      border-color: transparent;\n",
              "      border-right-color: var(--fill-color);\n",
              "    }\n",
              "    80% {\n",
              "      border-color: transparent;\n",
              "      border-right-color: var(--fill-color);\n",
              "      border-bottom-color: var(--fill-color);\n",
              "    }\n",
              "    90% {\n",
              "      border-color: transparent;\n",
              "      border-bottom-color: var(--fill-color);\n",
              "    }\n",
              "  }\n",
              "</style>\n",
              "\n",
              "  <script>\n",
              "    async function quickchart(key) {\n",
              "      const quickchartButtonEl =\n",
              "        document.querySelector('#' + key + ' button');\n",
              "      quickchartButtonEl.disabled = true;  // To prevent multiple clicks.\n",
              "      quickchartButtonEl.classList.add('colab-df-spinner');\n",
              "      try {\n",
              "        const charts = await google.colab.kernel.invokeFunction(\n",
              "            'suggestCharts', [key], {});\n",
              "      } catch (error) {\n",
              "        console.error('Error during call to suggestCharts:', error);\n",
              "      }\n",
              "      quickchartButtonEl.classList.remove('colab-df-spinner');\n",
              "      quickchartButtonEl.classList.add('colab-df-quickchart-complete');\n",
              "    }\n",
              "    (() => {\n",
              "      let quickchartButtonEl =\n",
              "        document.querySelector('#df-6fb17f0a-a56c-47c7-a877-52dca1f2cf1e button');\n",
              "      quickchartButtonEl.style.display =\n",
              "        google.colab.kernel.accessAllowed ? 'block' : 'none';\n",
              "    })();\n",
              "  </script>\n",
              "</div>\n",
              "\n",
              "    </div>\n",
              "  </div>\n"
            ],
            "application/vnd.google.colaboratory.intrinsic+json": {
              "type": "dataframe",
              "variable_name": "reviews",
              "summary": "{\n  \"name\": \"reviews\",\n  \"rows\": 4513,\n  \"fields\": [\n    {\n      \"column\": \"Rating\",\n      \"properties\": {\n        \"dtype\": \"number\",\n        \"std\": 1,\n        \"min\": 1,\n        \"max\": 5,\n        \"num_unique_values\": 5,\n        \"samples\": [\n          2,\n          3,\n          1\n        ],\n        \"semantic_type\": \"\",\n        \"description\": \"\"\n      }\n    },\n    {\n      \"column\": \"Review\",\n      \"properties\": {\n        \"dtype\": \"string\",\n        \"num_unique_values\": 3813,\n        \"samples\": [\n          \"Is very good use this app really relax the mind this is use increase my knowlege day by day\",\n          \"Dear TikTok Team my New account not viral my video please resolve my account issue @ashfaque_shah and viral my every video.\",\n          \"Ratings & Review on the Play Store On this page you can find information about ratings and reviews on Google Play, as well Google\\u2019s policies for posting reviews. You can write reviews for anything you've purchased or rented from Google Play. Reviews are a great way to help others decide what to get by telling them about your experience. Google doesn't pay anyone to rate or review content on Play, and we expect reviewers to be honest and unbiased. How ratings are calculated Play Store ratings\"\n        ],\n        \"semantic_type\": \"\",\n        \"description\": \"\"\n      }\n    },\n    {\n      \"column\": \"Timestamp\",\n      \"properties\": {\n        \"dtype\": \"object\",\n        \"num_unique_values\": 4475,\n        \"samples\": [\n          \"2024-11-14 08:32:54\",\n          \"2024-11-14 05:09:33\",\n          \"2024-11-14 16:54:35\"\n        ],\n        \"semantic_type\": \"\",\n        \"description\": \"\"\n      }\n    },\n    {\n      \"column\": \"split_words\",\n      \"properties\": {\n        \"dtype\": \"object\",\n        \"semantic_type\": \"\",\n        \"description\": \"\"\n      }\n    },\n    {\n      \"column\": \"word_count\",\n      \"properties\": {\n        \"dtype\": \"number\",\n        \"std\": 16,\n        \"min\": 1,\n        \"max\": 124,\n        \"num_unique_values\": 104,\n        \"samples\": [\n          20,\n          86,\n          44\n        ],\n        \"semantic_type\": \"\",\n        \"description\": \"\"\n      }\n    },\n    {\n      \"column\": \"cleaned_review\",\n      \"properties\": {\n        \"dtype\": \"string\",\n        \"num_unique_values\": 3581,\n        \"samples\": [\n          \"please video viral karo\",\n          \"glitch ahd bad cant use search tiktok shop\",\n          \"grandma never let play take much fun youtube\"\n        ],\n        \"semantic_type\": \"\",\n        \"description\": \"\"\n      }\n    },\n    {\n      \"column\": \"detected_language\",\n      \"properties\": {\n        \"dtype\": \"category\",\n        \"num_unique_values\": 9,\n        \"samples\": [\n          \"ceb\",\n          \"de\",\n          \"it\"\n        ],\n        \"semantic_type\": \"\",\n        \"description\": \"\"\n      }\n    },\n    {\n      \"column\": \"translated_review\",\n      \"properties\": {\n        \"dtype\": \"string\",\n        \"num_unique_values\": 3566,\n        \"samples\": [\n          \"pleas tiktok team karak king ka id anband kar plaes plaes\",\n          \"update account \\ud83d\\ude2d\",\n          \"open\"\n        ],\n        \"semantic_type\": \"\",\n        \"description\": \"\"\n      }\n    }\n  ]\n}"
            }
          },
          "metadata": {},
          "execution_count": 52
        }
      ],
      "source": [
        "reviews.head(10)"
      ]
    },
    {
      "cell_type": "code",
      "source": [
        "reviews['translated_review'] = reviews['translated_review'].dropna().str.lower()\n"
      ],
      "metadata": {
        "id": "SmI8e57lciZ9"
      },
      "execution_count": 53,
      "outputs": []
    },
    {
      "cell_type": "code",
      "source": [
        "reviews.head(7)"
      ],
      "metadata": {
        "colab": {
          "base_uri": "https://localhost:8080/",
          "height": 425
        },
        "id": "jiTOnFkCcneO",
        "outputId": "561d6da3-55ad-44b4-dea5-0afa0daa2f49"
      },
      "execution_count": 54,
      "outputs": [
        {
          "output_type": "execute_result",
          "data": {
            "text/plain": [
              "   Rating                                             Review  \\\n",
              "0       5                                            Love it   \n",
              "1       5                                           Md Sagor   \n",
              "2       2  Dear, TikTok team my big problem my account is...   \n",
              "3       1                                    عامين باش يتعمر   \n",
              "4       2  My activity and notifications tabs won't load,...   \n",
              "5       4                                               Nice   \n",
              "7       5                       My account for you please 🙏🥺   \n",
              "\n",
              "             Timestamp                                        split_words  \\\n",
              "0  2024-11-16 13:09:37                                         [Love, it]   \n",
              "1  2024-11-16 13:08:05                                        [Md, Sagor]   \n",
              "2  2024-11-16 13:07:19  [Dear,, TikTok, team, my, big, problem, my, ac...   \n",
              "3  2024-11-16 13:05:08                                [عامين, باش, يتعمر]   \n",
              "4  2024-11-16 13:04:47  [My, activity, and, notifications, tabs, won't...   \n",
              "5  2024-11-16 13:03:51                                             [Nice]   \n",
              "7  2024-11-16 12:58:01                [My, account, for, you, please, 🙏🥺]   \n",
              "\n",
              "   word_count                                     cleaned_review  \\\n",
              "0           2                                               love   \n",
              "1           2                                           md sagor   \n",
              "2          30  dear tiktok team big problem account freez plz...   \n",
              "3           3                                    عامين باش يتعمر   \n",
              "4          13  activity notifications tabs wont load endless ...   \n",
              "5           1                                               nice   \n",
              "7           6                                  account please 🙏🥺   \n",
              "\n",
              "  detected_language                                  translated_review  \n",
              "0                es                                               love  \n",
              "1                de                                           md sagor  \n",
              "2                en  dear tiktok team big problem account freez plz...  \n",
              "3                ar                         two years, bash, builds up  \n",
              "4                en  activity notifications tabs wont load endless ...  \n",
              "5                en                                               nice  \n",
              "7                en                                  account please 🙏🥺  "
            ],
            "text/html": [
              "\n",
              "  <div id=\"df-8f4dbf6e-c9ef-492c-b37a-af3718d4d6c3\" class=\"colab-df-container\">\n",
              "    <div>\n",
              "<style scoped>\n",
              "    .dataframe tbody tr th:only-of-type {\n",
              "        vertical-align: middle;\n",
              "    }\n",
              "\n",
              "    .dataframe tbody tr th {\n",
              "        vertical-align: top;\n",
              "    }\n",
              "\n",
              "    .dataframe thead th {\n",
              "        text-align: right;\n",
              "    }\n",
              "</style>\n",
              "<table border=\"1\" class=\"dataframe\">\n",
              "  <thead>\n",
              "    <tr style=\"text-align: right;\">\n",
              "      <th></th>\n",
              "      <th>Rating</th>\n",
              "      <th>Review</th>\n",
              "      <th>Timestamp</th>\n",
              "      <th>split_words</th>\n",
              "      <th>word_count</th>\n",
              "      <th>cleaned_review</th>\n",
              "      <th>detected_language</th>\n",
              "      <th>translated_review</th>\n",
              "    </tr>\n",
              "  </thead>\n",
              "  <tbody>\n",
              "    <tr>\n",
              "      <th>0</th>\n",
              "      <td>5</td>\n",
              "      <td>Love it</td>\n",
              "      <td>2024-11-16 13:09:37</td>\n",
              "      <td>[Love, it]</td>\n",
              "      <td>2</td>\n",
              "      <td>love</td>\n",
              "      <td>es</td>\n",
              "      <td>love</td>\n",
              "    </tr>\n",
              "    <tr>\n",
              "      <th>1</th>\n",
              "      <td>5</td>\n",
              "      <td>Md Sagor</td>\n",
              "      <td>2024-11-16 13:08:05</td>\n",
              "      <td>[Md, Sagor]</td>\n",
              "      <td>2</td>\n",
              "      <td>md sagor</td>\n",
              "      <td>de</td>\n",
              "      <td>md sagor</td>\n",
              "    </tr>\n",
              "    <tr>\n",
              "      <th>2</th>\n",
              "      <td>2</td>\n",
              "      <td>Dear, TikTok team my big problem my account is...</td>\n",
              "      <td>2024-11-16 13:07:19</td>\n",
              "      <td>[Dear,, TikTok, team, my, big, problem, my, ac...</td>\n",
              "      <td>30</td>\n",
              "      <td>dear tiktok team big problem account freez plz...</td>\n",
              "      <td>en</td>\n",
              "      <td>dear tiktok team big problem account freez plz...</td>\n",
              "    </tr>\n",
              "    <tr>\n",
              "      <th>3</th>\n",
              "      <td>1</td>\n",
              "      <td>عامين باش يتعمر</td>\n",
              "      <td>2024-11-16 13:05:08</td>\n",
              "      <td>[عامين, باش, يتعمر]</td>\n",
              "      <td>3</td>\n",
              "      <td>عامين باش يتعمر</td>\n",
              "      <td>ar</td>\n",
              "      <td>two years, bash, builds up</td>\n",
              "    </tr>\n",
              "    <tr>\n",
              "      <th>4</th>\n",
              "      <td>2</td>\n",
              "      <td>My activity and notifications tabs won't load,...</td>\n",
              "      <td>2024-11-16 13:04:47</td>\n",
              "      <td>[My, activity, and, notifications, tabs, won't...</td>\n",
              "      <td>13</td>\n",
              "      <td>activity notifications tabs wont load endless ...</td>\n",
              "      <td>en</td>\n",
              "      <td>activity notifications tabs wont load endless ...</td>\n",
              "    </tr>\n",
              "    <tr>\n",
              "      <th>5</th>\n",
              "      <td>4</td>\n",
              "      <td>Nice</td>\n",
              "      <td>2024-11-16 13:03:51</td>\n",
              "      <td>[Nice]</td>\n",
              "      <td>1</td>\n",
              "      <td>nice</td>\n",
              "      <td>en</td>\n",
              "      <td>nice</td>\n",
              "    </tr>\n",
              "    <tr>\n",
              "      <th>7</th>\n",
              "      <td>5</td>\n",
              "      <td>My account for you please 🙏🥺</td>\n",
              "      <td>2024-11-16 12:58:01</td>\n",
              "      <td>[My, account, for, you, please, 🙏🥺]</td>\n",
              "      <td>6</td>\n",
              "      <td>account please 🙏🥺</td>\n",
              "      <td>en</td>\n",
              "      <td>account please 🙏🥺</td>\n",
              "    </tr>\n",
              "  </tbody>\n",
              "</table>\n",
              "</div>\n",
              "    <div class=\"colab-df-buttons\">\n",
              "\n",
              "  <div class=\"colab-df-container\">\n",
              "    <button class=\"colab-df-convert\" onclick=\"convertToInteractive('df-8f4dbf6e-c9ef-492c-b37a-af3718d4d6c3')\"\n",
              "            title=\"Convert this dataframe to an interactive table.\"\n",
              "            style=\"display:none;\">\n",
              "\n",
              "  <svg xmlns=\"http://www.w3.org/2000/svg\" height=\"24px\" viewBox=\"0 -960 960 960\">\n",
              "    <path d=\"M120-120v-720h720v720H120Zm60-500h600v-160H180v160Zm220 220h160v-160H400v160Zm0 220h160v-160H400v160ZM180-400h160v-160H180v160Zm440 0h160v-160H620v160ZM180-180h160v-160H180v160Zm440 0h160v-160H620v160Z\"/>\n",
              "  </svg>\n",
              "    </button>\n",
              "\n",
              "  <style>\n",
              "    .colab-df-container {\n",
              "      display:flex;\n",
              "      gap: 12px;\n",
              "    }\n",
              "\n",
              "    .colab-df-convert {\n",
              "      background-color: #E8F0FE;\n",
              "      border: none;\n",
              "      border-radius: 50%;\n",
              "      cursor: pointer;\n",
              "      display: none;\n",
              "      fill: #1967D2;\n",
              "      height: 32px;\n",
              "      padding: 0 0 0 0;\n",
              "      width: 32px;\n",
              "    }\n",
              "\n",
              "    .colab-df-convert:hover {\n",
              "      background-color: #E2EBFA;\n",
              "      box-shadow: 0px 1px 2px rgba(60, 64, 67, 0.3), 0px 1px 3px 1px rgba(60, 64, 67, 0.15);\n",
              "      fill: #174EA6;\n",
              "    }\n",
              "\n",
              "    .colab-df-buttons div {\n",
              "      margin-bottom: 4px;\n",
              "    }\n",
              "\n",
              "    [theme=dark] .colab-df-convert {\n",
              "      background-color: #3B4455;\n",
              "      fill: #D2E3FC;\n",
              "    }\n",
              "\n",
              "    [theme=dark] .colab-df-convert:hover {\n",
              "      background-color: #434B5C;\n",
              "      box-shadow: 0px 1px 3px 1px rgba(0, 0, 0, 0.15);\n",
              "      filter: drop-shadow(0px 1px 2px rgba(0, 0, 0, 0.3));\n",
              "      fill: #FFFFFF;\n",
              "    }\n",
              "  </style>\n",
              "\n",
              "    <script>\n",
              "      const buttonEl =\n",
              "        document.querySelector('#df-8f4dbf6e-c9ef-492c-b37a-af3718d4d6c3 button.colab-df-convert');\n",
              "      buttonEl.style.display =\n",
              "        google.colab.kernel.accessAllowed ? 'block' : 'none';\n",
              "\n",
              "      async function convertToInteractive(key) {\n",
              "        const element = document.querySelector('#df-8f4dbf6e-c9ef-492c-b37a-af3718d4d6c3');\n",
              "        const dataTable =\n",
              "          await google.colab.kernel.invokeFunction('convertToInteractive',\n",
              "                                                    [key], {});\n",
              "        if (!dataTable) return;\n",
              "\n",
              "        const docLinkHtml = 'Like what you see? Visit the ' +\n",
              "          '<a target=\"_blank\" href=https://colab.research.google.com/notebooks/data_table.ipynb>data table notebook</a>'\n",
              "          + ' to learn more about interactive tables.';\n",
              "        element.innerHTML = '';\n",
              "        dataTable['output_type'] = 'display_data';\n",
              "        await google.colab.output.renderOutput(dataTable, element);\n",
              "        const docLink = document.createElement('div');\n",
              "        docLink.innerHTML = docLinkHtml;\n",
              "        element.appendChild(docLink);\n",
              "      }\n",
              "    </script>\n",
              "  </div>\n",
              "\n",
              "\n",
              "<div id=\"df-660ef5b6-88fb-4941-9777-94e17990c59e\">\n",
              "  <button class=\"colab-df-quickchart\" onclick=\"quickchart('df-660ef5b6-88fb-4941-9777-94e17990c59e')\"\n",
              "            title=\"Suggest charts\"\n",
              "            style=\"display:none;\">\n",
              "\n",
              "<svg xmlns=\"http://www.w3.org/2000/svg\" height=\"24px\"viewBox=\"0 0 24 24\"\n",
              "     width=\"24px\">\n",
              "    <g>\n",
              "        <path d=\"M19 3H5c-1.1 0-2 .9-2 2v14c0 1.1.9 2 2 2h14c1.1 0 2-.9 2-2V5c0-1.1-.9-2-2-2zM9 17H7v-7h2v7zm4 0h-2V7h2v10zm4 0h-2v-4h2v4z\"/>\n",
              "    </g>\n",
              "</svg>\n",
              "  </button>\n",
              "\n",
              "<style>\n",
              "  .colab-df-quickchart {\n",
              "      --bg-color: #E8F0FE;\n",
              "      --fill-color: #1967D2;\n",
              "      --hover-bg-color: #E2EBFA;\n",
              "      --hover-fill-color: #174EA6;\n",
              "      --disabled-fill-color: #AAA;\n",
              "      --disabled-bg-color: #DDD;\n",
              "  }\n",
              "\n",
              "  [theme=dark] .colab-df-quickchart {\n",
              "      --bg-color: #3B4455;\n",
              "      --fill-color: #D2E3FC;\n",
              "      --hover-bg-color: #434B5C;\n",
              "      --hover-fill-color: #FFFFFF;\n",
              "      --disabled-bg-color: #3B4455;\n",
              "      --disabled-fill-color: #666;\n",
              "  }\n",
              "\n",
              "  .colab-df-quickchart {\n",
              "    background-color: var(--bg-color);\n",
              "    border: none;\n",
              "    border-radius: 50%;\n",
              "    cursor: pointer;\n",
              "    display: none;\n",
              "    fill: var(--fill-color);\n",
              "    height: 32px;\n",
              "    padding: 0;\n",
              "    width: 32px;\n",
              "  }\n",
              "\n",
              "  .colab-df-quickchart:hover {\n",
              "    background-color: var(--hover-bg-color);\n",
              "    box-shadow: 0 1px 2px rgba(60, 64, 67, 0.3), 0 1px 3px 1px rgba(60, 64, 67, 0.15);\n",
              "    fill: var(--button-hover-fill-color);\n",
              "  }\n",
              "\n",
              "  .colab-df-quickchart-complete:disabled,\n",
              "  .colab-df-quickchart-complete:disabled:hover {\n",
              "    background-color: var(--disabled-bg-color);\n",
              "    fill: var(--disabled-fill-color);\n",
              "    box-shadow: none;\n",
              "  }\n",
              "\n",
              "  .colab-df-spinner {\n",
              "    border: 2px solid var(--fill-color);\n",
              "    border-color: transparent;\n",
              "    border-bottom-color: var(--fill-color);\n",
              "    animation:\n",
              "      spin 1s steps(1) infinite;\n",
              "  }\n",
              "\n",
              "  @keyframes spin {\n",
              "    0% {\n",
              "      border-color: transparent;\n",
              "      border-bottom-color: var(--fill-color);\n",
              "      border-left-color: var(--fill-color);\n",
              "    }\n",
              "    20% {\n",
              "      border-color: transparent;\n",
              "      border-left-color: var(--fill-color);\n",
              "      border-top-color: var(--fill-color);\n",
              "    }\n",
              "    30% {\n",
              "      border-color: transparent;\n",
              "      border-left-color: var(--fill-color);\n",
              "      border-top-color: var(--fill-color);\n",
              "      border-right-color: var(--fill-color);\n",
              "    }\n",
              "    40% {\n",
              "      border-color: transparent;\n",
              "      border-right-color: var(--fill-color);\n",
              "      border-top-color: var(--fill-color);\n",
              "    }\n",
              "    60% {\n",
              "      border-color: transparent;\n",
              "      border-right-color: var(--fill-color);\n",
              "    }\n",
              "    80% {\n",
              "      border-color: transparent;\n",
              "      border-right-color: var(--fill-color);\n",
              "      border-bottom-color: var(--fill-color);\n",
              "    }\n",
              "    90% {\n",
              "      border-color: transparent;\n",
              "      border-bottom-color: var(--fill-color);\n",
              "    }\n",
              "  }\n",
              "</style>\n",
              "\n",
              "  <script>\n",
              "    async function quickchart(key) {\n",
              "      const quickchartButtonEl =\n",
              "        document.querySelector('#' + key + ' button');\n",
              "      quickchartButtonEl.disabled = true;  // To prevent multiple clicks.\n",
              "      quickchartButtonEl.classList.add('colab-df-spinner');\n",
              "      try {\n",
              "        const charts = await google.colab.kernel.invokeFunction(\n",
              "            'suggestCharts', [key], {});\n",
              "      } catch (error) {\n",
              "        console.error('Error during call to suggestCharts:', error);\n",
              "      }\n",
              "      quickchartButtonEl.classList.remove('colab-df-spinner');\n",
              "      quickchartButtonEl.classList.add('colab-df-quickchart-complete');\n",
              "    }\n",
              "    (() => {\n",
              "      let quickchartButtonEl =\n",
              "        document.querySelector('#df-660ef5b6-88fb-4941-9777-94e17990c59e button');\n",
              "      quickchartButtonEl.style.display =\n",
              "        google.colab.kernel.accessAllowed ? 'block' : 'none';\n",
              "    })();\n",
              "  </script>\n",
              "</div>\n",
              "\n",
              "    </div>\n",
              "  </div>\n"
            ],
            "application/vnd.google.colaboratory.intrinsic+json": {
              "type": "dataframe",
              "variable_name": "reviews",
              "summary": "{\n  \"name\": \"reviews\",\n  \"rows\": 4513,\n  \"fields\": [\n    {\n      \"column\": \"Rating\",\n      \"properties\": {\n        \"dtype\": \"number\",\n        \"std\": 1,\n        \"min\": 1,\n        \"max\": 5,\n        \"num_unique_values\": 5,\n        \"samples\": [\n          2,\n          3,\n          1\n        ],\n        \"semantic_type\": \"\",\n        \"description\": \"\"\n      }\n    },\n    {\n      \"column\": \"Review\",\n      \"properties\": {\n        \"dtype\": \"string\",\n        \"num_unique_values\": 3813,\n        \"samples\": [\n          \"Is very good use this app really relax the mind this is use increase my knowlege day by day\",\n          \"Dear TikTok Team my New account not viral my video please resolve my account issue @ashfaque_shah and viral my every video.\",\n          \"Ratings & Review on the Play Store On this page you can find information about ratings and reviews on Google Play, as well Google\\u2019s policies for posting reviews. You can write reviews for anything you've purchased or rented from Google Play. Reviews are a great way to help others decide what to get by telling them about your experience. Google doesn't pay anyone to rate or review content on Play, and we expect reviewers to be honest and unbiased. How ratings are calculated Play Store ratings\"\n        ],\n        \"semantic_type\": \"\",\n        \"description\": \"\"\n      }\n    },\n    {\n      \"column\": \"Timestamp\",\n      \"properties\": {\n        \"dtype\": \"object\",\n        \"num_unique_values\": 4475,\n        \"samples\": [\n          \"2024-11-14 08:32:54\",\n          \"2024-11-14 05:09:33\",\n          \"2024-11-14 16:54:35\"\n        ],\n        \"semantic_type\": \"\",\n        \"description\": \"\"\n      }\n    },\n    {\n      \"column\": \"split_words\",\n      \"properties\": {\n        \"dtype\": \"object\",\n        \"semantic_type\": \"\",\n        \"description\": \"\"\n      }\n    },\n    {\n      \"column\": \"word_count\",\n      \"properties\": {\n        \"dtype\": \"number\",\n        \"std\": 16,\n        \"min\": 1,\n        \"max\": 124,\n        \"num_unique_values\": 104,\n        \"samples\": [\n          20,\n          86,\n          44\n        ],\n        \"semantic_type\": \"\",\n        \"description\": \"\"\n      }\n    },\n    {\n      \"column\": \"cleaned_review\",\n      \"properties\": {\n        \"dtype\": \"string\",\n        \"num_unique_values\": 3581,\n        \"samples\": [\n          \"please video viral karo\",\n          \"glitch ahd bad cant use search tiktok shop\",\n          \"grandma never let play take much fun youtube\"\n        ],\n        \"semantic_type\": \"\",\n        \"description\": \"\"\n      }\n    },\n    {\n      \"column\": \"detected_language\",\n      \"properties\": {\n        \"dtype\": \"category\",\n        \"num_unique_values\": 9,\n        \"samples\": [\n          \"ceb\",\n          \"de\",\n          \"it\"\n        ],\n        \"semantic_type\": \"\",\n        \"description\": \"\"\n      }\n    },\n    {\n      \"column\": \"translated_review\",\n      \"properties\": {\n        \"dtype\": \"string\",\n        \"num_unique_values\": 3566,\n        \"samples\": [\n          \"pleas tiktok team karak king ka id anband kar plaes plaes\",\n          \"update account \\ud83d\\ude2d\",\n          \"open\"\n        ],\n        \"semantic_type\": \"\",\n        \"description\": \"\"\n      }\n    }\n  ]\n}"
            }
          },
          "metadata": {},
          "execution_count": 54
        }
      ]
    },
    {
      "cell_type": "code",
      "execution_count": 55,
      "metadata": {
        "colab": {
          "base_uri": "https://localhost:8080/"
        },
        "id": "Z-63PidH2yVY",
        "outputId": "9112a895-4cb1-4256-f410-b182f058fd0c"
      },
      "outputs": [
        {
          "output_type": "execute_result",
          "data": {
            "text/plain": [
              "(4513, 8)"
            ]
          },
          "metadata": {},
          "execution_count": 55
        }
      ],
      "source": [
        "reviews.shape"
      ]
    },
    {
      "cell_type": "markdown",
      "source": [
        "**Replace all typos with the correct word**"
      ],
      "metadata": {
        "id": "6_cETZRndB3O"
      }
    },
    {
      "cell_type": "code",
      "source": [
        "from textblob import TextBlob\n",
        "\n",
        "# List of protected words that should not be corrected\n",
        "protected_words = {'tiktok', 'app', 'google', 'whatsapp'}\n",
        "\n",
        "# Function to correct typos while skipping protected words\n",
        "def correct_typos(text):\n",
        "    corrected_words = []\n",
        "    for word in text.split():  # Split the text into words\n",
        "        if word.lower() in protected_words:  # Check if the word is in the protected list\n",
        "            corrected_words.append(word)  # Keep the original word\n",
        "        else:\n",
        "            corrected_words.append(str(TextBlob(word).correct()))  # Correct the word if not protected\n",
        "    return ' '.join(corrected_words)  # Join the corrected words back into a sentence\n",
        "\n",
        "# Apply typo correction to the 'translated_review' column\n",
        "text_column = 'translated_review'\n",
        "if text_column in reviews.columns:\n",
        "    reviews[text_column] = reviews[text_column].dropna().apply(correct_typos)\n",
        "    print(\"\\nSample of corrected reviews:\\n\", reviews[[text_column]].head())\n",
        "\n"
      ],
      "metadata": {
        "colab": {
          "base_uri": "https://localhost:8080/"
        },
        "id": "13WDugp8MNUu",
        "outputId": "182d358b-1959-4dad-cf7d-9fac00f32944"
      },
      "execution_count": 57,
      "outputs": [
        {
          "output_type": "stream",
          "name": "stdout",
          "text": [
            "\n",
            "Sample of corrected reviews:\n",
            "                                    translated_review\n",
            "0                                               love\n",
            "1                                           md savor\n",
            "2  dear tiktok team big problem account free ply ...\n",
            "3                          two years, base, build up\n",
            "4  activity modifications tabes wont load endless...\n"
          ]
        }
      ]
    },
    {
      "cell_type": "markdown",
      "source": [
        "**Apply a lemmatization technique**"
      ],
      "metadata": {
        "id": "UwUrfXVJksgV"
      }
    },
    {
      "cell_type": "code",
      "source": [
        "from nltk.stem import WordNetLemmatizer\n",
        "from nltk.corpus import wordnet\n",
        "import nltk\n",
        "from nltk.tag import pos_tag\n",
        "# Download necessary NLTK resources\n",
        "nltk.download('wordnet')\n",
        "nltk.download('averaged_perceptron_tagger')  # For POS tagging\n",
        "nltk.download('omw-1.4')\n",
        "nltk.download('averaged_perceptron_tagger_eng') #This line needs to be added to download 'averaged_perceptron_tagger_eng' package\n",
        "\n",
        "# Initialize the WordNetLemmatizer\n",
        "lemmatizer = WordNetLemmatizer()\n",
        "\n",
        "# Function to map POS tags to WordNet POS\n",
        "def get_wordnet_pos(tag):\n",
        "    if tag.startswith('J'):\n",
        "        return wordnet.ADJ\n",
        "    elif tag.startswith('V'):\n",
        "        return wordnet.VERB\n",
        "    elif tag.startswith('N'):\n",
        "        return wordnet.NOUN\n",
        "    elif tag.startswith('R'):\n",
        "        return wordnet.ADV\n",
        "    else:\n",
        "        return wordnet.NOUN  # Default to noun\n",
        "\n",
        "# Function to perform lemmatization with POS tagging\n",
        "def lemmatize_with_pos(text):\n",
        "    words = text.split()  # Split text into words\n",
        "    pos_tags = pos_tag(words)  # Get POS tags for each word\n",
        "    lemmatized_words = [lemmatizer.lemmatize(word, get_wordnet_pos(tag)) for word, tag in pos_tags]\n",
        "    return ' '.join(lemmatized_words)  # Join lemmatized words back into a single string\n",
        "\n",
        "# Apply POS-aware lemmatization to the 'translated_review' column\n",
        "if 'translated_review' in reviews.columns:\n",
        "    reviews['lemmatized_review'] = reviews['translated_review'].dropna().apply(lemmatize_with_pos)\n",
        "    print(\"\\nSample of lemmatized reviews with POS tagging:\\n\", reviews[['translated_review', 'lemmatized_review']].head())\n"
      ],
      "metadata": {
        "colab": {
          "base_uri": "https://localhost:8080/"
        },
        "id": "uZogEvgQVwG3",
        "outputId": "480d0f6f-8165-4193-ed70-70d2316ec0fa"
      },
      "execution_count": 58,
      "outputs": [
        {
          "output_type": "stream",
          "name": "stderr",
          "text": [
            "[nltk_data] Downloading package wordnet to /root/nltk_data...\n",
            "[nltk_data] Downloading package averaged_perceptron_tagger to\n",
            "[nltk_data]     /root/nltk_data...\n",
            "[nltk_data]   Unzipping taggers/averaged_perceptron_tagger.zip.\n",
            "[nltk_data] Downloading package omw-1.4 to /root/nltk_data...\n",
            "[nltk_data] Downloading package averaged_perceptron_tagger_eng to\n",
            "[nltk_data]     /root/nltk_data...\n",
            "[nltk_data]   Unzipping taggers/averaged_perceptron_tagger_eng.zip.\n"
          ]
        },
        {
          "output_type": "stream",
          "name": "stdout",
          "text": [
            "\n",
            "Sample of lemmatized reviews with POS tagging:\n",
            "                                    translated_review  \\\n",
            "0                                               love   \n",
            "1                                           md savor   \n",
            "2  dear tiktok team big problem account free ply ...   \n",
            "3                          two years, base, build up   \n",
            "4  activity modifications tabes wont load endless...   \n",
            "\n",
            "                                   lemmatized_review  \n",
            "0                                               love  \n",
            "1                                           md savor  \n",
            "2  dear tiktok team big problem account free ply ...  \n",
            "3                          two years, base, build up  \n",
            "4  activity modification tabes wont load endless ...  \n"
          ]
        }
      ]
    },
    {
      "cell_type": "code",
      "source": [
        "reviews.head(10)"
      ],
      "metadata": {
        "colab": {
          "base_uri": "https://localhost:8080/",
          "height": 831
        },
        "id": "8r7aFZzckGOQ",
        "outputId": "5cacef3e-8d7a-49ac-bc8b-b2eae9addcf2"
      },
      "execution_count": 59,
      "outputs": [
        {
          "output_type": "execute_result",
          "data": {
            "text/plain": [
              "    Rating                                             Review  \\\n",
              "0        5                                            Love it   \n",
              "1        5                                           Md Sagor   \n",
              "2        2  Dear, TikTok team my big problem my account is...   \n",
              "3        1                                    عامين باش يتعمر   \n",
              "4        2  My activity and notifications tabs won't load,...   \n",
              "5        4                                               Nice   \n",
              "7        5                       My account for you please 🙏🥺   \n",
              "8        5  As a 1st timer, nakaka excite kahit maliit mas...   \n",
              "9        5                                          I like it   \n",
              "10       5                   Vlo lagce but foryou te jai na🥲🥺   \n",
              "\n",
              "              Timestamp                                        split_words  \\\n",
              "0   2024-11-16 13:09:37                                         [Love, it]   \n",
              "1   2024-11-16 13:08:05                                        [Md, Sagor]   \n",
              "2   2024-11-16 13:07:19  [Dear,, TikTok, team, my, big, problem, my, ac...   \n",
              "3   2024-11-16 13:05:08                                [عامين, باش, يتعمر]   \n",
              "4   2024-11-16 13:04:47  [My, activity, and, notifications, tabs, won't...   \n",
              "5   2024-11-16 13:03:51                                             [Nice]   \n",
              "7   2024-11-16 12:58:01                [My, account, for, you, please, 🙏🥺]   \n",
              "8   2024-11-16 12:57:33  [As, a, 1st, timer,, nakaka, excite, kahit, ma...   \n",
              "9   2024-11-16 12:57:14                                      [I, like, it]   \n",
              "10  2024-11-16 12:56:58           [Vlo, lagce, but, foryou, te, jai, na🥲🥺]   \n",
              "\n",
              "    word_count                                     cleaned_review  \\\n",
              "0            2                                               love   \n",
              "1            2                                           md sagor   \n",
              "2           30  dear tiktok team big problem account freez plz...   \n",
              "3            3                                    عامين باش يتعمر   \n",
              "4           13  activity notifications tabs wont load endless ...   \n",
              "5            1                                               nice   \n",
              "7            6                                  account please 🙏🥺   \n",
              "8           15  1st timer nakaka excite kahit maliit masabi mo...   \n",
              "9            3                                               like   \n",
              "10           7                       vlo lagce foryou te jai na🥲🥺   \n",
              "\n",
              "   detected_language                                  translated_review  \\\n",
              "0                 es                                               love   \n",
              "1                 de                                           md savor   \n",
              "2                 en  dear tiktok team big problem account free ply ...   \n",
              "3                 ar                          two years, base, build up   \n",
              "4                 en  activity modifications tabes wont load endless...   \n",
              "5                 en                                               nice   \n",
              "7                 en                                  account please 🙏🥺   \n",
              "8                 en  st time makarka excite wait mallet masabi long...   \n",
              "9                 en                                               like   \n",
              "10                es                        vol lace forgot te jaw na🥲🥺   \n",
              "\n",
              "                                    lemmatized_review  \n",
              "0                                                love  \n",
              "1                                            md savor  \n",
              "2   dear tiktok team big problem account free ply ...  \n",
              "3                           two years, base, build up  \n",
              "4   activity modification tabes wont load endless ...  \n",
              "5                                                nice  \n",
              "7                                   account please 🙏🥺  \n",
              "8   st time makarka excite wait mallet masabi long...  \n",
              "9                                                like  \n",
              "10                        vol lace forget te jaw na🥲🥺  "
            ],
            "text/html": [
              "\n",
              "  <div id=\"df-e06d9c50-d5f2-4282-a3da-3a4c831c067f\" class=\"colab-df-container\">\n",
              "    <div>\n",
              "<style scoped>\n",
              "    .dataframe tbody tr th:only-of-type {\n",
              "        vertical-align: middle;\n",
              "    }\n",
              "\n",
              "    .dataframe tbody tr th {\n",
              "        vertical-align: top;\n",
              "    }\n",
              "\n",
              "    .dataframe thead th {\n",
              "        text-align: right;\n",
              "    }\n",
              "</style>\n",
              "<table border=\"1\" class=\"dataframe\">\n",
              "  <thead>\n",
              "    <tr style=\"text-align: right;\">\n",
              "      <th></th>\n",
              "      <th>Rating</th>\n",
              "      <th>Review</th>\n",
              "      <th>Timestamp</th>\n",
              "      <th>split_words</th>\n",
              "      <th>word_count</th>\n",
              "      <th>cleaned_review</th>\n",
              "      <th>detected_language</th>\n",
              "      <th>translated_review</th>\n",
              "      <th>lemmatized_review</th>\n",
              "    </tr>\n",
              "  </thead>\n",
              "  <tbody>\n",
              "    <tr>\n",
              "      <th>0</th>\n",
              "      <td>5</td>\n",
              "      <td>Love it</td>\n",
              "      <td>2024-11-16 13:09:37</td>\n",
              "      <td>[Love, it]</td>\n",
              "      <td>2</td>\n",
              "      <td>love</td>\n",
              "      <td>es</td>\n",
              "      <td>love</td>\n",
              "      <td>love</td>\n",
              "    </tr>\n",
              "    <tr>\n",
              "      <th>1</th>\n",
              "      <td>5</td>\n",
              "      <td>Md Sagor</td>\n",
              "      <td>2024-11-16 13:08:05</td>\n",
              "      <td>[Md, Sagor]</td>\n",
              "      <td>2</td>\n",
              "      <td>md sagor</td>\n",
              "      <td>de</td>\n",
              "      <td>md savor</td>\n",
              "      <td>md savor</td>\n",
              "    </tr>\n",
              "    <tr>\n",
              "      <th>2</th>\n",
              "      <td>2</td>\n",
              "      <td>Dear, TikTok team my big problem my account is...</td>\n",
              "      <td>2024-11-16 13:07:19</td>\n",
              "      <td>[Dear,, TikTok, team, my, big, problem, my, ac...</td>\n",
              "      <td>30</td>\n",
              "      <td>dear tiktok team big problem account freez plz...</td>\n",
              "      <td>en</td>\n",
              "      <td>dear tiktok team big problem account free ply ...</td>\n",
              "      <td>dear tiktok team big problem account free ply ...</td>\n",
              "    </tr>\n",
              "    <tr>\n",
              "      <th>3</th>\n",
              "      <td>1</td>\n",
              "      <td>عامين باش يتعمر</td>\n",
              "      <td>2024-11-16 13:05:08</td>\n",
              "      <td>[عامين, باش, يتعمر]</td>\n",
              "      <td>3</td>\n",
              "      <td>عامين باش يتعمر</td>\n",
              "      <td>ar</td>\n",
              "      <td>two years, base, build up</td>\n",
              "      <td>two years, base, build up</td>\n",
              "    </tr>\n",
              "    <tr>\n",
              "      <th>4</th>\n",
              "      <td>2</td>\n",
              "      <td>My activity and notifications tabs won't load,...</td>\n",
              "      <td>2024-11-16 13:04:47</td>\n",
              "      <td>[My, activity, and, notifications, tabs, won't...</td>\n",
              "      <td>13</td>\n",
              "      <td>activity notifications tabs wont load endless ...</td>\n",
              "      <td>en</td>\n",
              "      <td>activity modifications tabes wont load endless...</td>\n",
              "      <td>activity modification tabes wont load endless ...</td>\n",
              "    </tr>\n",
              "    <tr>\n",
              "      <th>5</th>\n",
              "      <td>4</td>\n",
              "      <td>Nice</td>\n",
              "      <td>2024-11-16 13:03:51</td>\n",
              "      <td>[Nice]</td>\n",
              "      <td>1</td>\n",
              "      <td>nice</td>\n",
              "      <td>en</td>\n",
              "      <td>nice</td>\n",
              "      <td>nice</td>\n",
              "    </tr>\n",
              "    <tr>\n",
              "      <th>7</th>\n",
              "      <td>5</td>\n",
              "      <td>My account for you please 🙏🥺</td>\n",
              "      <td>2024-11-16 12:58:01</td>\n",
              "      <td>[My, account, for, you, please, 🙏🥺]</td>\n",
              "      <td>6</td>\n",
              "      <td>account please 🙏🥺</td>\n",
              "      <td>en</td>\n",
              "      <td>account please 🙏🥺</td>\n",
              "      <td>account please 🙏🥺</td>\n",
              "    </tr>\n",
              "    <tr>\n",
              "      <th>8</th>\n",
              "      <td>5</td>\n",
              "      <td>As a 1st timer, nakaka excite kahit maliit mas...</td>\n",
              "      <td>2024-11-16 12:57:33</td>\n",
              "      <td>[As, a, 1st, timer,, nakaka, excite, kahit, ma...</td>\n",
              "      <td>15</td>\n",
              "      <td>1st timer nakaka excite kahit maliit masabi mo...</td>\n",
              "      <td>en</td>\n",
              "      <td>st time makarka excite wait mallet masabi long...</td>\n",
              "      <td>st time makarka excite wait mallet masabi long...</td>\n",
              "    </tr>\n",
              "    <tr>\n",
              "      <th>9</th>\n",
              "      <td>5</td>\n",
              "      <td>I like it</td>\n",
              "      <td>2024-11-16 12:57:14</td>\n",
              "      <td>[I, like, it]</td>\n",
              "      <td>3</td>\n",
              "      <td>like</td>\n",
              "      <td>en</td>\n",
              "      <td>like</td>\n",
              "      <td>like</td>\n",
              "    </tr>\n",
              "    <tr>\n",
              "      <th>10</th>\n",
              "      <td>5</td>\n",
              "      <td>Vlo lagce but foryou te jai na🥲🥺</td>\n",
              "      <td>2024-11-16 12:56:58</td>\n",
              "      <td>[Vlo, lagce, but, foryou, te, jai, na🥲🥺]</td>\n",
              "      <td>7</td>\n",
              "      <td>vlo lagce foryou te jai na🥲🥺</td>\n",
              "      <td>es</td>\n",
              "      <td>vol lace forgot te jaw na🥲🥺</td>\n",
              "      <td>vol lace forget te jaw na🥲🥺</td>\n",
              "    </tr>\n",
              "  </tbody>\n",
              "</table>\n",
              "</div>\n",
              "    <div class=\"colab-df-buttons\">\n",
              "\n",
              "  <div class=\"colab-df-container\">\n",
              "    <button class=\"colab-df-convert\" onclick=\"convertToInteractive('df-e06d9c50-d5f2-4282-a3da-3a4c831c067f')\"\n",
              "            title=\"Convert this dataframe to an interactive table.\"\n",
              "            style=\"display:none;\">\n",
              "\n",
              "  <svg xmlns=\"http://www.w3.org/2000/svg\" height=\"24px\" viewBox=\"0 -960 960 960\">\n",
              "    <path d=\"M120-120v-720h720v720H120Zm60-500h600v-160H180v160Zm220 220h160v-160H400v160Zm0 220h160v-160H400v160ZM180-400h160v-160H180v160Zm440 0h160v-160H620v160ZM180-180h160v-160H180v160Zm440 0h160v-160H620v160Z\"/>\n",
              "  </svg>\n",
              "    </button>\n",
              "\n",
              "  <style>\n",
              "    .colab-df-container {\n",
              "      display:flex;\n",
              "      gap: 12px;\n",
              "    }\n",
              "\n",
              "    .colab-df-convert {\n",
              "      background-color: #E8F0FE;\n",
              "      border: none;\n",
              "      border-radius: 50%;\n",
              "      cursor: pointer;\n",
              "      display: none;\n",
              "      fill: #1967D2;\n",
              "      height: 32px;\n",
              "      padding: 0 0 0 0;\n",
              "      width: 32px;\n",
              "    }\n",
              "\n",
              "    .colab-df-convert:hover {\n",
              "      background-color: #E2EBFA;\n",
              "      box-shadow: 0px 1px 2px rgba(60, 64, 67, 0.3), 0px 1px 3px 1px rgba(60, 64, 67, 0.15);\n",
              "      fill: #174EA6;\n",
              "    }\n",
              "\n",
              "    .colab-df-buttons div {\n",
              "      margin-bottom: 4px;\n",
              "    }\n",
              "\n",
              "    [theme=dark] .colab-df-convert {\n",
              "      background-color: #3B4455;\n",
              "      fill: #D2E3FC;\n",
              "    }\n",
              "\n",
              "    [theme=dark] .colab-df-convert:hover {\n",
              "      background-color: #434B5C;\n",
              "      box-shadow: 0px 1px 3px 1px rgba(0, 0, 0, 0.15);\n",
              "      filter: drop-shadow(0px 1px 2px rgba(0, 0, 0, 0.3));\n",
              "      fill: #FFFFFF;\n",
              "    }\n",
              "  </style>\n",
              "\n",
              "    <script>\n",
              "      const buttonEl =\n",
              "        document.querySelector('#df-e06d9c50-d5f2-4282-a3da-3a4c831c067f button.colab-df-convert');\n",
              "      buttonEl.style.display =\n",
              "        google.colab.kernel.accessAllowed ? 'block' : 'none';\n",
              "\n",
              "      async function convertToInteractive(key) {\n",
              "        const element = document.querySelector('#df-e06d9c50-d5f2-4282-a3da-3a4c831c067f');\n",
              "        const dataTable =\n",
              "          await google.colab.kernel.invokeFunction('convertToInteractive',\n",
              "                                                    [key], {});\n",
              "        if (!dataTable) return;\n",
              "\n",
              "        const docLinkHtml = 'Like what you see? Visit the ' +\n",
              "          '<a target=\"_blank\" href=https://colab.research.google.com/notebooks/data_table.ipynb>data table notebook</a>'\n",
              "          + ' to learn more about interactive tables.';\n",
              "        element.innerHTML = '';\n",
              "        dataTable['output_type'] = 'display_data';\n",
              "        await google.colab.output.renderOutput(dataTable, element);\n",
              "        const docLink = document.createElement('div');\n",
              "        docLink.innerHTML = docLinkHtml;\n",
              "        element.appendChild(docLink);\n",
              "      }\n",
              "    </script>\n",
              "  </div>\n",
              "\n",
              "\n",
              "<div id=\"df-01240a43-2b0f-4ff0-9818-7543f99b9875\">\n",
              "  <button class=\"colab-df-quickchart\" onclick=\"quickchart('df-01240a43-2b0f-4ff0-9818-7543f99b9875')\"\n",
              "            title=\"Suggest charts\"\n",
              "            style=\"display:none;\">\n",
              "\n",
              "<svg xmlns=\"http://www.w3.org/2000/svg\" height=\"24px\"viewBox=\"0 0 24 24\"\n",
              "     width=\"24px\">\n",
              "    <g>\n",
              "        <path d=\"M19 3H5c-1.1 0-2 .9-2 2v14c0 1.1.9 2 2 2h14c1.1 0 2-.9 2-2V5c0-1.1-.9-2-2-2zM9 17H7v-7h2v7zm4 0h-2V7h2v10zm4 0h-2v-4h2v4z\"/>\n",
              "    </g>\n",
              "</svg>\n",
              "  </button>\n",
              "\n",
              "<style>\n",
              "  .colab-df-quickchart {\n",
              "      --bg-color: #E8F0FE;\n",
              "      --fill-color: #1967D2;\n",
              "      --hover-bg-color: #E2EBFA;\n",
              "      --hover-fill-color: #174EA6;\n",
              "      --disabled-fill-color: #AAA;\n",
              "      --disabled-bg-color: #DDD;\n",
              "  }\n",
              "\n",
              "  [theme=dark] .colab-df-quickchart {\n",
              "      --bg-color: #3B4455;\n",
              "      --fill-color: #D2E3FC;\n",
              "      --hover-bg-color: #434B5C;\n",
              "      --hover-fill-color: #FFFFFF;\n",
              "      --disabled-bg-color: #3B4455;\n",
              "      --disabled-fill-color: #666;\n",
              "  }\n",
              "\n",
              "  .colab-df-quickchart {\n",
              "    background-color: var(--bg-color);\n",
              "    border: none;\n",
              "    border-radius: 50%;\n",
              "    cursor: pointer;\n",
              "    display: none;\n",
              "    fill: var(--fill-color);\n",
              "    height: 32px;\n",
              "    padding: 0;\n",
              "    width: 32px;\n",
              "  }\n",
              "\n",
              "  .colab-df-quickchart:hover {\n",
              "    background-color: var(--hover-bg-color);\n",
              "    box-shadow: 0 1px 2px rgba(60, 64, 67, 0.3), 0 1px 3px 1px rgba(60, 64, 67, 0.15);\n",
              "    fill: var(--button-hover-fill-color);\n",
              "  }\n",
              "\n",
              "  .colab-df-quickchart-complete:disabled,\n",
              "  .colab-df-quickchart-complete:disabled:hover {\n",
              "    background-color: var(--disabled-bg-color);\n",
              "    fill: var(--disabled-fill-color);\n",
              "    box-shadow: none;\n",
              "  }\n",
              "\n",
              "  .colab-df-spinner {\n",
              "    border: 2px solid var(--fill-color);\n",
              "    border-color: transparent;\n",
              "    border-bottom-color: var(--fill-color);\n",
              "    animation:\n",
              "      spin 1s steps(1) infinite;\n",
              "  }\n",
              "\n",
              "  @keyframes spin {\n",
              "    0% {\n",
              "      border-color: transparent;\n",
              "      border-bottom-color: var(--fill-color);\n",
              "      border-left-color: var(--fill-color);\n",
              "    }\n",
              "    20% {\n",
              "      border-color: transparent;\n",
              "      border-left-color: var(--fill-color);\n",
              "      border-top-color: var(--fill-color);\n",
              "    }\n",
              "    30% {\n",
              "      border-color: transparent;\n",
              "      border-left-color: var(--fill-color);\n",
              "      border-top-color: var(--fill-color);\n",
              "      border-right-color: var(--fill-color);\n",
              "    }\n",
              "    40% {\n",
              "      border-color: transparent;\n",
              "      border-right-color: var(--fill-color);\n",
              "      border-top-color: var(--fill-color);\n",
              "    }\n",
              "    60% {\n",
              "      border-color: transparent;\n",
              "      border-right-color: var(--fill-color);\n",
              "    }\n",
              "    80% {\n",
              "      border-color: transparent;\n",
              "      border-right-color: var(--fill-color);\n",
              "      border-bottom-color: var(--fill-color);\n",
              "    }\n",
              "    90% {\n",
              "      border-color: transparent;\n",
              "      border-bottom-color: var(--fill-color);\n",
              "    }\n",
              "  }\n",
              "</style>\n",
              "\n",
              "  <script>\n",
              "    async function quickchart(key) {\n",
              "      const quickchartButtonEl =\n",
              "        document.querySelector('#' + key + ' button');\n",
              "      quickchartButtonEl.disabled = true;  // To prevent multiple clicks.\n",
              "      quickchartButtonEl.classList.add('colab-df-spinner');\n",
              "      try {\n",
              "        const charts = await google.colab.kernel.invokeFunction(\n",
              "            'suggestCharts', [key], {});\n",
              "      } catch (error) {\n",
              "        console.error('Error during call to suggestCharts:', error);\n",
              "      }\n",
              "      quickchartButtonEl.classList.remove('colab-df-spinner');\n",
              "      quickchartButtonEl.classList.add('colab-df-quickchart-complete');\n",
              "    }\n",
              "    (() => {\n",
              "      let quickchartButtonEl =\n",
              "        document.querySelector('#df-01240a43-2b0f-4ff0-9818-7543f99b9875 button');\n",
              "      quickchartButtonEl.style.display =\n",
              "        google.colab.kernel.accessAllowed ? 'block' : 'none';\n",
              "    })();\n",
              "  </script>\n",
              "</div>\n",
              "\n",
              "    </div>\n",
              "  </div>\n"
            ],
            "application/vnd.google.colaboratory.intrinsic+json": {
              "type": "dataframe",
              "variable_name": "reviews",
              "summary": "{\n  \"name\": \"reviews\",\n  \"rows\": 4513,\n  \"fields\": [\n    {\n      \"column\": \"Rating\",\n      \"properties\": {\n        \"dtype\": \"number\",\n        \"std\": 1,\n        \"min\": 1,\n        \"max\": 5,\n        \"num_unique_values\": 5,\n        \"samples\": [\n          2,\n          3,\n          1\n        ],\n        \"semantic_type\": \"\",\n        \"description\": \"\"\n      }\n    },\n    {\n      \"column\": \"Review\",\n      \"properties\": {\n        \"dtype\": \"string\",\n        \"num_unique_values\": 3813,\n        \"samples\": [\n          \"Is very good use this app really relax the mind this is use increase my knowlege day by day\",\n          \"Dear TikTok Team my New account not viral my video please resolve my account issue @ashfaque_shah and viral my every video.\",\n          \"Ratings & Review on the Play Store On this page you can find information about ratings and reviews on Google Play, as well Google\\u2019s policies for posting reviews. You can write reviews for anything you've purchased or rented from Google Play. Reviews are a great way to help others decide what to get by telling them about your experience. Google doesn't pay anyone to rate or review content on Play, and we expect reviewers to be honest and unbiased. How ratings are calculated Play Store ratings\"\n        ],\n        \"semantic_type\": \"\",\n        \"description\": \"\"\n      }\n    },\n    {\n      \"column\": \"Timestamp\",\n      \"properties\": {\n        \"dtype\": \"object\",\n        \"num_unique_values\": 4475,\n        \"samples\": [\n          \"2024-11-14 08:32:54\",\n          \"2024-11-14 05:09:33\",\n          \"2024-11-14 16:54:35\"\n        ],\n        \"semantic_type\": \"\",\n        \"description\": \"\"\n      }\n    },\n    {\n      \"column\": \"split_words\",\n      \"properties\": {\n        \"dtype\": \"object\",\n        \"semantic_type\": \"\",\n        \"description\": \"\"\n      }\n    },\n    {\n      \"column\": \"word_count\",\n      \"properties\": {\n        \"dtype\": \"number\",\n        \"std\": 16,\n        \"min\": 1,\n        \"max\": 124,\n        \"num_unique_values\": 104,\n        \"samples\": [\n          20,\n          86,\n          44\n        ],\n        \"semantic_type\": \"\",\n        \"description\": \"\"\n      }\n    },\n    {\n      \"column\": \"cleaned_review\",\n      \"properties\": {\n        \"dtype\": \"string\",\n        \"num_unique_values\": 3581,\n        \"samples\": [\n          \"please video viral karo\",\n          \"glitch ahd bad cant use search tiktok shop\",\n          \"grandma never let play take much fun youtube\"\n        ],\n        \"semantic_type\": \"\",\n        \"description\": \"\"\n      }\n    },\n    {\n      \"column\": \"detected_language\",\n      \"properties\": {\n        \"dtype\": \"category\",\n        \"num_unique_values\": 9,\n        \"samples\": [\n          \"ceb\",\n          \"de\",\n          \"it\"\n        ],\n        \"semantic_type\": \"\",\n        \"description\": \"\"\n      }\n    },\n    {\n      \"column\": \"translated_review\",\n      \"properties\": {\n        \"dtype\": \"string\",\n        \"num_unique_values\": 3550,\n        \"samples\": [\n          \"got suspended age restrict people say voice sounded like kid got suspended till november 14 2029 being random girl seemed one star ticktock\",\n          \"stem tax go slow load video comments freeze force close 15 video phone issue clear serviceinternet issue either ensure tricked app intentionally good sign finally install also stop asking view contact creep means\",\n          \"tie to account vital karp\"\n        ],\n        \"semantic_type\": \"\",\n        \"description\": \"\"\n      }\n    },\n    {\n      \"column\": \"lemmatized_review\",\n      \"properties\": {\n        \"dtype\": \"string\",\n        \"num_unique_values\": 3535,\n        \"samples\": [\n          \"excellent app\",\n          \"tiktok ill never download your fair there communication gun decision everything take one side put property violation time never download gun need learn respect every race earth\",\n          \"please unburned friend karay king accountunbanned please unburned please unbannend please\"\n        ],\n        \"semantic_type\": \"\",\n        \"description\": \"\"\n      }\n    }\n  ]\n}"
            }
          },
          "metadata": {},
          "execution_count": 59
        }
      ]
    },
    {
      "cell_type": "markdown",
      "source": [
        "**Print the count of unique words in the text.**\n"
      ],
      "metadata": {
        "id": "kU6IkF_qk2WO"
      }
    },
    {
      "cell_type": "code",
      "source": [
        "if 'lemmatized_review' in reviews.columns:\n",
        "    # Combine all lemmatized reviews into one single string\n",
        "    all_words = ' '.join(reviews['lemmatized_review'].dropna()).split()\n",
        "\n",
        "    # Convert to a set to get unique words\n",
        "    unique_words = set(all_words)\n",
        "\n",
        "    # Print the count of unique words\n",
        "    print(f\"Count of unique words in the lemmatized text: {len(unique_words)}\")\n",
        "else:\n",
        "    print(\"Column 'lemmatized_review' not found in the dataset.\")\n"
      ],
      "metadata": {
        "colab": {
          "base_uri": "https://localhost:8080/"
        },
        "id": "ISj-EdQrXnQv",
        "outputId": "6d5848ff-2ec4-4ecf-ea3e-1477b58b35fa"
      },
      "execution_count": 60,
      "outputs": [
        {
          "output_type": "stream",
          "name": "stdout",
          "text": [
            "Count of unique words in the lemmatized text: 4823\n"
          ]
        }
      ]
    },
    {
      "cell_type": "markdown",
      "source": [
        "**Save Processed Data to CSV**"
      ],
      "metadata": {
        "id": "99NjhOCBlCGx"
      }
    },
    {
      "cell_type": "code",
      "source": [
        "# Check if the required columns exist\n",
        "required_columns = ['lemmatized_review', 'Rating', 'Timestamp']\n",
        "if all(column in reviews.columns for column in required_columns):\n",
        "    # Create a new DataFrame with selected columns\n",
        "    processed_data = reviews[['lemmatized_review', 'Rating', 'Timestamp']].rename(\n",
        "        columns={'lemmatized_review': 'text'}\n",
        "    )\n",
        "\n",
        "    # Save to CSV\n",
        "    processed_data.to_csv('processed_reviews.csv', index=False)\n",
        "    print(\"Processed data saved successfully to 'processed_reviews.csv'.\")\n",
        "else:\n",
        "    print(\"One or more required columns ('lemmatized_review', 'Rating', 'Timestamp') are missing.\")\n"
      ],
      "metadata": {
        "colab": {
          "base_uri": "https://localhost:8080/"
        },
        "id": "ldf7fH-9Ytob",
        "outputId": "e1faa555-44cd-498e-e3b3-6ba8dceaf1de"
      },
      "execution_count": 61,
      "outputs": [
        {
          "output_type": "stream",
          "name": "stdout",
          "text": [
            "Processed data saved successfully to 'processed_reviews.csv'.\n"
          ]
        }
      ]
    }
  ],
  "metadata": {
    "colab": {
      "provenance": []
    },
    "kernelspec": {
      "display_name": "Python 3",
      "name": "python3"
    },
    "language_info": {
      "name": "python"
    }
  },
  "nbformat": 4,
  "nbformat_minor": 0
}